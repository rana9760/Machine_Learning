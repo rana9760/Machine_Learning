{
 "cells": [
  {
   "cell_type": "code",
   "execution_count": 1,
   "id": "995657cb",
   "metadata": {},
   "outputs": [
    {
     "data": {
      "text/plain": [
       "<Figure size 432x216 with 0 Axes>"
      ]
     },
     "metadata": {},
     "output_type": "display_data"
    }
   ],
   "source": [
    "#Packages related to general operating system & warnings\n",
    "import os \n",
    "import warnings\n",
    "warnings.filterwarnings('ignore')\n",
    "\n",
    "#Packages related to data importing, manipulation, exploratory data analysis, data understanding\n",
    "import numpy as np\n",
    "import pandas as pd\n",
    "from pandas import Series, DataFrame\n",
    "import pandas_profiling\n",
    "import scipy.stats as stats\n",
    "\n",
    "#Packages related to data visualizaiton\n",
    "import seaborn as sns\n",
    "import matplotlib.pyplot as plt\n",
    "%matplotlib inline\n",
    "\n",
    "#Setting plot sizes and type of plot\n",
    "plt.rc(\"font\", size=14)\n",
    "plt.rcParams['axes.grid'] = True\n",
    "plt.figure(figsize=(6,3))\n",
    "plt.gray()\n",
    "\n",
    "from matplotlib.backends.backend_pdf import PdfPages\n",
    "\n",
    "#Modules related to split the data & gridsearch\n",
    "from sklearn.model_selection import train_test_split, GridSearchCV\n",
    "\n",
    "#Module related to calculation of metrics\n",
    "from sklearn import metrics\n",
    "\n",
    "#Module related to VIF \n",
    "from statsmodels.stats.outliers_influence import variance_inflation_factor\n",
    "\n",
    "#Modules related to preprocessing (Imputation of missings, standardiszation, new features creation, converting categorical to numerical)\n",
    "from sklearn.impute import MissingIndicator, SimpleImputer\n",
    "from sklearn.preprocessing import  PolynomialFeatures, KBinsDiscretizer, FunctionTransformer\n",
    "from sklearn.preprocessing import StandardScaler, MinMaxScaler, MaxAbsScaler\n",
    "from sklearn.preprocessing import LabelEncoder, OneHotEncoder, LabelBinarizer, OrdinalEncoder\n",
    "\n",
    "#Moudles related to feature selection\n",
    "from sklearn.feature_selection import RFE, RFECV, SelectKBest, chi2, SelectPercentile, f_classif, mutual_info_classif, f_regression, VarianceThreshold, SelectFromModel, mutual_info_classif, mutual_info_regression, SelectFpr, SelectFdr, SelectFwe\n",
    "\n",
    "#Modules related key techniques of supervised learning \n",
    "import statsmodels.formula.api as smf\n",
    "import statsmodels.tsa as tsa\n",
    "\n",
    "from sklearn.linear_model import LogisticRegression, LinearRegression, ElasticNet, Lasso, Ridge\n",
    "from sklearn.neighbors import KNeighborsClassifier, KNeighborsRegressor\n",
    "from sklearn.tree import DecisionTreeClassifier, DecisionTreeRegressor #, export_graphviz, export\n",
    "from sklearn.ensemble import BaggingClassifier, BaggingRegressor,RandomForestClassifier,RandomForestRegressor\n",
    "from sklearn.ensemble import GradientBoostingClassifier,GradientBoostingRegressor, AdaBoostClassifier, AdaBoostRegressor \n",
    "from xgboost import XGBClassifier, XGBRegressor\n",
    "from sklearn.naive_bayes import BernoulliNB, MultinomialNB, GaussianNB\n",
    "from sklearn.svm import LinearSVC, LinearSVR, SVC, SVR"
   ]
  },
  {
   "cell_type": "code",
   "execution_count": 2,
   "id": "a2626d4a",
   "metadata": {},
   "outputs": [],
   "source": [
    "# Load the data :\n",
    "Attack_Back = pd.read_csv('C:/Users/ashis/OneDrive/Documents/Data Science 360 Assignment/Machine learning/Case Study - 2/Data_of_Attack_Back.csv')"
   ]
  },
  {
   "cell_type": "code",
   "execution_count": 3,
   "id": "84348313",
   "metadata": {},
   "outputs": [],
   "source": [
    "Attack_Back['attack_based'] = 'Back'"
   ]
  },
  {
   "cell_type": "code",
   "execution_count": 4,
   "id": "9072103b",
   "metadata": {},
   "outputs": [
    {
     "data": {
      "text/plain": [
       "(968, 42)"
      ]
     },
     "execution_count": 4,
     "metadata": {},
     "output_type": "execute_result"
    }
   ],
   "source": [
    "Attack_Back.shape"
   ]
  },
  {
   "cell_type": "code",
   "execution_count": 5,
   "id": "1847cdd7",
   "metadata": {},
   "outputs": [],
   "source": [
    "#Attack_Back.isna().sum()"
   ]
  },
  {
   "cell_type": "code",
   "execution_count": 6,
   "id": "e6af682f",
   "metadata": {},
   "outputs": [],
   "source": [
    "#Attack_Back.columns"
   ]
  },
  {
   "cell_type": "code",
   "execution_count": 7,
   "id": "a87d81d5",
   "metadata": {},
   "outputs": [],
   "source": [
    "# Load the data :\n",
    "Attack_Back_BufferOverflow = pd.read_csv('C:/Users/ashis/OneDrive/Documents/Data Science 360 Assignment/Machine learning/Case Study - 2/Data_of_Attack_Back_BufferOverflow.csv')"
   ]
  },
  {
   "cell_type": "code",
   "execution_count": 8,
   "id": "18225480",
   "metadata": {},
   "outputs": [],
   "source": [
    "Attack_Back_BufferOverflow['attack_based'] = 'BufferOverflow'"
   ]
  },
  {
   "cell_type": "code",
   "execution_count": 9,
   "id": "9f8f2933",
   "metadata": {},
   "outputs": [
    {
     "data": {
      "text/plain": [
       "(30, 42)"
      ]
     },
     "execution_count": 9,
     "metadata": {},
     "output_type": "execute_result"
    }
   ],
   "source": [
    "Attack_Back_BufferOverflow.shape"
   ]
  },
  {
   "cell_type": "code",
   "execution_count": 10,
   "id": "d991d075",
   "metadata": {},
   "outputs": [],
   "source": [
    "#Attack_Back_BufferOverflow.isna().sum()"
   ]
  },
  {
   "cell_type": "code",
   "execution_count": 11,
   "id": "b4114b82",
   "metadata": {},
   "outputs": [],
   "source": [
    "# Load the data :\n",
    "Attack_Back_FTPWrite = pd.read_csv('C:/Users/ashis/OneDrive/Documents/Data Science 360 Assignment/Machine learning/Case Study - 2/Data_of_Attack_Back_FTPWrite.csv')"
   ]
  },
  {
   "cell_type": "code",
   "execution_count": 12,
   "id": "4c962640",
   "metadata": {},
   "outputs": [
    {
     "data": {
      "text/plain": [
       "(8, 41)"
      ]
     },
     "execution_count": 12,
     "metadata": {},
     "output_type": "execute_result"
    }
   ],
   "source": [
    "Attack_Back_FTPWrite.shape"
   ]
  },
  {
   "cell_type": "code",
   "execution_count": 13,
   "id": "0feec55a",
   "metadata": {},
   "outputs": [],
   "source": [
    "Attack_Back_FTPWrite['attack_based'] = 'FTPWrite'"
   ]
  },
  {
   "cell_type": "code",
   "execution_count": 14,
   "id": "dac107de",
   "metadata": {},
   "outputs": [],
   "source": [
    "#Attack_Back_FTPWrite.isna().sum()"
   ]
  },
  {
   "cell_type": "code",
   "execution_count": 15,
   "id": "d710e262",
   "metadata": {},
   "outputs": [],
   "source": [
    "# Load the data :\n",
    "Attack_Back_GuessPassword = pd.read_csv('C:/Users/ashis/OneDrive/Documents/Data Science 360 Assignment/Machine learning/Case Study - 2/Data_of_Attack_Back_GuessPassword.csv')"
   ]
  },
  {
   "cell_type": "code",
   "execution_count": 16,
   "id": "99566113",
   "metadata": {},
   "outputs": [
    {
     "data": {
      "text/plain": [
       "(53, 41)"
      ]
     },
     "execution_count": 16,
     "metadata": {},
     "output_type": "execute_result"
    }
   ],
   "source": [
    "Attack_Back_GuessPassword.shape"
   ]
  },
  {
   "cell_type": "code",
   "execution_count": 17,
   "id": "6b1eb18e",
   "metadata": {},
   "outputs": [],
   "source": [
    "Attack_Back_GuessPassword['attack_based'] = 'GuessPassword'"
   ]
  },
  {
   "cell_type": "code",
   "execution_count": 18,
   "id": "e0217c70",
   "metadata": {},
   "outputs": [],
   "source": [
    "#Attack_Back_GuessPassword.isna().sum()"
   ]
  },
  {
   "cell_type": "code",
   "execution_count": 19,
   "id": "8a6b99af",
   "metadata": {},
   "outputs": [],
   "source": [
    "# Load the data :\n",
    "Attack_Back_Neptune = pd.read_csv('C:/Users/ashis/OneDrive/Documents/Data Science 360 Assignment/Machine learning/Case Study - 2/Data_of_Attack_Back_Neptune.csv')"
   ]
  },
  {
   "cell_type": "code",
   "execution_count": 20,
   "id": "c96fb39d",
   "metadata": {},
   "outputs": [
    {
     "data": {
      "text/plain": [
       "(227228, 41)"
      ]
     },
     "execution_count": 20,
     "metadata": {},
     "output_type": "execute_result"
    }
   ],
   "source": [
    "Attack_Back_Neptune.shape"
   ]
  },
  {
   "cell_type": "code",
   "execution_count": 21,
   "id": "2d8b9093",
   "metadata": {},
   "outputs": [],
   "source": [
    "Attack_Back_Neptune['attack_based'] = 'Neptune'"
   ]
  },
  {
   "cell_type": "code",
   "execution_count": 22,
   "id": "76f1d63b",
   "metadata": {},
   "outputs": [],
   "source": [
    "#Attack_Back_Neptune.isna().sum()"
   ]
  },
  {
   "cell_type": "code",
   "execution_count": 23,
   "id": "a20c630e",
   "metadata": {},
   "outputs": [],
   "source": [
    "# Load the data :\n",
    "Attack_Back_NMap = pd.read_csv('C:/Users/ashis/OneDrive/Documents/Data Science 360 Assignment/Machine learning/Case Study - 2/Data_of_Attack_Back_NMap.csv')"
   ]
  },
  {
   "cell_type": "code",
   "execution_count": 24,
   "id": "dca6094b",
   "metadata": {},
   "outputs": [
    {
     "data": {
      "text/plain": [
       "(1554, 41)"
      ]
     },
     "execution_count": 24,
     "metadata": {},
     "output_type": "execute_result"
    }
   ],
   "source": [
    "Attack_Back_NMap.shape"
   ]
  },
  {
   "cell_type": "code",
   "execution_count": 25,
   "id": "da79d5bd",
   "metadata": {},
   "outputs": [],
   "source": [
    "Attack_Back_NMap['attack_based'] = 'NMap'"
   ]
  },
  {
   "cell_type": "code",
   "execution_count": 26,
   "id": "f662de3b",
   "metadata": {},
   "outputs": [],
   "source": [
    "#Attack_Back_NMap.isna().sum()"
   ]
  },
  {
   "cell_type": "code",
   "execution_count": 27,
   "id": "ee367a07",
   "metadata": {},
   "outputs": [],
   "source": [
    "# Load the data :\n",
    "Attack_Back_Normal = pd.read_csv('C:/Users/ashis/OneDrive/Documents/Data Science 360 Assignment/Machine learning/Case Study - 2/Data_of_Attack_Back_Normal.csv')"
   ]
  },
  {
   "cell_type": "code",
   "execution_count": 28,
   "id": "146ca44e",
   "metadata": {},
   "outputs": [
    {
     "data": {
      "text/plain": [
       "(576710, 41)"
      ]
     },
     "execution_count": 28,
     "metadata": {},
     "output_type": "execute_result"
    }
   ],
   "source": [
    "Attack_Back_Normal.shape"
   ]
  },
  {
   "cell_type": "code",
   "execution_count": 29,
   "id": "c1bc643c",
   "metadata": {},
   "outputs": [],
   "source": [
    "Attack_Back_Normal['attack_based'] = 'Normal'"
   ]
  },
  {
   "cell_type": "code",
   "execution_count": 30,
   "id": "88d98297",
   "metadata": {},
   "outputs": [],
   "source": [
    "#Attack_Back_Normal.isna().sum()"
   ]
  },
  {
   "cell_type": "code",
   "execution_count": 31,
   "id": "4d02c137",
   "metadata": {},
   "outputs": [],
   "source": [
    "# Load the data :\n",
    "Attack_Back_PortSweep = pd.read_csv('C:/Users/ashis/OneDrive/Documents/Data Science 360 Assignment/Machine learning/Case Study - 2/Data_of_Attack_Back_PortSweep.csv')"
   ]
  },
  {
   "cell_type": "code",
   "execution_count": 32,
   "id": "534148c8",
   "metadata": {},
   "outputs": [
    {
     "data": {
      "text/plain": [
       "(2964, 41)"
      ]
     },
     "execution_count": 32,
     "metadata": {},
     "output_type": "execute_result"
    }
   ],
   "source": [
    "Attack_Back_PortSweep.shape"
   ]
  },
  {
   "cell_type": "code",
   "execution_count": 33,
   "id": "672e9e04",
   "metadata": {},
   "outputs": [],
   "source": [
    "Attack_Back_PortSweep['attack_based'] = 'PortSweep'"
   ]
  },
  {
   "cell_type": "code",
   "execution_count": 34,
   "id": "cfe387d8",
   "metadata": {},
   "outputs": [],
   "source": [
    "#Attack_Back_PortSweep.isna().sum()"
   ]
  },
  {
   "cell_type": "code",
   "execution_count": 35,
   "id": "cde41c86",
   "metadata": {},
   "outputs": [],
   "source": [
    "# Load the data :\n",
    "Attack_Back_RootKit = pd.read_csv('C:/Users/ashis/OneDrive/Documents/Data Science 360 Assignment/Machine learning/Case Study - 2/Data_of_Attack_Back_RootKit.csv')"
   ]
  },
  {
   "cell_type": "code",
   "execution_count": 36,
   "id": "0e580e64",
   "metadata": {},
   "outputs": [
    {
     "data": {
      "text/plain": [
       "(10, 41)"
      ]
     },
     "execution_count": 36,
     "metadata": {},
     "output_type": "execute_result"
    }
   ],
   "source": [
    "Attack_Back_RootKit.shape"
   ]
  },
  {
   "cell_type": "code",
   "execution_count": 37,
   "id": "885bc05b",
   "metadata": {},
   "outputs": [],
   "source": [
    "Attack_Back_RootKit['attack_based'] = 'RootKit'"
   ]
  },
  {
   "cell_type": "code",
   "execution_count": 38,
   "id": "1ed67e3f",
   "metadata": {},
   "outputs": [],
   "source": [
    "#Attack_Back_RootKit.isna().sum()"
   ]
  },
  {
   "cell_type": "code",
   "execution_count": 39,
   "id": "f871babc",
   "metadata": {},
   "outputs": [],
   "source": [
    "# Load the data :\n",
    "Attack_Back_Satan = pd.read_csv('C:/Users/ashis/OneDrive/Documents/Data Science 360 Assignment/Machine learning/Case Study - 2/Data_of_Attack_Back_Satan.csv')"
   ]
  },
  {
   "cell_type": "code",
   "execution_count": 40,
   "id": "058dfb32",
   "metadata": {},
   "outputs": [
    {
     "data": {
      "text/plain": [
       "(5019, 41)"
      ]
     },
     "execution_count": 40,
     "metadata": {},
     "output_type": "execute_result"
    }
   ],
   "source": [
    "Attack_Back_Satan.shape"
   ]
  },
  {
   "cell_type": "code",
   "execution_count": 41,
   "id": "4f8bbf0d",
   "metadata": {},
   "outputs": [],
   "source": [
    "Attack_Back_Satan['attack_based'] = 'Satan'"
   ]
  },
  {
   "cell_type": "code",
   "execution_count": 42,
   "id": "b3b225ee",
   "metadata": {},
   "outputs": [],
   "source": [
    "#Attack_Back_Satan.isna().sum()"
   ]
  },
  {
   "cell_type": "code",
   "execution_count": 43,
   "id": "5cc83159",
   "metadata": {},
   "outputs": [],
   "source": [
    "# Load the data :\n",
    "Attack_Back_Smurf = pd.read_csv('C:/Users/ashis/OneDrive/Documents/Data Science 360 Assignment/Machine learning/Case Study - 2/Data_of_Attack_Back_Smurf.csv')"
   ]
  },
  {
   "cell_type": "code",
   "execution_count": 44,
   "id": "3b942f4b",
   "metadata": {},
   "outputs": [
    {
     "data": {
      "text/plain": [
       "(3007, 41)"
      ]
     },
     "execution_count": 44,
     "metadata": {},
     "output_type": "execute_result"
    }
   ],
   "source": [
    "Attack_Back_Smurf.shape"
   ]
  },
  {
   "cell_type": "code",
   "execution_count": 45,
   "id": "98599ef4",
   "metadata": {},
   "outputs": [],
   "source": [
    "Attack_Back_Smurf['attack_based'] = 'Smurf'"
   ]
  },
  {
   "cell_type": "code",
   "execution_count": 46,
   "id": "6d920fa3",
   "metadata": {},
   "outputs": [],
   "source": [
    "#Attack_Back_Smurf.isna().sum()"
   ]
  },
  {
   "cell_type": "code",
   "execution_count": null,
   "id": "12c670dc",
   "metadata": {},
   "outputs": [],
   "source": []
  },
  {
   "cell_type": "markdown",
   "id": "4c4dd291",
   "metadata": {},
   "source": [
    "### Binary Classification: "
   ]
  },
  {
   "cell_type": "code",
   "execution_count": 47,
   "id": "58003a73",
   "metadata": {},
   "outputs": [],
   "source": [
    "df_Old = pd.concat( [Attack_Back, Attack_Back_BufferOverflow, Attack_Back_FTPWrite, Attack_Back_GuessPassword,Attack_Back_Neptune,\n",
    "Attack_Back_NMap,Attack_Back_Normal,Attack_Back_PortSweep,Attack_Back_RootKit,Attack_Back_Satan, Attack_Back_Smurf ], axis = 0 )"
   ]
  },
  {
   "cell_type": "code",
   "execution_count": 48,
   "id": "3dcf78b0",
   "metadata": {},
   "outputs": [
    {
     "data": {
      "text/plain": [
       "(817551, 42)"
      ]
     },
     "execution_count": 48,
     "metadata": {},
     "output_type": "execute_result"
    }
   ],
   "source": [
    "df_Old.shape"
   ]
  },
  {
   "cell_type": "code",
   "execution_count": 49,
   "id": "c143bbf5",
   "metadata": {},
   "outputs": [],
   "source": [
    "# As we have large amount of data so we will take a sample of data from it .\n",
    "df = df_Old.sample(frac=0.10 , random_state=123)"
   ]
  },
  {
   "cell_type": "code",
   "execution_count": 50,
   "id": "4abbc683",
   "metadata": {},
   "outputs": [
    {
     "data": {
      "text/plain": [
       "(81755, 42)"
      ]
     },
     "execution_count": 50,
     "metadata": {},
     "output_type": "execute_result"
    }
   ],
   "source": [
    "df.shape"
   ]
  },
  {
   "cell_type": "code",
   "execution_count": 51,
   "id": "7f8a6b04",
   "metadata": {},
   "outputs": [
    {
     "data": {
      "text/plain": [
       "Index(['duration', ' protocol_type', ' service', ' flag', ' src_bytes',\n",
       "       ' dst_bytes', ' land', ' wrong_fragment', ' urgent', ' hot',\n",
       "       ' num_failed_logins', ' logged_in', ' num_compromised', ' root_shell',\n",
       "       ' su_attempted', ' num_root', ' num_file_creations', ' num_shells',\n",
       "       ' num_access_files', ' num_outbound_cmds', ' is_host_login',\n",
       "       ' is_guest_login', ' count', ' srv_count', ' serror_rate',\n",
       "       ' srv_error_rate', ' rerror_rate', ' srv_rerror_rate', ' same_srv_rate',\n",
       "       ' diff_srv_rate', ' srv_diff_host_rate', ' dst_host_count',\n",
       "       ' dst_host_srv_count', ' dst_host_same_srv_rate',\n",
       "       ' dst_host_diff_srv_rate', ' dst_host_same_src_port_rate',\n",
       "       ' dst_host_srv_diff_host_rate', ' dst_host_serror_rate',\n",
       "       ' dst_host_srv_serror_rate', ' dst_host_rerror_rate',\n",
       "       ' dst_host_srv_rerror_rate', 'attack_based'],\n",
       "      dtype='object')"
      ]
     },
     "execution_count": 51,
     "metadata": {},
     "output_type": "execute_result"
    }
   ],
   "source": [
    "df.columns"
   ]
  },
  {
   "cell_type": "code",
   "execution_count": 52,
   "id": "981601c8",
   "metadata": {},
   "outputs": [
    {
     "data": {
      "text/html": [
       "<div>\n",
       "<style scoped>\n",
       "    .dataframe tbody tr th:only-of-type {\n",
       "        vertical-align: middle;\n",
       "    }\n",
       "\n",
       "    .dataframe tbody tr th {\n",
       "        vertical-align: top;\n",
       "    }\n",
       "\n",
       "    .dataframe thead th {\n",
       "        text-align: right;\n",
       "    }\n",
       "</style>\n",
       "<table border=\"1\" class=\"dataframe\">\n",
       "  <thead>\n",
       "    <tr style=\"text-align: right;\">\n",
       "      <th></th>\n",
       "      <th>duration</th>\n",
       "      <th>protocol_type</th>\n",
       "      <th>service</th>\n",
       "      <th>flag</th>\n",
       "      <th>src_bytes</th>\n",
       "      <th>dst_bytes</th>\n",
       "      <th>land</th>\n",
       "      <th>wrong_fragment</th>\n",
       "      <th>urgent</th>\n",
       "      <th>hot</th>\n",
       "      <th>...</th>\n",
       "      <th>dst_host_srv_count</th>\n",
       "      <th>dst_host_same_srv_rate</th>\n",
       "      <th>dst_host_diff_srv_rate</th>\n",
       "      <th>dst_host_same_src_port_rate</th>\n",
       "      <th>dst_host_srv_diff_host_rate</th>\n",
       "      <th>dst_host_serror_rate</th>\n",
       "      <th>dst_host_srv_serror_rate</th>\n",
       "      <th>dst_host_rerror_rate</th>\n",
       "      <th>dst_host_srv_rerror_rate</th>\n",
       "      <th>attack_based</th>\n",
       "    </tr>\n",
       "  </thead>\n",
       "  <tbody>\n",
       "    <tr>\n",
       "      <th>134909</th>\n",
       "      <td>0.0000</td>\n",
       "      <td>0.0</td>\n",
       "      <td>0.00</td>\n",
       "      <td>0.0</td>\n",
       "      <td>0.00246</td>\n",
       "      <td>0.01521</td>\n",
       "      <td>0</td>\n",
       "      <td>0.0</td>\n",
       "      <td>0.0</td>\n",
       "      <td>0.0</td>\n",
       "      <td>...</td>\n",
       "      <td>0.255</td>\n",
       "      <td>0.100</td>\n",
       "      <td>0.000</td>\n",
       "      <td>0.000</td>\n",
       "      <td>0.000</td>\n",
       "      <td>0.0</td>\n",
       "      <td>0.000</td>\n",
       "      <td>0.0</td>\n",
       "      <td>0.0</td>\n",
       "      <td>Normal</td>\n",
       "    </tr>\n",
       "    <tr>\n",
       "      <th>571589</th>\n",
       "      <td>0.0001</td>\n",
       "      <td>0.0</td>\n",
       "      <td>0.01</td>\n",
       "      <td>0.0</td>\n",
       "      <td>0.01421</td>\n",
       "      <td>0.00331</td>\n",
       "      <td>0</td>\n",
       "      <td>0.0</td>\n",
       "      <td>0.0</td>\n",
       "      <td>0.0</td>\n",
       "      <td>...</td>\n",
       "      <td>0.179</td>\n",
       "      <td>0.089</td>\n",
       "      <td>0.011</td>\n",
       "      <td>0.006</td>\n",
       "      <td>0.001</td>\n",
       "      <td>0.0</td>\n",
       "      <td>0.001</td>\n",
       "      <td>0.0</td>\n",
       "      <td>0.0</td>\n",
       "      <td>Normal</td>\n",
       "    </tr>\n",
       "    <tr>\n",
       "      <th>47483</th>\n",
       "      <td>0.0216</td>\n",
       "      <td>0.0</td>\n",
       "      <td>0.00</td>\n",
       "      <td>0.0</td>\n",
       "      <td>0.00264</td>\n",
       "      <td>0.00382</td>\n",
       "      <td>0</td>\n",
       "      <td>0.0</td>\n",
       "      <td>0.0</td>\n",
       "      <td>0.0</td>\n",
       "      <td>...</td>\n",
       "      <td>0.255</td>\n",
       "      <td>0.100</td>\n",
       "      <td>0.000</td>\n",
       "      <td>0.001</td>\n",
       "      <td>0.004</td>\n",
       "      <td>0.0</td>\n",
       "      <td>0.000</td>\n",
       "      <td>0.0</td>\n",
       "      <td>0.0</td>\n",
       "      <td>Normal</td>\n",
       "    </tr>\n",
       "    <tr>\n",
       "      <th>129196</th>\n",
       "      <td>0.0000</td>\n",
       "      <td>0.0</td>\n",
       "      <td>0.00</td>\n",
       "      <td>0.0</td>\n",
       "      <td>0.00179</td>\n",
       "      <td>0.05592</td>\n",
       "      <td>0</td>\n",
       "      <td>0.0</td>\n",
       "      <td>0.0</td>\n",
       "      <td>0.0</td>\n",
       "      <td>...</td>\n",
       "      <td>0.255</td>\n",
       "      <td>0.100</td>\n",
       "      <td>0.000</td>\n",
       "      <td>0.002</td>\n",
       "      <td>0.002</td>\n",
       "      <td>0.0</td>\n",
       "      <td>0.000</td>\n",
       "      <td>0.0</td>\n",
       "      <td>0.0</td>\n",
       "      <td>Normal</td>\n",
       "    </tr>\n",
       "    <tr>\n",
       "      <th>265117</th>\n",
       "      <td>0.0002</td>\n",
       "      <td>0.0</td>\n",
       "      <td>0.01</td>\n",
       "      <td>0.0</td>\n",
       "      <td>0.02000</td>\n",
       "      <td>0.00332</td>\n",
       "      <td>0</td>\n",
       "      <td>0.0</td>\n",
       "      <td>0.0</td>\n",
       "      <td>0.0</td>\n",
       "      <td>...</td>\n",
       "      <td>0.160</td>\n",
       "      <td>0.076</td>\n",
       "      <td>0.002</td>\n",
       "      <td>0.001</td>\n",
       "      <td>0.001</td>\n",
       "      <td>0.0</td>\n",
       "      <td>0.000</td>\n",
       "      <td>0.0</td>\n",
       "      <td>0.0</td>\n",
       "      <td>Normal</td>\n",
       "    </tr>\n",
       "    <tr>\n",
       "      <th>...</th>\n",
       "      <td>...</td>\n",
       "      <td>...</td>\n",
       "      <td>...</td>\n",
       "      <td>...</td>\n",
       "      <td>...</td>\n",
       "      <td>...</td>\n",
       "      <td>...</td>\n",
       "      <td>...</td>\n",
       "      <td>...</td>\n",
       "      <td>...</td>\n",
       "      <td>...</td>\n",
       "      <td>...</td>\n",
       "      <td>...</td>\n",
       "      <td>...</td>\n",
       "      <td>...</td>\n",
       "      <td>...</td>\n",
       "      <td>...</td>\n",
       "      <td>...</td>\n",
       "      <td>...</td>\n",
       "      <td>...</td>\n",
       "      <td>...</td>\n",
       "    </tr>\n",
       "    <tr>\n",
       "      <th>246531</th>\n",
       "      <td>0.0000</td>\n",
       "      <td>0.0</td>\n",
       "      <td>0.00</td>\n",
       "      <td>0.0</td>\n",
       "      <td>0.00327</td>\n",
       "      <td>0.00392</td>\n",
       "      <td>0</td>\n",
       "      <td>0.0</td>\n",
       "      <td>0.0</td>\n",
       "      <td>0.0</td>\n",
       "      <td>...</td>\n",
       "      <td>0.255</td>\n",
       "      <td>0.100</td>\n",
       "      <td>0.000</td>\n",
       "      <td>0.000</td>\n",
       "      <td>0.000</td>\n",
       "      <td>0.0</td>\n",
       "      <td>0.000</td>\n",
       "      <td>0.0</td>\n",
       "      <td>0.0</td>\n",
       "      <td>Normal</td>\n",
       "    </tr>\n",
       "    <tr>\n",
       "      <th>514570</th>\n",
       "      <td>0.0000</td>\n",
       "      <td>0.0</td>\n",
       "      <td>0.00</td>\n",
       "      <td>0.0</td>\n",
       "      <td>0.00214</td>\n",
       "      <td>0.16249</td>\n",
       "      <td>0</td>\n",
       "      <td>0.0</td>\n",
       "      <td>0.0</td>\n",
       "      <td>0.0</td>\n",
       "      <td>...</td>\n",
       "      <td>0.255</td>\n",
       "      <td>0.100</td>\n",
       "      <td>0.000</td>\n",
       "      <td>0.002</td>\n",
       "      <td>0.001</td>\n",
       "      <td>0.0</td>\n",
       "      <td>0.000</td>\n",
       "      <td>0.0</td>\n",
       "      <td>0.0</td>\n",
       "      <td>Normal</td>\n",
       "    </tr>\n",
       "    <tr>\n",
       "      <th>254690</th>\n",
       "      <td>0.0000</td>\n",
       "      <td>0.0</td>\n",
       "      <td>0.00</td>\n",
       "      <td>0.0</td>\n",
       "      <td>0.00337</td>\n",
       "      <td>0.05006</td>\n",
       "      <td>0</td>\n",
       "      <td>0.0</td>\n",
       "      <td>0.0</td>\n",
       "      <td>0.0</td>\n",
       "      <td>...</td>\n",
       "      <td>0.255</td>\n",
       "      <td>0.100</td>\n",
       "      <td>0.000</td>\n",
       "      <td>0.003</td>\n",
       "      <td>0.004</td>\n",
       "      <td>0.0</td>\n",
       "      <td>0.000</td>\n",
       "      <td>0.0</td>\n",
       "      <td>0.0</td>\n",
       "      <td>Normal</td>\n",
       "    </tr>\n",
       "    <tr>\n",
       "      <th>117505</th>\n",
       "      <td>0.0000</td>\n",
       "      <td>0.0</td>\n",
       "      <td>0.01</td>\n",
       "      <td>0.0</td>\n",
       "      <td>0.02157</td>\n",
       "      <td>0.00333</td>\n",
       "      <td>0</td>\n",
       "      <td>0.0</td>\n",
       "      <td>0.0</td>\n",
       "      <td>0.0</td>\n",
       "      <td>...</td>\n",
       "      <td>0.147</td>\n",
       "      <td>0.065</td>\n",
       "      <td>0.015</td>\n",
       "      <td>0.005</td>\n",
       "      <td>0.002</td>\n",
       "      <td>0.0</td>\n",
       "      <td>0.000</td>\n",
       "      <td>0.0</td>\n",
       "      <td>0.0</td>\n",
       "      <td>Normal</td>\n",
       "    </tr>\n",
       "    <tr>\n",
       "      <th>319845</th>\n",
       "      <td>0.0000</td>\n",
       "      <td>0.0</td>\n",
       "      <td>0.00</td>\n",
       "      <td>0.0</td>\n",
       "      <td>0.00342</td>\n",
       "      <td>0.01511</td>\n",
       "      <td>0</td>\n",
       "      <td>0.0</td>\n",
       "      <td>0.0</td>\n",
       "      <td>0.0</td>\n",
       "      <td>...</td>\n",
       "      <td>0.255</td>\n",
       "      <td>0.100</td>\n",
       "      <td>0.000</td>\n",
       "      <td>0.002</td>\n",
       "      <td>0.006</td>\n",
       "      <td>0.0</td>\n",
       "      <td>0.000</td>\n",
       "      <td>0.0</td>\n",
       "      <td>0.0</td>\n",
       "      <td>Normal</td>\n",
       "    </tr>\n",
       "  </tbody>\n",
       "</table>\n",
       "<p>57612 rows × 42 columns</p>\n",
       "</div>"
      ],
      "text/plain": [
       "        duration   protocol_type   service   flag   src_bytes   dst_bytes  \\\n",
       "134909    0.0000             0.0      0.00    0.0     0.00246     0.01521   \n",
       "571589    0.0001             0.0      0.01    0.0     0.01421     0.00331   \n",
       "47483     0.0216             0.0      0.00    0.0     0.00264     0.00382   \n",
       "129196    0.0000             0.0      0.00    0.0     0.00179     0.05592   \n",
       "265117    0.0002             0.0      0.01    0.0     0.02000     0.00332   \n",
       "...          ...             ...       ...    ...         ...         ...   \n",
       "246531    0.0000             0.0      0.00    0.0     0.00327     0.00392   \n",
       "514570    0.0000             0.0      0.00    0.0     0.00214     0.16249   \n",
       "254690    0.0000             0.0      0.00    0.0     0.00337     0.05006   \n",
       "117505    0.0000             0.0      0.01    0.0     0.02157     0.00333   \n",
       "319845    0.0000             0.0      0.00    0.0     0.00342     0.01511   \n",
       "\n",
       "         land   wrong_fragment   urgent   hot  ...   dst_host_srv_count  \\\n",
       "134909      0              0.0      0.0   0.0  ...                0.255   \n",
       "571589      0              0.0      0.0   0.0  ...                0.179   \n",
       "47483       0              0.0      0.0   0.0  ...                0.255   \n",
       "129196      0              0.0      0.0   0.0  ...                0.255   \n",
       "265117      0              0.0      0.0   0.0  ...                0.160   \n",
       "...       ...              ...      ...   ...  ...                  ...   \n",
       "246531      0              0.0      0.0   0.0  ...                0.255   \n",
       "514570      0              0.0      0.0   0.0  ...                0.255   \n",
       "254690      0              0.0      0.0   0.0  ...                0.255   \n",
       "117505      0              0.0      0.0   0.0  ...                0.147   \n",
       "319845      0              0.0      0.0   0.0  ...                0.255   \n",
       "\n",
       "         dst_host_same_srv_rate   dst_host_diff_srv_rate  \\\n",
       "134909                    0.100                    0.000   \n",
       "571589                    0.089                    0.011   \n",
       "47483                     0.100                    0.000   \n",
       "129196                    0.100                    0.000   \n",
       "265117                    0.076                    0.002   \n",
       "...                         ...                      ...   \n",
       "246531                    0.100                    0.000   \n",
       "514570                    0.100                    0.000   \n",
       "254690                    0.100                    0.000   \n",
       "117505                    0.065                    0.015   \n",
       "319845                    0.100                    0.000   \n",
       "\n",
       "         dst_host_same_src_port_rate   dst_host_srv_diff_host_rate  \\\n",
       "134909                         0.000                         0.000   \n",
       "571589                         0.006                         0.001   \n",
       "47483                          0.001                         0.004   \n",
       "129196                         0.002                         0.002   \n",
       "265117                         0.001                         0.001   \n",
       "...                              ...                           ...   \n",
       "246531                         0.000                         0.000   \n",
       "514570                         0.002                         0.001   \n",
       "254690                         0.003                         0.004   \n",
       "117505                         0.005                         0.002   \n",
       "319845                         0.002                         0.006   \n",
       "\n",
       "         dst_host_serror_rate   dst_host_srv_serror_rate  \\\n",
       "134909                    0.0                      0.000   \n",
       "571589                    0.0                      0.001   \n",
       "47483                     0.0                      0.000   \n",
       "129196                    0.0                      0.000   \n",
       "265117                    0.0                      0.000   \n",
       "...                       ...                        ...   \n",
       "246531                    0.0                      0.000   \n",
       "514570                    0.0                      0.000   \n",
       "254690                    0.0                      0.000   \n",
       "117505                    0.0                      0.000   \n",
       "319845                    0.0                      0.000   \n",
       "\n",
       "         dst_host_rerror_rate   dst_host_srv_rerror_rate  attack_based  \n",
       "134909                    0.0                        0.0        Normal  \n",
       "571589                    0.0                        0.0        Normal  \n",
       "47483                     0.0                        0.0        Normal  \n",
       "129196                    0.0                        0.0        Normal  \n",
       "265117                    0.0                        0.0        Normal  \n",
       "...                       ...                        ...           ...  \n",
       "246531                    0.0                        0.0        Normal  \n",
       "514570                    0.0                        0.0        Normal  \n",
       "254690                    0.0                        0.0        Normal  \n",
       "117505                    0.0                        0.0        Normal  \n",
       "319845                    0.0                        0.0        Normal  \n",
       "\n",
       "[57612 rows x 42 columns]"
      ]
     },
     "execution_count": 52,
     "metadata": {},
     "output_type": "execute_result"
    }
   ],
   "source": [
    "df[df.attack_based == 'Normal']"
   ]
  },
  {
   "cell_type": "code",
   "execution_count": 53,
   "id": "89d5fa4d",
   "metadata": {},
   "outputs": [],
   "source": [
    "df['Binary_Flag'] = np.where(df.attack_based == 'Normal' , 0,1)"
   ]
  },
  {
   "cell_type": "code",
   "execution_count": 54,
   "id": "fc8cade6",
   "metadata": {},
   "outputs": [
    {
     "data": {
      "text/plain": [
       "(81755, 43)"
      ]
     },
     "execution_count": 54,
     "metadata": {},
     "output_type": "execute_result"
    }
   ],
   "source": [
    "df.shape"
   ]
  },
  {
   "cell_type": "code",
   "execution_count": 55,
   "id": "53b2aafb",
   "metadata": {},
   "outputs": [
    {
     "data": {
      "text/html": [
       "<div>\n",
       "<style scoped>\n",
       "    .dataframe tbody tr th:only-of-type {\n",
       "        vertical-align: middle;\n",
       "    }\n",
       "\n",
       "    .dataframe tbody tr th {\n",
       "        vertical-align: top;\n",
       "    }\n",
       "\n",
       "    .dataframe thead th {\n",
       "        text-align: right;\n",
       "    }\n",
       "</style>\n",
       "<table border=\"1\" class=\"dataframe\">\n",
       "  <thead>\n",
       "    <tr style=\"text-align: right;\">\n",
       "      <th></th>\n",
       "      <th>duration</th>\n",
       "      <th>protocol_type</th>\n",
       "      <th>service</th>\n",
       "      <th>flag</th>\n",
       "      <th>src_bytes</th>\n",
       "      <th>dst_bytes</th>\n",
       "      <th>land</th>\n",
       "      <th>wrong_fragment</th>\n",
       "      <th>urgent</th>\n",
       "      <th>hot</th>\n",
       "      <th>...</th>\n",
       "      <th>dst_host_same_srv_rate</th>\n",
       "      <th>dst_host_diff_srv_rate</th>\n",
       "      <th>dst_host_same_src_port_rate</th>\n",
       "      <th>dst_host_srv_diff_host_rate</th>\n",
       "      <th>dst_host_serror_rate</th>\n",
       "      <th>dst_host_srv_serror_rate</th>\n",
       "      <th>dst_host_rerror_rate</th>\n",
       "      <th>dst_host_srv_rerror_rate</th>\n",
       "      <th>attack_based</th>\n",
       "      <th>Binary_Flag</th>\n",
       "    </tr>\n",
       "  </thead>\n",
       "  <tbody>\n",
       "    <tr>\n",
       "      <th>141050</th>\n",
       "      <td>0.0000</td>\n",
       "      <td>0.0</td>\n",
       "      <td>0.12</td>\n",
       "      <td>0.07</td>\n",
       "      <td>0.00000</td>\n",
       "      <td>0.00000</td>\n",
       "      <td>0</td>\n",
       "      <td>0.0</td>\n",
       "      <td>0.0</td>\n",
       "      <td>0.0</td>\n",
       "      <td>...</td>\n",
       "      <td>0.001</td>\n",
       "      <td>0.006</td>\n",
       "      <td>0.000</td>\n",
       "      <td>0.000</td>\n",
       "      <td>0.1</td>\n",
       "      <td>0.100</td>\n",
       "      <td>0.0</td>\n",
       "      <td>0.0</td>\n",
       "      <td>Neptune</td>\n",
       "      <td>1</td>\n",
       "    </tr>\n",
       "    <tr>\n",
       "      <th>90742</th>\n",
       "      <td>0.0000</td>\n",
       "      <td>0.0</td>\n",
       "      <td>0.12</td>\n",
       "      <td>0.07</td>\n",
       "      <td>0.00000</td>\n",
       "      <td>0.00000</td>\n",
       "      <td>0</td>\n",
       "      <td>0.0</td>\n",
       "      <td>0.0</td>\n",
       "      <td>0.0</td>\n",
       "      <td>...</td>\n",
       "      <td>0.006</td>\n",
       "      <td>0.008</td>\n",
       "      <td>0.000</td>\n",
       "      <td>0.000</td>\n",
       "      <td>0.1</td>\n",
       "      <td>0.100</td>\n",
       "      <td>0.0</td>\n",
       "      <td>0.0</td>\n",
       "      <td>Neptune</td>\n",
       "      <td>1</td>\n",
       "    </tr>\n",
       "    <tr>\n",
       "      <th>134909</th>\n",
       "      <td>0.0000</td>\n",
       "      <td>0.0</td>\n",
       "      <td>0.00</td>\n",
       "      <td>0.00</td>\n",
       "      <td>0.00246</td>\n",
       "      <td>0.01521</td>\n",
       "      <td>0</td>\n",
       "      <td>0.0</td>\n",
       "      <td>0.0</td>\n",
       "      <td>0.0</td>\n",
       "      <td>...</td>\n",
       "      <td>0.100</td>\n",
       "      <td>0.000</td>\n",
       "      <td>0.000</td>\n",
       "      <td>0.000</td>\n",
       "      <td>0.0</td>\n",
       "      <td>0.000</td>\n",
       "      <td>0.0</td>\n",
       "      <td>0.0</td>\n",
       "      <td>Normal</td>\n",
       "      <td>0</td>\n",
       "    </tr>\n",
       "    <tr>\n",
       "      <th>571589</th>\n",
       "      <td>0.0001</td>\n",
       "      <td>0.0</td>\n",
       "      <td>0.01</td>\n",
       "      <td>0.00</td>\n",
       "      <td>0.01421</td>\n",
       "      <td>0.00331</td>\n",
       "      <td>0</td>\n",
       "      <td>0.0</td>\n",
       "      <td>0.0</td>\n",
       "      <td>0.0</td>\n",
       "      <td>...</td>\n",
       "      <td>0.089</td>\n",
       "      <td>0.011</td>\n",
       "      <td>0.006</td>\n",
       "      <td>0.001</td>\n",
       "      <td>0.0</td>\n",
       "      <td>0.001</td>\n",
       "      <td>0.0</td>\n",
       "      <td>0.0</td>\n",
       "      <td>Normal</td>\n",
       "      <td>0</td>\n",
       "    </tr>\n",
       "    <tr>\n",
       "      <th>47483</th>\n",
       "      <td>0.0216</td>\n",
       "      <td>0.0</td>\n",
       "      <td>0.00</td>\n",
       "      <td>0.00</td>\n",
       "      <td>0.00264</td>\n",
       "      <td>0.00382</td>\n",
       "      <td>0</td>\n",
       "      <td>0.0</td>\n",
       "      <td>0.0</td>\n",
       "      <td>0.0</td>\n",
       "      <td>...</td>\n",
       "      <td>0.100</td>\n",
       "      <td>0.000</td>\n",
       "      <td>0.001</td>\n",
       "      <td>0.004</td>\n",
       "      <td>0.0</td>\n",
       "      <td>0.000</td>\n",
       "      <td>0.0</td>\n",
       "      <td>0.0</td>\n",
       "      <td>Normal</td>\n",
       "      <td>0</td>\n",
       "    </tr>\n",
       "    <tr>\n",
       "      <th>...</th>\n",
       "      <td>...</td>\n",
       "      <td>...</td>\n",
       "      <td>...</td>\n",
       "      <td>...</td>\n",
       "      <td>...</td>\n",
       "      <td>...</td>\n",
       "      <td>...</td>\n",
       "      <td>...</td>\n",
       "      <td>...</td>\n",
       "      <td>...</td>\n",
       "      <td>...</td>\n",
       "      <td>...</td>\n",
       "      <td>...</td>\n",
       "      <td>...</td>\n",
       "      <td>...</td>\n",
       "      <td>...</td>\n",
       "      <td>...</td>\n",
       "      <td>...</td>\n",
       "      <td>...</td>\n",
       "      <td>...</td>\n",
       "      <td>...</td>\n",
       "    </tr>\n",
       "    <tr>\n",
       "      <th>514570</th>\n",
       "      <td>0.0000</td>\n",
       "      <td>0.0</td>\n",
       "      <td>0.00</td>\n",
       "      <td>0.00</td>\n",
       "      <td>0.00214</td>\n",
       "      <td>0.16249</td>\n",
       "      <td>0</td>\n",
       "      <td>0.0</td>\n",
       "      <td>0.0</td>\n",
       "      <td>0.0</td>\n",
       "      <td>...</td>\n",
       "      <td>0.100</td>\n",
       "      <td>0.000</td>\n",
       "      <td>0.002</td>\n",
       "      <td>0.001</td>\n",
       "      <td>0.0</td>\n",
       "      <td>0.000</td>\n",
       "      <td>0.0</td>\n",
       "      <td>0.0</td>\n",
       "      <td>Normal</td>\n",
       "      <td>0</td>\n",
       "    </tr>\n",
       "    <tr>\n",
       "      <th>134787</th>\n",
       "      <td>0.0000</td>\n",
       "      <td>0.0</td>\n",
       "      <td>0.12</td>\n",
       "      <td>0.07</td>\n",
       "      <td>0.00000</td>\n",
       "      <td>0.00000</td>\n",
       "      <td>0</td>\n",
       "      <td>0.0</td>\n",
       "      <td>0.0</td>\n",
       "      <td>0.0</td>\n",
       "      <td>...</td>\n",
       "      <td>0.006</td>\n",
       "      <td>0.007</td>\n",
       "      <td>0.000</td>\n",
       "      <td>0.000</td>\n",
       "      <td>0.1</td>\n",
       "      <td>0.100</td>\n",
       "      <td>0.0</td>\n",
       "      <td>0.0</td>\n",
       "      <td>Neptune</td>\n",
       "      <td>1</td>\n",
       "    </tr>\n",
       "    <tr>\n",
       "      <th>254690</th>\n",
       "      <td>0.0000</td>\n",
       "      <td>0.0</td>\n",
       "      <td>0.00</td>\n",
       "      <td>0.00</td>\n",
       "      <td>0.00337</td>\n",
       "      <td>0.05006</td>\n",
       "      <td>0</td>\n",
       "      <td>0.0</td>\n",
       "      <td>0.0</td>\n",
       "      <td>0.0</td>\n",
       "      <td>...</td>\n",
       "      <td>0.100</td>\n",
       "      <td>0.000</td>\n",
       "      <td>0.003</td>\n",
       "      <td>0.004</td>\n",
       "      <td>0.0</td>\n",
       "      <td>0.000</td>\n",
       "      <td>0.0</td>\n",
       "      <td>0.0</td>\n",
       "      <td>Normal</td>\n",
       "      <td>0</td>\n",
       "    </tr>\n",
       "    <tr>\n",
       "      <th>117505</th>\n",
       "      <td>0.0000</td>\n",
       "      <td>0.0</td>\n",
       "      <td>0.01</td>\n",
       "      <td>0.00</td>\n",
       "      <td>0.02157</td>\n",
       "      <td>0.00333</td>\n",
       "      <td>0</td>\n",
       "      <td>0.0</td>\n",
       "      <td>0.0</td>\n",
       "      <td>0.0</td>\n",
       "      <td>...</td>\n",
       "      <td>0.065</td>\n",
       "      <td>0.015</td>\n",
       "      <td>0.005</td>\n",
       "      <td>0.002</td>\n",
       "      <td>0.0</td>\n",
       "      <td>0.000</td>\n",
       "      <td>0.0</td>\n",
       "      <td>0.0</td>\n",
       "      <td>Normal</td>\n",
       "      <td>0</td>\n",
       "    </tr>\n",
       "    <tr>\n",
       "      <th>319845</th>\n",
       "      <td>0.0000</td>\n",
       "      <td>0.0</td>\n",
       "      <td>0.00</td>\n",
       "      <td>0.00</td>\n",
       "      <td>0.00342</td>\n",
       "      <td>0.01511</td>\n",
       "      <td>0</td>\n",
       "      <td>0.0</td>\n",
       "      <td>0.0</td>\n",
       "      <td>0.0</td>\n",
       "      <td>...</td>\n",
       "      <td>0.100</td>\n",
       "      <td>0.000</td>\n",
       "      <td>0.002</td>\n",
       "      <td>0.006</td>\n",
       "      <td>0.0</td>\n",
       "      <td>0.000</td>\n",
       "      <td>0.0</td>\n",
       "      <td>0.0</td>\n",
       "      <td>Normal</td>\n",
       "      <td>0</td>\n",
       "    </tr>\n",
       "  </tbody>\n",
       "</table>\n",
       "<p>81755 rows × 43 columns</p>\n",
       "</div>"
      ],
      "text/plain": [
       "        duration   protocol_type   service   flag   src_bytes   dst_bytes  \\\n",
       "141050    0.0000             0.0      0.12   0.07     0.00000     0.00000   \n",
       "90742     0.0000             0.0      0.12   0.07     0.00000     0.00000   \n",
       "134909    0.0000             0.0      0.00   0.00     0.00246     0.01521   \n",
       "571589    0.0001             0.0      0.01   0.00     0.01421     0.00331   \n",
       "47483     0.0216             0.0      0.00   0.00     0.00264     0.00382   \n",
       "...          ...             ...       ...    ...         ...         ...   \n",
       "514570    0.0000             0.0      0.00   0.00     0.00214     0.16249   \n",
       "134787    0.0000             0.0      0.12   0.07     0.00000     0.00000   \n",
       "254690    0.0000             0.0      0.00   0.00     0.00337     0.05006   \n",
       "117505    0.0000             0.0      0.01   0.00     0.02157     0.00333   \n",
       "319845    0.0000             0.0      0.00   0.00     0.00342     0.01511   \n",
       "\n",
       "         land   wrong_fragment   urgent   hot  ...   dst_host_same_srv_rate  \\\n",
       "141050      0              0.0      0.0   0.0  ...                    0.001   \n",
       "90742       0              0.0      0.0   0.0  ...                    0.006   \n",
       "134909      0              0.0      0.0   0.0  ...                    0.100   \n",
       "571589      0              0.0      0.0   0.0  ...                    0.089   \n",
       "47483       0              0.0      0.0   0.0  ...                    0.100   \n",
       "...       ...              ...      ...   ...  ...                      ...   \n",
       "514570      0              0.0      0.0   0.0  ...                    0.100   \n",
       "134787      0              0.0      0.0   0.0  ...                    0.006   \n",
       "254690      0              0.0      0.0   0.0  ...                    0.100   \n",
       "117505      0              0.0      0.0   0.0  ...                    0.065   \n",
       "319845      0              0.0      0.0   0.0  ...                    0.100   \n",
       "\n",
       "         dst_host_diff_srv_rate   dst_host_same_src_port_rate  \\\n",
       "141050                    0.006                         0.000   \n",
       "90742                     0.008                         0.000   \n",
       "134909                    0.000                         0.000   \n",
       "571589                    0.011                         0.006   \n",
       "47483                     0.000                         0.001   \n",
       "...                         ...                           ...   \n",
       "514570                    0.000                         0.002   \n",
       "134787                    0.007                         0.000   \n",
       "254690                    0.000                         0.003   \n",
       "117505                    0.015                         0.005   \n",
       "319845                    0.000                         0.002   \n",
       "\n",
       "         dst_host_srv_diff_host_rate   dst_host_serror_rate  \\\n",
       "141050                         0.000                    0.1   \n",
       "90742                          0.000                    0.1   \n",
       "134909                         0.000                    0.0   \n",
       "571589                         0.001                    0.0   \n",
       "47483                          0.004                    0.0   \n",
       "...                              ...                    ...   \n",
       "514570                         0.001                    0.0   \n",
       "134787                         0.000                    0.1   \n",
       "254690                         0.004                    0.0   \n",
       "117505                         0.002                    0.0   \n",
       "319845                         0.006                    0.0   \n",
       "\n",
       "         dst_host_srv_serror_rate   dst_host_rerror_rate  \\\n",
       "141050                      0.100                    0.0   \n",
       "90742                       0.100                    0.0   \n",
       "134909                      0.000                    0.0   \n",
       "571589                      0.001                    0.0   \n",
       "47483                       0.000                    0.0   \n",
       "...                           ...                    ...   \n",
       "514570                      0.000                    0.0   \n",
       "134787                      0.100                    0.0   \n",
       "254690                      0.000                    0.0   \n",
       "117505                      0.000                    0.0   \n",
       "319845                      0.000                    0.0   \n",
       "\n",
       "         dst_host_srv_rerror_rate  attack_based  Binary_Flag  \n",
       "141050                        0.0       Neptune            1  \n",
       "90742                         0.0       Neptune            1  \n",
       "134909                        0.0        Normal            0  \n",
       "571589                        0.0        Normal            0  \n",
       "47483                         0.0        Normal            0  \n",
       "...                           ...           ...          ...  \n",
       "514570                        0.0        Normal            0  \n",
       "134787                        0.0       Neptune            1  \n",
       "254690                        0.0        Normal            0  \n",
       "117505                        0.0        Normal            0  \n",
       "319845                        0.0        Normal            0  \n",
       "\n",
       "[81755 rows x 43 columns]"
      ]
     },
     "execution_count": 55,
     "metadata": {},
     "output_type": "execute_result"
    }
   ],
   "source": [
    "df"
   ]
  },
  {
   "cell_type": "markdown",
   "id": "f686f7e1",
   "metadata": {},
   "source": [
    "- Classification Problem (Available Algorithms)\n",
    "    - Logistic Regression (Traditional)\n",
    "    - Decision Tree Classifier\n",
    "    - Bagging Classifier\n",
    "    - Random Forest Classifier\n",
    "    - Adaboost Classifier\n",
    "    - GBM Classifier\n",
    "    - XGBoost Classifier\n",
    "    - KNN Classifier\n",
    "    - Support Vector Classifier (Linear SVM, Kernal SVM)\n",
    "    - Naive Bayes Classifier"
   ]
  },
  {
   "cell_type": "code",
   "execution_count": 56,
   "id": "3da453a7",
   "metadata": {},
   "outputs": [
    {
     "name": "stdout",
     "output_type": "stream",
     "text": [
      "<class 'pandas.core.frame.DataFrame'>\n",
      "Int64Index: 81755 entries, 141050 to 319845\n",
      "Data columns (total 43 columns):\n",
      " #   Column                        Non-Null Count  Dtype  \n",
      "---  ------                        --------------  -----  \n",
      " 0   duration                      81755 non-null  float64\n",
      " 1    protocol_type                81755 non-null  float64\n",
      " 2    service                      81755 non-null  float64\n",
      " 3    flag                         81755 non-null  float64\n",
      " 4    src_bytes                    81755 non-null  float64\n",
      " 5    dst_bytes                    81755 non-null  float64\n",
      " 6    land                         81755 non-null  int64  \n",
      " 7    wrong_fragment               81755 non-null  float64\n",
      " 8    urgent                       81755 non-null  float64\n",
      " 9    hot                          81755 non-null  float64\n",
      " 10   num_failed_logins            81755 non-null  float64\n",
      " 11   logged_in                    81755 non-null  float64\n",
      " 12   num_compromised              81755 non-null  float64\n",
      " 13   root_shell                   81755 non-null  float64\n",
      " 14   su_attempted                 81755 non-null  float64\n",
      " 15   num_root                     81755 non-null  float64\n",
      " 16   num_file_creations           81755 non-null  float64\n",
      " 17   num_shells                   81755 non-null  float64\n",
      " 18   num_access_files             81755 non-null  float64\n",
      " 19   num_outbound_cmds            81755 non-null  int64  \n",
      " 20   is_host_login                81755 non-null  float64\n",
      " 21   is_guest_login               81755 non-null  float64\n",
      " 22   count                        81755 non-null  float64\n",
      " 23   srv_count                    81755 non-null  float64\n",
      " 24   serror_rate                  81755 non-null  float64\n",
      " 25   srv_error_rate               81755 non-null  float64\n",
      " 26   rerror_rate                  81755 non-null  float64\n",
      " 27   srv_rerror_rate              81755 non-null  float64\n",
      " 28   same_srv_rate                81755 non-null  float64\n",
      " 29   diff_srv_rate                81755 non-null  float64\n",
      " 30   srv_diff_host_rate           81755 non-null  float64\n",
      " 31   dst_host_count               81755 non-null  float64\n",
      " 32   dst_host_srv_count           81755 non-null  float64\n",
      " 33   dst_host_same_srv_rate       81755 non-null  float64\n",
      " 34   dst_host_diff_srv_rate       81755 non-null  float64\n",
      " 35   dst_host_same_src_port_rate  81755 non-null  float64\n",
      " 36   dst_host_srv_diff_host_rate  81755 non-null  float64\n",
      " 37   dst_host_serror_rate         81755 non-null  float64\n",
      " 38   dst_host_srv_serror_rate     81755 non-null  float64\n",
      " 39   dst_host_rerror_rate         81755 non-null  float64\n",
      " 40   dst_host_srv_rerror_rate     81755 non-null  float64\n",
      " 41  attack_based                  81755 non-null  object \n",
      " 42  Binary_Flag                   81755 non-null  int32  \n",
      "dtypes: float64(39), int32(1), int64(2), object(1)\n",
      "memory usage: 27.1+ MB\n"
     ]
    }
   ],
   "source": [
    "df.info()"
   ]
  },
  {
   "cell_type": "code",
   "execution_count": 57,
   "id": "3924b575",
   "metadata": {},
   "outputs": [],
   "source": [
    "data_num = df.select_dtypes(exclude='object')"
   ]
  },
  {
   "cell_type": "code",
   "execution_count": 58,
   "id": "005c312b",
   "metadata": {},
   "outputs": [],
   "source": [
    "data_num = df.select_dtypes(exclude='object').apply(lambda x : x.clip( lower =x.quantile(0.01)  , upper = x.quantile(0.99) ))"
   ]
  },
  {
   "cell_type": "code",
   "execution_count": 59,
   "id": "b7238ed5",
   "metadata": {},
   "outputs": [],
   "source": [
    "data_cat = df.select_dtypes(include='object')"
   ]
  },
  {
   "cell_type": "code",
   "execution_count": 60,
   "id": "1fc019df",
   "metadata": {},
   "outputs": [],
   "source": [
    "df = pd.concat([data_num , data_cat] , axis=1)"
   ]
  },
  {
   "cell_type": "code",
   "execution_count": 61,
   "id": "46e48552",
   "metadata": {},
   "outputs": [
    {
     "data": {
      "text/html": [
       "<div>\n",
       "<style scoped>\n",
       "    .dataframe tbody tr th:only-of-type {\n",
       "        vertical-align: middle;\n",
       "    }\n",
       "\n",
       "    .dataframe tbody tr th {\n",
       "        vertical-align: top;\n",
       "    }\n",
       "\n",
       "    .dataframe thead th {\n",
       "        text-align: right;\n",
       "    }\n",
       "</style>\n",
       "<table border=\"1\" class=\"dataframe\">\n",
       "  <thead>\n",
       "    <tr style=\"text-align: right;\">\n",
       "      <th></th>\n",
       "      <th>duration</th>\n",
       "      <th>protocol_type</th>\n",
       "      <th>service</th>\n",
       "      <th>flag</th>\n",
       "      <th>src_bytes</th>\n",
       "      <th>dst_bytes</th>\n",
       "      <th>land</th>\n",
       "      <th>wrong_fragment</th>\n",
       "      <th>urgent</th>\n",
       "      <th>hot</th>\n",
       "      <th>...</th>\n",
       "      <th>dst_host_same_srv_rate</th>\n",
       "      <th>dst_host_diff_srv_rate</th>\n",
       "      <th>dst_host_same_src_port_rate</th>\n",
       "      <th>dst_host_srv_diff_host_rate</th>\n",
       "      <th>dst_host_serror_rate</th>\n",
       "      <th>dst_host_srv_serror_rate</th>\n",
       "      <th>dst_host_rerror_rate</th>\n",
       "      <th>dst_host_srv_rerror_rate</th>\n",
       "      <th>Binary_Flag</th>\n",
       "      <th>attack_based</th>\n",
       "    </tr>\n",
       "  </thead>\n",
       "  <tbody>\n",
       "    <tr>\n",
       "      <th>141050</th>\n",
       "      <td>0.0000</td>\n",
       "      <td>0.0</td>\n",
       "      <td>0.12</td>\n",
       "      <td>0.07</td>\n",
       "      <td>0.00000</td>\n",
       "      <td>0.00000</td>\n",
       "      <td>0</td>\n",
       "      <td>0.0</td>\n",
       "      <td>0.0</td>\n",
       "      <td>0.0</td>\n",
       "      <td>...</td>\n",
       "      <td>0.001</td>\n",
       "      <td>0.006</td>\n",
       "      <td>0.000</td>\n",
       "      <td>0.000</td>\n",
       "      <td>0.1</td>\n",
       "      <td>0.100</td>\n",
       "      <td>0.0</td>\n",
       "      <td>0.0</td>\n",
       "      <td>1</td>\n",
       "      <td>Neptune</td>\n",
       "    </tr>\n",
       "    <tr>\n",
       "      <th>90742</th>\n",
       "      <td>0.0000</td>\n",
       "      <td>0.0</td>\n",
       "      <td>0.12</td>\n",
       "      <td>0.07</td>\n",
       "      <td>0.00000</td>\n",
       "      <td>0.00000</td>\n",
       "      <td>0</td>\n",
       "      <td>0.0</td>\n",
       "      <td>0.0</td>\n",
       "      <td>0.0</td>\n",
       "      <td>...</td>\n",
       "      <td>0.006</td>\n",
       "      <td>0.008</td>\n",
       "      <td>0.000</td>\n",
       "      <td>0.000</td>\n",
       "      <td>0.1</td>\n",
       "      <td>0.100</td>\n",
       "      <td>0.0</td>\n",
       "      <td>0.0</td>\n",
       "      <td>1</td>\n",
       "      <td>Neptune</td>\n",
       "    </tr>\n",
       "    <tr>\n",
       "      <th>134909</th>\n",
       "      <td>0.0000</td>\n",
       "      <td>0.0</td>\n",
       "      <td>0.00</td>\n",
       "      <td>0.00</td>\n",
       "      <td>0.00246</td>\n",
       "      <td>0.01521</td>\n",
       "      <td>0</td>\n",
       "      <td>0.0</td>\n",
       "      <td>0.0</td>\n",
       "      <td>0.0</td>\n",
       "      <td>...</td>\n",
       "      <td>0.100</td>\n",
       "      <td>0.000</td>\n",
       "      <td>0.000</td>\n",
       "      <td>0.000</td>\n",
       "      <td>0.0</td>\n",
       "      <td>0.000</td>\n",
       "      <td>0.0</td>\n",
       "      <td>0.0</td>\n",
       "      <td>0</td>\n",
       "      <td>Normal</td>\n",
       "    </tr>\n",
       "    <tr>\n",
       "      <th>571589</th>\n",
       "      <td>0.0001</td>\n",
       "      <td>0.0</td>\n",
       "      <td>0.01</td>\n",
       "      <td>0.00</td>\n",
       "      <td>0.01421</td>\n",
       "      <td>0.00331</td>\n",
       "      <td>0</td>\n",
       "      <td>0.0</td>\n",
       "      <td>0.0</td>\n",
       "      <td>0.0</td>\n",
       "      <td>...</td>\n",
       "      <td>0.089</td>\n",
       "      <td>0.011</td>\n",
       "      <td>0.006</td>\n",
       "      <td>0.001</td>\n",
       "      <td>0.0</td>\n",
       "      <td>0.001</td>\n",
       "      <td>0.0</td>\n",
       "      <td>0.0</td>\n",
       "      <td>0</td>\n",
       "      <td>Normal</td>\n",
       "    </tr>\n",
       "    <tr>\n",
       "      <th>47483</th>\n",
       "      <td>0.0016</td>\n",
       "      <td>0.0</td>\n",
       "      <td>0.00</td>\n",
       "      <td>0.00</td>\n",
       "      <td>0.00264</td>\n",
       "      <td>0.00382</td>\n",
       "      <td>0</td>\n",
       "      <td>0.0</td>\n",
       "      <td>0.0</td>\n",
       "      <td>0.0</td>\n",
       "      <td>...</td>\n",
       "      <td>0.100</td>\n",
       "      <td>0.000</td>\n",
       "      <td>0.001</td>\n",
       "      <td>0.004</td>\n",
       "      <td>0.0</td>\n",
       "      <td>0.000</td>\n",
       "      <td>0.0</td>\n",
       "      <td>0.0</td>\n",
       "      <td>0</td>\n",
       "      <td>Normal</td>\n",
       "    </tr>\n",
       "    <tr>\n",
       "      <th>...</th>\n",
       "      <td>...</td>\n",
       "      <td>...</td>\n",
       "      <td>...</td>\n",
       "      <td>...</td>\n",
       "      <td>...</td>\n",
       "      <td>...</td>\n",
       "      <td>...</td>\n",
       "      <td>...</td>\n",
       "      <td>...</td>\n",
       "      <td>...</td>\n",
       "      <td>...</td>\n",
       "      <td>...</td>\n",
       "      <td>...</td>\n",
       "      <td>...</td>\n",
       "      <td>...</td>\n",
       "      <td>...</td>\n",
       "      <td>...</td>\n",
       "      <td>...</td>\n",
       "      <td>...</td>\n",
       "      <td>...</td>\n",
       "      <td>...</td>\n",
       "    </tr>\n",
       "    <tr>\n",
       "      <th>514570</th>\n",
       "      <td>0.0000</td>\n",
       "      <td>0.0</td>\n",
       "      <td>0.00</td>\n",
       "      <td>0.00</td>\n",
       "      <td>0.00214</td>\n",
       "      <td>0.16249</td>\n",
       "      <td>0</td>\n",
       "      <td>0.0</td>\n",
       "      <td>0.0</td>\n",
       "      <td>0.0</td>\n",
       "      <td>...</td>\n",
       "      <td>0.100</td>\n",
       "      <td>0.000</td>\n",
       "      <td>0.002</td>\n",
       "      <td>0.001</td>\n",
       "      <td>0.0</td>\n",
       "      <td>0.000</td>\n",
       "      <td>0.0</td>\n",
       "      <td>0.0</td>\n",
       "      <td>0</td>\n",
       "      <td>Normal</td>\n",
       "    </tr>\n",
       "    <tr>\n",
       "      <th>134787</th>\n",
       "      <td>0.0000</td>\n",
       "      <td>0.0</td>\n",
       "      <td>0.12</td>\n",
       "      <td>0.07</td>\n",
       "      <td>0.00000</td>\n",
       "      <td>0.00000</td>\n",
       "      <td>0</td>\n",
       "      <td>0.0</td>\n",
       "      <td>0.0</td>\n",
       "      <td>0.0</td>\n",
       "      <td>...</td>\n",
       "      <td>0.006</td>\n",
       "      <td>0.007</td>\n",
       "      <td>0.000</td>\n",
       "      <td>0.000</td>\n",
       "      <td>0.1</td>\n",
       "      <td>0.100</td>\n",
       "      <td>0.0</td>\n",
       "      <td>0.0</td>\n",
       "      <td>1</td>\n",
       "      <td>Neptune</td>\n",
       "    </tr>\n",
       "    <tr>\n",
       "      <th>254690</th>\n",
       "      <td>0.0000</td>\n",
       "      <td>0.0</td>\n",
       "      <td>0.00</td>\n",
       "      <td>0.00</td>\n",
       "      <td>0.00337</td>\n",
       "      <td>0.05006</td>\n",
       "      <td>0</td>\n",
       "      <td>0.0</td>\n",
       "      <td>0.0</td>\n",
       "      <td>0.0</td>\n",
       "      <td>...</td>\n",
       "      <td>0.100</td>\n",
       "      <td>0.000</td>\n",
       "      <td>0.003</td>\n",
       "      <td>0.004</td>\n",
       "      <td>0.0</td>\n",
       "      <td>0.000</td>\n",
       "      <td>0.0</td>\n",
       "      <td>0.0</td>\n",
       "      <td>0</td>\n",
       "      <td>Normal</td>\n",
       "    </tr>\n",
       "    <tr>\n",
       "      <th>117505</th>\n",
       "      <td>0.0000</td>\n",
       "      <td>0.0</td>\n",
       "      <td>0.01</td>\n",
       "      <td>0.00</td>\n",
       "      <td>0.02157</td>\n",
       "      <td>0.00333</td>\n",
       "      <td>0</td>\n",
       "      <td>0.0</td>\n",
       "      <td>0.0</td>\n",
       "      <td>0.0</td>\n",
       "      <td>...</td>\n",
       "      <td>0.065</td>\n",
       "      <td>0.015</td>\n",
       "      <td>0.005</td>\n",
       "      <td>0.002</td>\n",
       "      <td>0.0</td>\n",
       "      <td>0.000</td>\n",
       "      <td>0.0</td>\n",
       "      <td>0.0</td>\n",
       "      <td>0</td>\n",
       "      <td>Normal</td>\n",
       "    </tr>\n",
       "    <tr>\n",
       "      <th>319845</th>\n",
       "      <td>0.0000</td>\n",
       "      <td>0.0</td>\n",
       "      <td>0.00</td>\n",
       "      <td>0.00</td>\n",
       "      <td>0.00342</td>\n",
       "      <td>0.01511</td>\n",
       "      <td>0</td>\n",
       "      <td>0.0</td>\n",
       "      <td>0.0</td>\n",
       "      <td>0.0</td>\n",
       "      <td>...</td>\n",
       "      <td>0.100</td>\n",
       "      <td>0.000</td>\n",
       "      <td>0.002</td>\n",
       "      <td>0.006</td>\n",
       "      <td>0.0</td>\n",
       "      <td>0.000</td>\n",
       "      <td>0.0</td>\n",
       "      <td>0.0</td>\n",
       "      <td>0</td>\n",
       "      <td>Normal</td>\n",
       "    </tr>\n",
       "  </tbody>\n",
       "</table>\n",
       "<p>81755 rows × 43 columns</p>\n",
       "</div>"
      ],
      "text/plain": [
       "        duration   protocol_type   service   flag   src_bytes   dst_bytes  \\\n",
       "141050    0.0000             0.0      0.12   0.07     0.00000     0.00000   \n",
       "90742     0.0000             0.0      0.12   0.07     0.00000     0.00000   \n",
       "134909    0.0000             0.0      0.00   0.00     0.00246     0.01521   \n",
       "571589    0.0001             0.0      0.01   0.00     0.01421     0.00331   \n",
       "47483     0.0016             0.0      0.00   0.00     0.00264     0.00382   \n",
       "...          ...             ...       ...    ...         ...         ...   \n",
       "514570    0.0000             0.0      0.00   0.00     0.00214     0.16249   \n",
       "134787    0.0000             0.0      0.12   0.07     0.00000     0.00000   \n",
       "254690    0.0000             0.0      0.00   0.00     0.00337     0.05006   \n",
       "117505    0.0000             0.0      0.01   0.00     0.02157     0.00333   \n",
       "319845    0.0000             0.0      0.00   0.00     0.00342     0.01511   \n",
       "\n",
       "         land   wrong_fragment   urgent   hot  ...   dst_host_same_srv_rate  \\\n",
       "141050      0              0.0      0.0   0.0  ...                    0.001   \n",
       "90742       0              0.0      0.0   0.0  ...                    0.006   \n",
       "134909      0              0.0      0.0   0.0  ...                    0.100   \n",
       "571589      0              0.0      0.0   0.0  ...                    0.089   \n",
       "47483       0              0.0      0.0   0.0  ...                    0.100   \n",
       "...       ...              ...      ...   ...  ...                      ...   \n",
       "514570      0              0.0      0.0   0.0  ...                    0.100   \n",
       "134787      0              0.0      0.0   0.0  ...                    0.006   \n",
       "254690      0              0.0      0.0   0.0  ...                    0.100   \n",
       "117505      0              0.0      0.0   0.0  ...                    0.065   \n",
       "319845      0              0.0      0.0   0.0  ...                    0.100   \n",
       "\n",
       "         dst_host_diff_srv_rate   dst_host_same_src_port_rate  \\\n",
       "141050                    0.006                         0.000   \n",
       "90742                     0.008                         0.000   \n",
       "134909                    0.000                         0.000   \n",
       "571589                    0.011                         0.006   \n",
       "47483                     0.000                         0.001   \n",
       "...                         ...                           ...   \n",
       "514570                    0.000                         0.002   \n",
       "134787                    0.007                         0.000   \n",
       "254690                    0.000                         0.003   \n",
       "117505                    0.015                         0.005   \n",
       "319845                    0.000                         0.002   \n",
       "\n",
       "         dst_host_srv_diff_host_rate   dst_host_serror_rate  \\\n",
       "141050                         0.000                    0.1   \n",
       "90742                          0.000                    0.1   \n",
       "134909                         0.000                    0.0   \n",
       "571589                         0.001                    0.0   \n",
       "47483                          0.004                    0.0   \n",
       "...                              ...                    ...   \n",
       "514570                         0.001                    0.0   \n",
       "134787                         0.000                    0.1   \n",
       "254690                         0.004                    0.0   \n",
       "117505                         0.002                    0.0   \n",
       "319845                         0.006                    0.0   \n",
       "\n",
       "         dst_host_srv_serror_rate   dst_host_rerror_rate  \\\n",
       "141050                      0.100                    0.0   \n",
       "90742                       0.100                    0.0   \n",
       "134909                      0.000                    0.0   \n",
       "571589                      0.001                    0.0   \n",
       "47483                       0.000                    0.0   \n",
       "...                           ...                    ...   \n",
       "514570                      0.000                    0.0   \n",
       "134787                      0.100                    0.0   \n",
       "254690                      0.000                    0.0   \n",
       "117505                      0.000                    0.0   \n",
       "319845                      0.000                    0.0   \n",
       "\n",
       "         dst_host_srv_rerror_rate  Binary_Flag  attack_based  \n",
       "141050                        0.0            1       Neptune  \n",
       "90742                         0.0            1       Neptune  \n",
       "134909                        0.0            0        Normal  \n",
       "571589                        0.0            0        Normal  \n",
       "47483                         0.0            0        Normal  \n",
       "...                           ...          ...           ...  \n",
       "514570                        0.0            0        Normal  \n",
       "134787                        0.0            1       Neptune  \n",
       "254690                        0.0            0        Normal  \n",
       "117505                        0.0            0        Normal  \n",
       "319845                        0.0            0        Normal  \n",
       "\n",
       "[81755 rows x 43 columns]"
      ]
     },
     "execution_count": 61,
     "metadata": {},
     "output_type": "execute_result"
    }
   ],
   "source": [
    "df"
   ]
  },
  {
   "cell_type": "markdown",
   "id": "ceeb1f6b",
   "metadata": {},
   "source": [
    "### Splitting the data into train & test "
   ]
  },
  {
   "cell_type": "code",
   "execution_count": 62,
   "id": "9a9d7d07",
   "metadata": {},
   "outputs": [],
   "source": [
    "target = df[['Binary_Flag']]\n",
    "features = df[df.columns.difference(['Binary_Flag','attack_based'])]"
   ]
  },
  {
   "cell_type": "code",
   "execution_count": 63,
   "id": "4b562847",
   "metadata": {},
   "outputs": [
    {
     "data": {
      "text/html": [
       "<div>\n",
       "<style scoped>\n",
       "    .dataframe tbody tr th:only-of-type {\n",
       "        vertical-align: middle;\n",
       "    }\n",
       "\n",
       "    .dataframe tbody tr th {\n",
       "        vertical-align: top;\n",
       "    }\n",
       "\n",
       "    .dataframe thead th {\n",
       "        text-align: right;\n",
       "    }\n",
       "</style>\n",
       "<table border=\"1\" class=\"dataframe\">\n",
       "  <thead>\n",
       "    <tr style=\"text-align: right;\">\n",
       "      <th></th>\n",
       "      <th>count</th>\n",
       "      <th>diff_srv_rate</th>\n",
       "      <th>dst_bytes</th>\n",
       "      <th>dst_host_count</th>\n",
       "      <th>dst_host_diff_srv_rate</th>\n",
       "      <th>dst_host_rerror_rate</th>\n",
       "      <th>dst_host_same_src_port_rate</th>\n",
       "      <th>dst_host_same_srv_rate</th>\n",
       "      <th>dst_host_serror_rate</th>\n",
       "      <th>dst_host_srv_count</th>\n",
       "      <th>...</th>\n",
       "      <th>service</th>\n",
       "      <th>src_bytes</th>\n",
       "      <th>srv_count</th>\n",
       "      <th>srv_diff_host_rate</th>\n",
       "      <th>srv_error_rate</th>\n",
       "      <th>srv_rerror_rate</th>\n",
       "      <th>su_attempted</th>\n",
       "      <th>urgent</th>\n",
       "      <th>wrong_fragment</th>\n",
       "      <th>duration</th>\n",
       "    </tr>\n",
       "  </thead>\n",
       "  <tbody>\n",
       "    <tr>\n",
       "      <th>141050</th>\n",
       "      <td>0.103</td>\n",
       "      <td>0.007</td>\n",
       "      <td>0.00000</td>\n",
       "      <td>0.255</td>\n",
       "      <td>0.006</td>\n",
       "      <td>0.0</td>\n",
       "      <td>0.000</td>\n",
       "      <td>0.001</td>\n",
       "      <td>0.1</td>\n",
       "      <td>0.003</td>\n",
       "      <td>...</td>\n",
       "      <td>0.12</td>\n",
       "      <td>0.00000</td>\n",
       "      <td>0.001</td>\n",
       "      <td>0.000</td>\n",
       "      <td>0.1</td>\n",
       "      <td>0.0</td>\n",
       "      <td>0.0</td>\n",
       "      <td>0.0</td>\n",
       "      <td>0.0</td>\n",
       "      <td>0.0000</td>\n",
       "    </tr>\n",
       "    <tr>\n",
       "      <th>90742</th>\n",
       "      <td>0.139</td>\n",
       "      <td>0.006</td>\n",
       "      <td>0.00000</td>\n",
       "      <td>0.255</td>\n",
       "      <td>0.008</td>\n",
       "      <td>0.0</td>\n",
       "      <td>0.000</td>\n",
       "      <td>0.006</td>\n",
       "      <td>0.1</td>\n",
       "      <td>0.015</td>\n",
       "      <td>...</td>\n",
       "      <td>0.12</td>\n",
       "      <td>0.00000</td>\n",
       "      <td>0.016</td>\n",
       "      <td>0.000</td>\n",
       "      <td>0.1</td>\n",
       "      <td>0.0</td>\n",
       "      <td>0.0</td>\n",
       "      <td>0.0</td>\n",
       "      <td>0.0</td>\n",
       "      <td>0.0000</td>\n",
       "    </tr>\n",
       "    <tr>\n",
       "      <th>134909</th>\n",
       "      <td>0.007</td>\n",
       "      <td>0.000</td>\n",
       "      <td>0.01521</td>\n",
       "      <td>0.255</td>\n",
       "      <td>0.000</td>\n",
       "      <td>0.0</td>\n",
       "      <td>0.000</td>\n",
       "      <td>0.100</td>\n",
       "      <td>0.0</td>\n",
       "      <td>0.255</td>\n",
       "      <td>...</td>\n",
       "      <td>0.00</td>\n",
       "      <td>0.00246</td>\n",
       "      <td>0.007</td>\n",
       "      <td>0.000</td>\n",
       "      <td>0.0</td>\n",
       "      <td>0.0</td>\n",
       "      <td>0.0</td>\n",
       "      <td>0.0</td>\n",
       "      <td>0.0</td>\n",
       "      <td>0.0000</td>\n",
       "    </tr>\n",
       "    <tr>\n",
       "      <th>571589</th>\n",
       "      <td>0.001</td>\n",
       "      <td>0.000</td>\n",
       "      <td>0.00331</td>\n",
       "      <td>0.018</td>\n",
       "      <td>0.011</td>\n",
       "      <td>0.0</td>\n",
       "      <td>0.006</td>\n",
       "      <td>0.089</td>\n",
       "      <td>0.0</td>\n",
       "      <td>0.179</td>\n",
       "      <td>...</td>\n",
       "      <td>0.01</td>\n",
       "      <td>0.01421</td>\n",
       "      <td>0.002</td>\n",
       "      <td>0.100</td>\n",
       "      <td>0.0</td>\n",
       "      <td>0.0</td>\n",
       "      <td>0.0</td>\n",
       "      <td>0.0</td>\n",
       "      <td>0.0</td>\n",
       "      <td>0.0001</td>\n",
       "    </tr>\n",
       "    <tr>\n",
       "      <th>47483</th>\n",
       "      <td>0.001</td>\n",
       "      <td>0.000</td>\n",
       "      <td>0.00382</td>\n",
       "      <td>0.095</td>\n",
       "      <td>0.000</td>\n",
       "      <td>0.0</td>\n",
       "      <td>0.001</td>\n",
       "      <td>0.100</td>\n",
       "      <td>0.0</td>\n",
       "      <td>0.255</td>\n",
       "      <td>...</td>\n",
       "      <td>0.00</td>\n",
       "      <td>0.00264</td>\n",
       "      <td>0.015</td>\n",
       "      <td>0.013</td>\n",
       "      <td>0.0</td>\n",
       "      <td>0.0</td>\n",
       "      <td>0.0</td>\n",
       "      <td>0.0</td>\n",
       "      <td>0.0</td>\n",
       "      <td>0.0016</td>\n",
       "    </tr>\n",
       "    <tr>\n",
       "      <th>...</th>\n",
       "      <td>...</td>\n",
       "      <td>...</td>\n",
       "      <td>...</td>\n",
       "      <td>...</td>\n",
       "      <td>...</td>\n",
       "      <td>...</td>\n",
       "      <td>...</td>\n",
       "      <td>...</td>\n",
       "      <td>...</td>\n",
       "      <td>...</td>\n",
       "      <td>...</td>\n",
       "      <td>...</td>\n",
       "      <td>...</td>\n",
       "      <td>...</td>\n",
       "      <td>...</td>\n",
       "      <td>...</td>\n",
       "      <td>...</td>\n",
       "      <td>...</td>\n",
       "      <td>...</td>\n",
       "      <td>...</td>\n",
       "      <td>...</td>\n",
       "    </tr>\n",
       "    <tr>\n",
       "      <th>514570</th>\n",
       "      <td>0.021</td>\n",
       "      <td>0.000</td>\n",
       "      <td>0.16249</td>\n",
       "      <td>0.064</td>\n",
       "      <td>0.000</td>\n",
       "      <td>0.0</td>\n",
       "      <td>0.002</td>\n",
       "      <td>0.100</td>\n",
       "      <td>0.0</td>\n",
       "      <td>0.255</td>\n",
       "      <td>...</td>\n",
       "      <td>0.00</td>\n",
       "      <td>0.00214</td>\n",
       "      <td>0.021</td>\n",
       "      <td>0.000</td>\n",
       "      <td>0.0</td>\n",
       "      <td>0.0</td>\n",
       "      <td>0.0</td>\n",
       "      <td>0.0</td>\n",
       "      <td>0.0</td>\n",
       "      <td>0.0000</td>\n",
       "    </tr>\n",
       "    <tr>\n",
       "      <th>134787</th>\n",
       "      <td>0.269</td>\n",
       "      <td>0.006</td>\n",
       "      <td>0.00000</td>\n",
       "      <td>0.255</td>\n",
       "      <td>0.007</td>\n",
       "      <td>0.0</td>\n",
       "      <td>0.000</td>\n",
       "      <td>0.006</td>\n",
       "      <td>0.1</td>\n",
       "      <td>0.015</td>\n",
       "      <td>...</td>\n",
       "      <td>0.12</td>\n",
       "      <td>0.00000</td>\n",
       "      <td>0.004</td>\n",
       "      <td>0.000</td>\n",
       "      <td>0.1</td>\n",
       "      <td>0.0</td>\n",
       "      <td>0.0</td>\n",
       "      <td>0.0</td>\n",
       "      <td>0.0</td>\n",
       "      <td>0.0000</td>\n",
       "    </tr>\n",
       "    <tr>\n",
       "      <th>254690</th>\n",
       "      <td>0.010</td>\n",
       "      <td>0.000</td>\n",
       "      <td>0.05006</td>\n",
       "      <td>0.037</td>\n",
       "      <td>0.000</td>\n",
       "      <td>0.0</td>\n",
       "      <td>0.003</td>\n",
       "      <td>0.100</td>\n",
       "      <td>0.0</td>\n",
       "      <td>0.255</td>\n",
       "      <td>...</td>\n",
       "      <td>0.00</td>\n",
       "      <td>0.00337</td>\n",
       "      <td>0.010</td>\n",
       "      <td>0.000</td>\n",
       "      <td>0.0</td>\n",
       "      <td>0.0</td>\n",
       "      <td>0.0</td>\n",
       "      <td>0.0</td>\n",
       "      <td>0.0</td>\n",
       "      <td>0.0000</td>\n",
       "    </tr>\n",
       "    <tr>\n",
       "      <th>117505</th>\n",
       "      <td>0.001</td>\n",
       "      <td>0.000</td>\n",
       "      <td>0.00333</td>\n",
       "      <td>0.020</td>\n",
       "      <td>0.015</td>\n",
       "      <td>0.0</td>\n",
       "      <td>0.005</td>\n",
       "      <td>0.065</td>\n",
       "      <td>0.0</td>\n",
       "      <td>0.147</td>\n",
       "      <td>...</td>\n",
       "      <td>0.01</td>\n",
       "      <td>0.02157</td>\n",
       "      <td>0.001</td>\n",
       "      <td>0.000</td>\n",
       "      <td>0.0</td>\n",
       "      <td>0.0</td>\n",
       "      <td>0.0</td>\n",
       "      <td>0.0</td>\n",
       "      <td>0.0</td>\n",
       "      <td>0.0000</td>\n",
       "    </tr>\n",
       "    <tr>\n",
       "      <th>319845</th>\n",
       "      <td>0.007</td>\n",
       "      <td>0.000</td>\n",
       "      <td>0.01511</td>\n",
       "      <td>0.052</td>\n",
       "      <td>0.000</td>\n",
       "      <td>0.0</td>\n",
       "      <td>0.002</td>\n",
       "      <td>0.100</td>\n",
       "      <td>0.0</td>\n",
       "      <td>0.255</td>\n",
       "      <td>...</td>\n",
       "      <td>0.00</td>\n",
       "      <td>0.00342</td>\n",
       "      <td>0.007</td>\n",
       "      <td>0.000</td>\n",
       "      <td>0.0</td>\n",
       "      <td>0.0</td>\n",
       "      <td>0.0</td>\n",
       "      <td>0.0</td>\n",
       "      <td>0.0</td>\n",
       "      <td>0.0000</td>\n",
       "    </tr>\n",
       "  </tbody>\n",
       "</table>\n",
       "<p>81755 rows × 41 columns</p>\n",
       "</div>"
      ],
      "text/plain": [
       "         count   diff_srv_rate   dst_bytes   dst_host_count  \\\n",
       "141050   0.103           0.007     0.00000            0.255   \n",
       "90742    0.139           0.006     0.00000            0.255   \n",
       "134909   0.007           0.000     0.01521            0.255   \n",
       "571589   0.001           0.000     0.00331            0.018   \n",
       "47483    0.001           0.000     0.00382            0.095   \n",
       "...        ...             ...         ...              ...   \n",
       "514570   0.021           0.000     0.16249            0.064   \n",
       "134787   0.269           0.006     0.00000            0.255   \n",
       "254690   0.010           0.000     0.05006            0.037   \n",
       "117505   0.001           0.000     0.00333            0.020   \n",
       "319845   0.007           0.000     0.01511            0.052   \n",
       "\n",
       "         dst_host_diff_srv_rate   dst_host_rerror_rate  \\\n",
       "141050                    0.006                    0.0   \n",
       "90742                     0.008                    0.0   \n",
       "134909                    0.000                    0.0   \n",
       "571589                    0.011                    0.0   \n",
       "47483                     0.000                    0.0   \n",
       "...                         ...                    ...   \n",
       "514570                    0.000                    0.0   \n",
       "134787                    0.007                    0.0   \n",
       "254690                    0.000                    0.0   \n",
       "117505                    0.015                    0.0   \n",
       "319845                    0.000                    0.0   \n",
       "\n",
       "         dst_host_same_src_port_rate   dst_host_same_srv_rate  \\\n",
       "141050                         0.000                    0.001   \n",
       "90742                          0.000                    0.006   \n",
       "134909                         0.000                    0.100   \n",
       "571589                         0.006                    0.089   \n",
       "47483                          0.001                    0.100   \n",
       "...                              ...                      ...   \n",
       "514570                         0.002                    0.100   \n",
       "134787                         0.000                    0.006   \n",
       "254690                         0.003                    0.100   \n",
       "117505                         0.005                    0.065   \n",
       "319845                         0.002                    0.100   \n",
       "\n",
       "         dst_host_serror_rate   dst_host_srv_count  ...   service   src_bytes  \\\n",
       "141050                    0.1                0.003  ...      0.12     0.00000   \n",
       "90742                     0.1                0.015  ...      0.12     0.00000   \n",
       "134909                    0.0                0.255  ...      0.00     0.00246   \n",
       "571589                    0.0                0.179  ...      0.01     0.01421   \n",
       "47483                     0.0                0.255  ...      0.00     0.00264   \n",
       "...                       ...                  ...  ...       ...         ...   \n",
       "514570                    0.0                0.255  ...      0.00     0.00214   \n",
       "134787                    0.1                0.015  ...      0.12     0.00000   \n",
       "254690                    0.0                0.255  ...      0.00     0.00337   \n",
       "117505                    0.0                0.147  ...      0.01     0.02157   \n",
       "319845                    0.0                0.255  ...      0.00     0.00342   \n",
       "\n",
       "         srv_count   srv_diff_host_rate   srv_error_rate   srv_rerror_rate  \\\n",
       "141050       0.001                0.000              0.1               0.0   \n",
       "90742        0.016                0.000              0.1               0.0   \n",
       "134909       0.007                0.000              0.0               0.0   \n",
       "571589       0.002                0.100              0.0               0.0   \n",
       "47483        0.015                0.013              0.0               0.0   \n",
       "...            ...                  ...              ...               ...   \n",
       "514570       0.021                0.000              0.0               0.0   \n",
       "134787       0.004                0.000              0.1               0.0   \n",
       "254690       0.010                0.000              0.0               0.0   \n",
       "117505       0.001                0.000              0.0               0.0   \n",
       "319845       0.007                0.000              0.0               0.0   \n",
       "\n",
       "         su_attempted   urgent   wrong_fragment  duration  \n",
       "141050            0.0      0.0              0.0    0.0000  \n",
       "90742             0.0      0.0              0.0    0.0000  \n",
       "134909            0.0      0.0              0.0    0.0000  \n",
       "571589            0.0      0.0              0.0    0.0001  \n",
       "47483             0.0      0.0              0.0    0.0016  \n",
       "...               ...      ...              ...       ...  \n",
       "514570            0.0      0.0              0.0    0.0000  \n",
       "134787            0.0      0.0              0.0    0.0000  \n",
       "254690            0.0      0.0              0.0    0.0000  \n",
       "117505            0.0      0.0              0.0    0.0000  \n",
       "319845            0.0      0.0              0.0    0.0000  \n",
       "\n",
       "[81755 rows x 41 columns]"
      ]
     },
     "execution_count": 63,
     "metadata": {},
     "output_type": "execute_result"
    }
   ],
   "source": [
    "features"
   ]
  },
  {
   "cell_type": "code",
   "execution_count": 64,
   "id": "df0d373c",
   "metadata": {},
   "outputs": [
    {
     "data": {
      "text/plain": [
       "(81755, 41)"
      ]
     },
     "execution_count": 64,
     "metadata": {},
     "output_type": "execute_result"
    }
   ],
   "source": [
    "features.shape"
   ]
  },
  {
   "cell_type": "code",
   "execution_count": 65,
   "id": "024ebbda",
   "metadata": {},
   "outputs": [],
   "source": [
    "#Splitting the data for sklearn methods\n",
    "train_y, test_y, train_X, test_X = train_test_split(target,features, test_size=0.3, random_state=123)"
   ]
  },
  {
   "cell_type": "markdown",
   "id": "35a30649",
   "metadata": {},
   "source": [
    "### K-Nearest Neighbors"
   ]
  },
  {
   "cell_type": "markdown",
   "id": "278b896e",
   "metadata": {},
   "source": [
    "##### Important Tuning Parameters for KNN: \n",
    "- n_neighbors - The number of nearest neighbors K in the K-NN algorithm\n",
    "- weights - weight function used in predictions."
   ]
  },
  {
   "cell_type": "code",
   "execution_count": 66,
   "id": "297fa6cc",
   "metadata": {},
   "outputs": [],
   "source": [
    "#Standardization of data\n",
    "sc = StandardScaler()\n",
    "std_data = sc.fit_transform(train_X)"
   ]
  },
  {
   "cell_type": "code",
   "execution_count": 67,
   "id": "68cc5036",
   "metadata": {},
   "outputs": [],
   "source": [
    "std_data_train = pd.DataFrame(std_data, columns=train_X.columns, index = train_X.index )\n",
    "\n",
    "std_data_test = pd.DataFrame(sc.transform(test_X), columns=test_X.columns, index = test_X.index )"
   ]
  },
  {
   "cell_type": "code",
   "execution_count": 68,
   "id": "c73417c9",
   "metadata": {},
   "outputs": [],
   "source": [
    "#Using GridsearchCV with standrardized data\n",
    "param_grid = {'n_neighbors':[3,4,5,6,7,8],\n",
    "              'weights': ['uniform', 'distance']}\n",
    "model = GridSearchCV(KNeighborsClassifier(), param_grid = param_grid, cv=5, scoring = 'f1_weighted')\n",
    "model = model.fit(std_data_train, train_y)"
   ]
  },
  {
   "cell_type": "code",
   "execution_count": 69,
   "id": "49f46283",
   "metadata": {},
   "outputs": [],
   "source": [
    "train_pred = model.predict(std_data_train)\n",
    "test_pred = model.predict(std_data_test)"
   ]
  },
  {
   "cell_type": "code",
   "execution_count": 70,
   "id": "fa145386",
   "metadata": {},
   "outputs": [
    {
     "data": {
      "text/plain": [
       "0.9994582426099875"
      ]
     },
     "execution_count": 70,
     "metadata": {},
     "output_type": "execute_result"
    }
   ],
   "source": [
    "model.best_score_"
   ]
  },
  {
   "cell_type": "code",
   "execution_count": 71,
   "id": "468c8bd7",
   "metadata": {},
   "outputs": [
    {
     "name": "stdout",
     "output_type": "stream",
     "text": [
      "              precision    recall  f1-score   support\n",
      "\n",
      "           0       1.00      1.00      1.00     40488\n",
      "           1       1.00      1.00      1.00     16740\n",
      "\n",
      "    accuracy                           1.00     57228\n",
      "   macro avg       1.00      1.00      1.00     57228\n",
      "weighted avg       1.00      1.00      1.00     57228\n",
      "\n",
      "              precision    recall  f1-score   support\n",
      "\n",
      "           0       1.00      1.00      1.00     17124\n",
      "           1       1.00      1.00      1.00      7403\n",
      "\n",
      "    accuracy                           1.00     24527\n",
      "   macro avg       1.00      1.00      1.00     24527\n",
      "weighted avg       1.00      1.00      1.00     24527\n",
      "\n"
     ]
    }
   ],
   "source": [
    "print(metrics.classification_report(train_y, train_pred))\n",
    "\n",
    "print(metrics.classification_report(test_y, test_pred))\n"
   ]
  },
  {
   "cell_type": "markdown",
   "id": "03bfcf76",
   "metadata": {},
   "source": [
    "###  Decision Trees"
   ]
  },
  {
   "cell_type": "markdown",
   "id": "0cb30222",
   "metadata": {},
   "source": [
    "##### Important Tuning Parameters for DT: \n",
    "- criterion - measure for quality of a split\n",
    "- max_depth - The maximum depth of the tree.\n",
    "- max_leaf_nodes - Number of features to consider when looking for the best split\n",
    "- min_samples_leaf - The minimum number of samples required to be a leaf node. This may have effect of smoothing the model.\n",
    "- min_sample_split - The minimum number of samples required to split an internal node."
   ]
  },
  {
   "cell_type": "markdown",
   "id": "8c6fe76d",
   "metadata": {},
   "source": [
    "#### Fine Tuning the parameters"
   ]
  },
  {
   "cell_type": "code",
   "execution_count": 248,
   "id": "2af55e0f",
   "metadata": {},
   "outputs": [],
   "source": [
    "param_grid = {'max_depth': np.arange(3, 5),\n",
    "             'max_features': np.arange(3,5)}"
   ]
  },
  {
   "cell_type": "code",
   "execution_count": 249,
   "id": "c9de925d",
   "metadata": {},
   "outputs": [
    {
     "data": {
      "text/html": [
       "<style>#sk-container-id-1 {color: black;background-color: white;}#sk-container-id-1 pre{padding: 0;}#sk-container-id-1 div.sk-toggleable {background-color: white;}#sk-container-id-1 label.sk-toggleable__label {cursor: pointer;display: block;width: 100%;margin-bottom: 0;padding: 0.3em;box-sizing: border-box;text-align: center;}#sk-container-id-1 label.sk-toggleable__label-arrow:before {content: \"▸\";float: left;margin-right: 0.25em;color: #696969;}#sk-container-id-1 label.sk-toggleable__label-arrow:hover:before {color: black;}#sk-container-id-1 div.sk-estimator:hover label.sk-toggleable__label-arrow:before {color: black;}#sk-container-id-1 div.sk-toggleable__content {max-height: 0;max-width: 0;overflow: hidden;text-align: left;background-color: #f0f8ff;}#sk-container-id-1 div.sk-toggleable__content pre {margin: 0.2em;color: black;border-radius: 0.25em;background-color: #f0f8ff;}#sk-container-id-1 input.sk-toggleable__control:checked~div.sk-toggleable__content {max-height: 200px;max-width: 100%;overflow: auto;}#sk-container-id-1 input.sk-toggleable__control:checked~label.sk-toggleable__label-arrow:before {content: \"▾\";}#sk-container-id-1 div.sk-estimator input.sk-toggleable__control:checked~label.sk-toggleable__label {background-color: #d4ebff;}#sk-container-id-1 div.sk-label input.sk-toggleable__control:checked~label.sk-toggleable__label {background-color: #d4ebff;}#sk-container-id-1 input.sk-hidden--visually {border: 0;clip: rect(1px 1px 1px 1px);clip: rect(1px, 1px, 1px, 1px);height: 1px;margin: -1px;overflow: hidden;padding: 0;position: absolute;width: 1px;}#sk-container-id-1 div.sk-estimator {font-family: monospace;background-color: #f0f8ff;border: 1px dotted black;border-radius: 0.25em;box-sizing: border-box;margin-bottom: 0.5em;}#sk-container-id-1 div.sk-estimator:hover {background-color: #d4ebff;}#sk-container-id-1 div.sk-parallel-item::after {content: \"\";width: 100%;border-bottom: 1px solid gray;flex-grow: 1;}#sk-container-id-1 div.sk-label:hover label.sk-toggleable__label {background-color: #d4ebff;}#sk-container-id-1 div.sk-serial::before {content: \"\";position: absolute;border-left: 1px solid gray;box-sizing: border-box;top: 0;bottom: 0;left: 50%;z-index: 0;}#sk-container-id-1 div.sk-serial {display: flex;flex-direction: column;align-items: center;background-color: white;padding-right: 0.2em;padding-left: 0.2em;position: relative;}#sk-container-id-1 div.sk-item {position: relative;z-index: 1;}#sk-container-id-1 div.sk-parallel {display: flex;align-items: stretch;justify-content: center;background-color: white;position: relative;}#sk-container-id-1 div.sk-item::before, #sk-container-id-1 div.sk-parallel-item::before {content: \"\";position: absolute;border-left: 1px solid gray;box-sizing: border-box;top: 0;bottom: 0;left: 50%;z-index: -1;}#sk-container-id-1 div.sk-parallel-item {display: flex;flex-direction: column;z-index: 1;position: relative;background-color: white;}#sk-container-id-1 div.sk-parallel-item:first-child::after {align-self: flex-end;width: 50%;}#sk-container-id-1 div.sk-parallel-item:last-child::after {align-self: flex-start;width: 50%;}#sk-container-id-1 div.sk-parallel-item:only-child::after {width: 0;}#sk-container-id-1 div.sk-dashed-wrapped {border: 1px dashed gray;margin: 0 0.4em 0.5em 0.4em;box-sizing: border-box;padding-bottom: 0.4em;background-color: white;}#sk-container-id-1 div.sk-label label {font-family: monospace;font-weight: bold;display: inline-block;line-height: 1.2em;}#sk-container-id-1 div.sk-label-container {text-align: center;}#sk-container-id-1 div.sk-container {/* jupyter's `normalize.less` sets `[hidden] { display: none; }` but bootstrap.min.css set `[hidden] { display: none !important; }` so we also need the `!important` here to be able to override the default hidden behavior on the sphinx rendered scikit-learn.org. See: https://github.com/scikit-learn/scikit-learn/issues/21755 */display: inline-block !important;position: relative;}#sk-container-id-1 div.sk-text-repr-fallback {display: none;}</style><div id=\"sk-container-id-1\" class=\"sk-top-container\"><div class=\"sk-text-repr-fallback\"><pre>GridSearchCV(cv=5, estimator=DecisionTreeClassifier(),\n",
       "             param_grid={&#x27;max_depth&#x27;: array([3, 4]),\n",
       "                         &#x27;max_features&#x27;: array([3, 4])})</pre><b>In a Jupyter environment, please rerun this cell to show the HTML representation or trust the notebook. <br />On GitHub, the HTML representation is unable to render, please try loading this page with nbviewer.org.</b></div><div class=\"sk-container\" hidden><div class=\"sk-item sk-dashed-wrapped\"><div class=\"sk-label-container\"><div class=\"sk-label sk-toggleable\"><input class=\"sk-toggleable__control sk-hidden--visually\" id=\"sk-estimator-id-1\" type=\"checkbox\" ><label for=\"sk-estimator-id-1\" class=\"sk-toggleable__label sk-toggleable__label-arrow\">GridSearchCV</label><div class=\"sk-toggleable__content\"><pre>GridSearchCV(cv=5, estimator=DecisionTreeClassifier(),\n",
       "             param_grid={&#x27;max_depth&#x27;: array([3, 4]),\n",
       "                         &#x27;max_features&#x27;: array([3, 4])})</pre></div></div></div><div class=\"sk-parallel\"><div class=\"sk-parallel-item\"><div class=\"sk-item\"><div class=\"sk-label-container\"><div class=\"sk-label sk-toggleable\"><input class=\"sk-toggleable__control sk-hidden--visually\" id=\"sk-estimator-id-2\" type=\"checkbox\" ><label for=\"sk-estimator-id-2\" class=\"sk-toggleable__label sk-toggleable__label-arrow\">estimator: DecisionTreeClassifier</label><div class=\"sk-toggleable__content\"><pre>DecisionTreeClassifier()</pre></div></div></div><div class=\"sk-serial\"><div class=\"sk-item\"><div class=\"sk-estimator sk-toggleable\"><input class=\"sk-toggleable__control sk-hidden--visually\" id=\"sk-estimator-id-3\" type=\"checkbox\" ><label for=\"sk-estimator-id-3\" class=\"sk-toggleable__label sk-toggleable__label-arrow\">DecisionTreeClassifier</label><div class=\"sk-toggleable__content\"><pre>DecisionTreeClassifier()</pre></div></div></div></div></div></div></div></div></div></div>"
      ],
      "text/plain": [
       "GridSearchCV(cv=5, estimator=DecisionTreeClassifier(),\n",
       "             param_grid={'max_depth': array([3, 4]),\n",
       "                         'max_features': array([3, 4])})"
      ]
     },
     "execution_count": 249,
     "metadata": {},
     "output_type": "execute_result"
    }
   ],
   "source": [
    "tree = GridSearchCV(DecisionTreeClassifier(), param_grid, cv = 5)\n",
    "tree.fit( train_X, train_y )"
   ]
  },
  {
   "cell_type": "code",
   "execution_count": 250,
   "id": "55f689b7",
   "metadata": {},
   "outputs": [
    {
     "data": {
      "text/plain": [
       "0.9905553831747724"
      ]
     },
     "execution_count": 250,
     "metadata": {},
     "output_type": "execute_result"
    }
   ],
   "source": [
    "tree.best_score_"
   ]
  },
  {
   "cell_type": "code",
   "execution_count": 251,
   "id": "e6046753",
   "metadata": {},
   "outputs": [
    {
     "data": {
      "text/html": [
       "<style>#sk-container-id-2 {color: black;background-color: white;}#sk-container-id-2 pre{padding: 0;}#sk-container-id-2 div.sk-toggleable {background-color: white;}#sk-container-id-2 label.sk-toggleable__label {cursor: pointer;display: block;width: 100%;margin-bottom: 0;padding: 0.3em;box-sizing: border-box;text-align: center;}#sk-container-id-2 label.sk-toggleable__label-arrow:before {content: \"▸\";float: left;margin-right: 0.25em;color: #696969;}#sk-container-id-2 label.sk-toggleable__label-arrow:hover:before {color: black;}#sk-container-id-2 div.sk-estimator:hover label.sk-toggleable__label-arrow:before {color: black;}#sk-container-id-2 div.sk-toggleable__content {max-height: 0;max-width: 0;overflow: hidden;text-align: left;background-color: #f0f8ff;}#sk-container-id-2 div.sk-toggleable__content pre {margin: 0.2em;color: black;border-radius: 0.25em;background-color: #f0f8ff;}#sk-container-id-2 input.sk-toggleable__control:checked~div.sk-toggleable__content {max-height: 200px;max-width: 100%;overflow: auto;}#sk-container-id-2 input.sk-toggleable__control:checked~label.sk-toggleable__label-arrow:before {content: \"▾\";}#sk-container-id-2 div.sk-estimator input.sk-toggleable__control:checked~label.sk-toggleable__label {background-color: #d4ebff;}#sk-container-id-2 div.sk-label input.sk-toggleable__control:checked~label.sk-toggleable__label {background-color: #d4ebff;}#sk-container-id-2 input.sk-hidden--visually {border: 0;clip: rect(1px 1px 1px 1px);clip: rect(1px, 1px, 1px, 1px);height: 1px;margin: -1px;overflow: hidden;padding: 0;position: absolute;width: 1px;}#sk-container-id-2 div.sk-estimator {font-family: monospace;background-color: #f0f8ff;border: 1px dotted black;border-radius: 0.25em;box-sizing: border-box;margin-bottom: 0.5em;}#sk-container-id-2 div.sk-estimator:hover {background-color: #d4ebff;}#sk-container-id-2 div.sk-parallel-item::after {content: \"\";width: 100%;border-bottom: 1px solid gray;flex-grow: 1;}#sk-container-id-2 div.sk-label:hover label.sk-toggleable__label {background-color: #d4ebff;}#sk-container-id-2 div.sk-serial::before {content: \"\";position: absolute;border-left: 1px solid gray;box-sizing: border-box;top: 0;bottom: 0;left: 50%;z-index: 0;}#sk-container-id-2 div.sk-serial {display: flex;flex-direction: column;align-items: center;background-color: white;padding-right: 0.2em;padding-left: 0.2em;position: relative;}#sk-container-id-2 div.sk-item {position: relative;z-index: 1;}#sk-container-id-2 div.sk-parallel {display: flex;align-items: stretch;justify-content: center;background-color: white;position: relative;}#sk-container-id-2 div.sk-item::before, #sk-container-id-2 div.sk-parallel-item::before {content: \"\";position: absolute;border-left: 1px solid gray;box-sizing: border-box;top: 0;bottom: 0;left: 50%;z-index: -1;}#sk-container-id-2 div.sk-parallel-item {display: flex;flex-direction: column;z-index: 1;position: relative;background-color: white;}#sk-container-id-2 div.sk-parallel-item:first-child::after {align-self: flex-end;width: 50%;}#sk-container-id-2 div.sk-parallel-item:last-child::after {align-self: flex-start;width: 50%;}#sk-container-id-2 div.sk-parallel-item:only-child::after {width: 0;}#sk-container-id-2 div.sk-dashed-wrapped {border: 1px dashed gray;margin: 0 0.4em 0.5em 0.4em;box-sizing: border-box;padding-bottom: 0.4em;background-color: white;}#sk-container-id-2 div.sk-label label {font-family: monospace;font-weight: bold;display: inline-block;line-height: 1.2em;}#sk-container-id-2 div.sk-label-container {text-align: center;}#sk-container-id-2 div.sk-container {/* jupyter's `normalize.less` sets `[hidden] { display: none; }` but bootstrap.min.css set `[hidden] { display: none !important; }` so we also need the `!important` here to be able to override the default hidden behavior on the sphinx rendered scikit-learn.org. See: https://github.com/scikit-learn/scikit-learn/issues/21755 */display: inline-block !important;position: relative;}#sk-container-id-2 div.sk-text-repr-fallback {display: none;}</style><div id=\"sk-container-id-2\" class=\"sk-top-container\"><div class=\"sk-text-repr-fallback\"><pre>DecisionTreeClassifier(max_depth=4, max_features=4)</pre><b>In a Jupyter environment, please rerun this cell to show the HTML representation or trust the notebook. <br />On GitHub, the HTML representation is unable to render, please try loading this page with nbviewer.org.</b></div><div class=\"sk-container\" hidden><div class=\"sk-item\"><div class=\"sk-estimator sk-toggleable\"><input class=\"sk-toggleable__control sk-hidden--visually\" id=\"sk-estimator-id-4\" type=\"checkbox\" checked><label for=\"sk-estimator-id-4\" class=\"sk-toggleable__label sk-toggleable__label-arrow\">DecisionTreeClassifier</label><div class=\"sk-toggleable__content\"><pre>DecisionTreeClassifier(max_depth=4, max_features=4)</pre></div></div></div></div></div>"
      ],
      "text/plain": [
       "DecisionTreeClassifier(max_depth=4, max_features=4)"
      ]
     },
     "execution_count": 251,
     "metadata": {},
     "output_type": "execute_result"
    }
   ],
   "source": [
    "tree.best_estimator_"
   ]
  },
  {
   "cell_type": "code",
   "execution_count": 252,
   "id": "17ac262d",
   "metadata": {},
   "outputs": [
    {
     "data": {
      "text/plain": [
       "{'max_depth': 4, 'max_features': 4}"
      ]
     },
     "execution_count": 252,
     "metadata": {},
     "output_type": "execute_result"
    }
   ],
   "source": [
    "tree.best_params_"
   ]
  },
  {
   "cell_type": "code",
   "execution_count": 253,
   "id": "b59d81b3",
   "metadata": {},
   "outputs": [],
   "source": [
    "train_pred = tree.predict(train_X)"
   ]
  },
  {
   "cell_type": "code",
   "execution_count": 254,
   "id": "3b031c50",
   "metadata": {},
   "outputs": [
    {
     "name": "stdout",
     "output_type": "stream",
     "text": [
      "              precision    recall  f1-score   support\n",
      "\n",
      "           0       0.99      1.00      1.00     80827\n",
      "           1       1.00      0.98      0.99     33630\n",
      "\n",
      "    accuracy                           0.99    114457\n",
      "   macro avg       1.00      0.99      0.99    114457\n",
      "weighted avg       0.99      0.99      0.99    114457\n",
      "\n"
     ]
    }
   ],
   "source": [
    "print(metrics.classification_report(train_y, train_pred))"
   ]
  },
  {
   "cell_type": "code",
   "execution_count": 255,
   "id": "2ebdd499",
   "metadata": {},
   "outputs": [],
   "source": [
    "test_pred = tree.predict(test_X)"
   ]
  },
  {
   "cell_type": "code",
   "execution_count": 256,
   "id": "3562b3c7",
   "metadata": {},
   "outputs": [
    {
     "name": "stdout",
     "output_type": "stream",
     "text": [
      "              precision    recall  f1-score   support\n",
      "\n",
      "           0       0.99      1.00      1.00     34634\n",
      "           1       1.00      0.98      0.99     14419\n",
      "\n",
      "    accuracy                           0.99     49053\n",
      "   macro avg       1.00      0.99      0.99     49053\n",
      "weighted avg       0.99      0.99      0.99     49053\n",
      "\n"
     ]
    }
   ],
   "source": [
    "print(metrics.classification_report(test_y, test_pred))"
   ]
  },
  {
   "cell_type": "markdown",
   "id": "7a31e4cd",
   "metadata": {},
   "source": [
    "### Building Final Decision Tree Model"
   ]
  },
  {
   "cell_type": "raw",
   "id": "1a784da9",
   "metadata": {},
   "source": [
    "train_X = train_X[train_X.columns.difference(['pred_prob'])]"
   ]
  },
  {
   "cell_type": "code",
   "execution_count": 257,
   "id": "39b3a611",
   "metadata": {},
   "outputs": [
    {
     "data": {
      "text/html": [
       "<style>#sk-container-id-3 {color: black;background-color: white;}#sk-container-id-3 pre{padding: 0;}#sk-container-id-3 div.sk-toggleable {background-color: white;}#sk-container-id-3 label.sk-toggleable__label {cursor: pointer;display: block;width: 100%;margin-bottom: 0;padding: 0.3em;box-sizing: border-box;text-align: center;}#sk-container-id-3 label.sk-toggleable__label-arrow:before {content: \"▸\";float: left;margin-right: 0.25em;color: #696969;}#sk-container-id-3 label.sk-toggleable__label-arrow:hover:before {color: black;}#sk-container-id-3 div.sk-estimator:hover label.sk-toggleable__label-arrow:before {color: black;}#sk-container-id-3 div.sk-toggleable__content {max-height: 0;max-width: 0;overflow: hidden;text-align: left;background-color: #f0f8ff;}#sk-container-id-3 div.sk-toggleable__content pre {margin: 0.2em;color: black;border-radius: 0.25em;background-color: #f0f8ff;}#sk-container-id-3 input.sk-toggleable__control:checked~div.sk-toggleable__content {max-height: 200px;max-width: 100%;overflow: auto;}#sk-container-id-3 input.sk-toggleable__control:checked~label.sk-toggleable__label-arrow:before {content: \"▾\";}#sk-container-id-3 div.sk-estimator input.sk-toggleable__control:checked~label.sk-toggleable__label {background-color: #d4ebff;}#sk-container-id-3 div.sk-label input.sk-toggleable__control:checked~label.sk-toggleable__label {background-color: #d4ebff;}#sk-container-id-3 input.sk-hidden--visually {border: 0;clip: rect(1px 1px 1px 1px);clip: rect(1px, 1px, 1px, 1px);height: 1px;margin: -1px;overflow: hidden;padding: 0;position: absolute;width: 1px;}#sk-container-id-3 div.sk-estimator {font-family: monospace;background-color: #f0f8ff;border: 1px dotted black;border-radius: 0.25em;box-sizing: border-box;margin-bottom: 0.5em;}#sk-container-id-3 div.sk-estimator:hover {background-color: #d4ebff;}#sk-container-id-3 div.sk-parallel-item::after {content: \"\";width: 100%;border-bottom: 1px solid gray;flex-grow: 1;}#sk-container-id-3 div.sk-label:hover label.sk-toggleable__label {background-color: #d4ebff;}#sk-container-id-3 div.sk-serial::before {content: \"\";position: absolute;border-left: 1px solid gray;box-sizing: border-box;top: 0;bottom: 0;left: 50%;z-index: 0;}#sk-container-id-3 div.sk-serial {display: flex;flex-direction: column;align-items: center;background-color: white;padding-right: 0.2em;padding-left: 0.2em;position: relative;}#sk-container-id-3 div.sk-item {position: relative;z-index: 1;}#sk-container-id-3 div.sk-parallel {display: flex;align-items: stretch;justify-content: center;background-color: white;position: relative;}#sk-container-id-3 div.sk-item::before, #sk-container-id-3 div.sk-parallel-item::before {content: \"\";position: absolute;border-left: 1px solid gray;box-sizing: border-box;top: 0;bottom: 0;left: 50%;z-index: -1;}#sk-container-id-3 div.sk-parallel-item {display: flex;flex-direction: column;z-index: 1;position: relative;background-color: white;}#sk-container-id-3 div.sk-parallel-item:first-child::after {align-self: flex-end;width: 50%;}#sk-container-id-3 div.sk-parallel-item:last-child::after {align-self: flex-start;width: 50%;}#sk-container-id-3 div.sk-parallel-item:only-child::after {width: 0;}#sk-container-id-3 div.sk-dashed-wrapped {border: 1px dashed gray;margin: 0 0.4em 0.5em 0.4em;box-sizing: border-box;padding-bottom: 0.4em;background-color: white;}#sk-container-id-3 div.sk-label label {font-family: monospace;font-weight: bold;display: inline-block;line-height: 1.2em;}#sk-container-id-3 div.sk-label-container {text-align: center;}#sk-container-id-3 div.sk-container {/* jupyter's `normalize.less` sets `[hidden] { display: none; }` but bootstrap.min.css set `[hidden] { display: none !important; }` so we also need the `!important` here to be able to override the default hidden behavior on the sphinx rendered scikit-learn.org. See: https://github.com/scikit-learn/scikit-learn/issues/21755 */display: inline-block !important;position: relative;}#sk-container-id-3 div.sk-text-repr-fallback {display: none;}</style><div id=\"sk-container-id-3\" class=\"sk-top-container\"><div class=\"sk-text-repr-fallback\"><pre>DecisionTreeClassifier(max_depth=4, max_features=4, max_leaf_nodes=5)</pre><b>In a Jupyter environment, please rerun this cell to show the HTML representation or trust the notebook. <br />On GitHub, the HTML representation is unable to render, please try loading this page with nbviewer.org.</b></div><div class=\"sk-container\" hidden><div class=\"sk-item\"><div class=\"sk-estimator sk-toggleable\"><input class=\"sk-toggleable__control sk-hidden--visually\" id=\"sk-estimator-id-5\" type=\"checkbox\" checked><label for=\"sk-estimator-id-5\" class=\"sk-toggleable__label sk-toggleable__label-arrow\">DecisionTreeClassifier</label><div class=\"sk-toggleable__content\"><pre>DecisionTreeClassifier(max_depth=4, max_features=4, max_leaf_nodes=5)</pre></div></div></div></div></div>"
      ],
      "text/plain": [
       "DecisionTreeClassifier(max_depth=4, max_features=4, max_leaf_nodes=5)"
      ]
     },
     "execution_count": 257,
     "metadata": {},
     "output_type": "execute_result"
    }
   ],
   "source": [
    "clf_tree = DecisionTreeClassifier( max_depth = 4, max_features=4, max_leaf_nodes=5 )\n",
    "clf_tree.fit( train_X, train_y )"
   ]
  },
  {
   "cell_type": "code",
   "execution_count": 259,
   "id": "25838ac7",
   "metadata": {},
   "outputs": [],
   "source": [
    "train_pred_proba = pd.DataFrame(clf_tree.predict_proba(train_X))[1]\n",
    "test_pred_proba = pd.DataFrame(clf_tree.predict_proba(test_X))[1]"
   ]
  },
  {
   "cell_type": "code",
   "execution_count": 260,
   "id": "c93ea31f",
   "metadata": {},
   "outputs": [
    {
     "name": "stdout",
     "output_type": "stream",
     "text": [
      "train_roc_auc_score :  0.9963861260770459\n",
      "test_roc_auc_score :  0.9962651719261792\n"
     ]
    }
   ],
   "source": [
    "print('train_roc_auc_score : ' , metrics.roc_auc_score(train_y , train_pred_proba))\n",
    "\n",
    "print('test_roc_auc_score : ' , metrics.roc_auc_score(test_y , test_pred_proba))"
   ]
  },
  {
   "cell_type": "code",
   "execution_count": 261,
   "id": "87f3d6d4",
   "metadata": {},
   "outputs": [],
   "source": [
    "train_pred_proba_dt = pd.DataFrame(clf_tree.predict(train_X))[0]\n",
    "test_pred_proba_dt = pd.DataFrame(clf_tree.predict(test_X))[0]"
   ]
  },
  {
   "cell_type": "code",
   "execution_count": 262,
   "id": "22070d0b",
   "metadata": {},
   "outputs": [
    {
     "name": "stdout",
     "output_type": "stream",
     "text": [
      "              precision    recall  f1-score   support\n",
      "\n",
      "           0       0.99      1.00      1.00     80827\n",
      "           1       1.00      0.98      0.99     33630\n",
      "\n",
      "    accuracy                           0.99    114457\n",
      "   macro avg       0.99      0.99      0.99    114457\n",
      "weighted avg       0.99      0.99      0.99    114457\n",
      "\n",
      "              precision    recall  f1-score   support\n",
      "\n",
      "           0       0.99      1.00      1.00     34634\n",
      "           1       1.00      0.98      0.99     14419\n",
      "\n",
      "    accuracy                           0.99     49053\n",
      "   macro avg       1.00      0.99      0.99     49053\n",
      "weighted avg       0.99      0.99      0.99     49053\n",
      "\n"
     ]
    }
   ],
   "source": [
    "print (metrics.classification_report(train_y , train_pred_proba_dt))\n",
    "\n",
    "print(metrics.classification_report(test_y , test_pred_proba_dt))"
   ]
  },
  {
   "cell_type": "code",
   "execution_count": 263,
   "id": "a16475fc",
   "metadata": {},
   "outputs": [
    {
     "data": {
      "text/plain": [
       "Index([' count', ' diff_srv_rate', ' dst_bytes', ' dst_host_count',\n",
       "       ' dst_host_diff_srv_rate', ' dst_host_rerror_rate',\n",
       "       ' dst_host_same_src_port_rate', ' dst_host_same_srv_rate',\n",
       "       ' dst_host_serror_rate', ' dst_host_srv_count',\n",
       "       ' dst_host_srv_diff_host_rate', ' dst_host_srv_rerror_rate',\n",
       "       ' dst_host_srv_serror_rate', ' flag', ' hot', ' is_guest_login',\n",
       "       ' is_host_login', ' land', ' logged_in', ' num_access_files',\n",
       "       ' num_compromised', ' num_failed_logins', ' num_file_creations',\n",
       "       ' num_outbound_cmds', ' num_root', ' num_shells', ' protocol_type',\n",
       "       ' rerror_rate', ' root_shell', ' same_srv_rate', ' serror_rate',\n",
       "       ' service', ' src_bytes', ' srv_count', ' srv_diff_host_rate',\n",
       "       ' srv_error_rate', ' srv_rerror_rate', ' su_attempted', ' urgent',\n",
       "       ' wrong_fragment', 'duration'],\n",
       "      dtype='object')"
      ]
     },
     "execution_count": 263,
     "metadata": {},
     "output_type": "execute_result"
    }
   ],
   "source": [
    "train_X.columns"
   ]
  },
  {
   "cell_type": "code",
   "execution_count": 279,
   "id": "e6ee02c9",
   "metadata": {},
   "outputs": [],
   "source": [
    "from sklearn.tree import export_text"
   ]
  },
  {
   "cell_type": "code",
   "execution_count": 281,
   "id": "b7f8e8d3",
   "metadata": {},
   "outputs": [
    {
     "name": "stdout",
     "output_type": "stream",
     "text": [
      "|---  dst_host_diff_srv_rate <= 0.00\n",
      "|   |---  logged_in <= 0.05\n",
      "|   |   |---  dst_host_serror_rate <= 0.07\n",
      "|   |   |   |--- class: 0\n",
      "|   |   |---  dst_host_serror_rate >  0.07\n",
      "|   |   |   |--- class: 1\n",
      "|   |---  logged_in >  0.05\n",
      "|   |   |--- class: 0\n",
      "|---  dst_host_diff_srv_rate >  0.00\n",
      "|   |---  src_bytes <= 0.00\n",
      "|   |   |--- class: 1\n",
      "|   |---  src_bytes >  0.00\n",
      "|   |   |--- class: 0\n",
      "\n"
     ]
    }
   ],
   "source": [
    "print ( export_text(clf_tree ,feature_names= [' count', ' diff_srv_rate', ' dst_bytes', ' dst_host_count',\n",
    "       ' dst_host_diff_srv_rate', ' dst_host_rerror_rate',\n",
    "       ' dst_host_same_src_port_rate', ' dst_host_same_srv_rate',\n",
    "       ' dst_host_serror_rate', ' dst_host_srv_count',\n",
    "       ' dst_host_srv_diff_host_rate', ' dst_host_srv_rerror_rate',\n",
    "       ' dst_host_srv_serror_rate', ' flag', ' hot', ' is_guest_login',\n",
    "       ' is_host_login', ' land', ' logged_in', ' num_access_files',\n",
    "       ' num_compromised', ' num_failed_logins', ' num_file_creations',\n",
    "       ' num_outbound_cmds', ' num_root', ' num_shells', ' protocol_type',\n",
    "       ' rerror_rate', ' root_shell', ' same_srv_rate', ' serror_rate',\n",
    "       ' service', ' src_bytes', ' srv_count', ' srv_diff_host_rate',\n",
    "       ' srv_error_rate', ' srv_rerror_rate', ' su_attempted', ' urgent',\n",
    "       ' wrong_fragment', 'duration'] ))\n",
    "\n"
   ]
  },
  {
   "cell_type": "markdown",
   "id": "809bae50",
   "metadata": {},
   "source": [
    "### Relative Importance of Features"
   ]
  },
  {
   "cell_type": "code",
   "execution_count": 265,
   "id": "98fcab59",
   "metadata": {},
   "outputs": [
    {
     "data": {
      "text/plain": [
       "array([0.        , 0.        , 0.        , 0.        , 0.78566183,\n",
       "       0.        , 0.        , 0.        , 0.01866556, 0.        ,\n",
       "       0.        , 0.        , 0.        , 0.        , 0.        ,\n",
       "       0.        , 0.        , 0.        , 0.00559442, 0.        ,\n",
       "       0.        , 0.        , 0.        , 0.        , 0.        ,\n",
       "       0.        , 0.        , 0.        , 0.        , 0.        ,\n",
       "       0.        , 0.        , 0.1900782 , 0.        , 0.        ,\n",
       "       0.        , 0.        , 0.        , 0.        , 0.        ,\n",
       "       0.        ])"
      ]
     },
     "execution_count": 265,
     "metadata": {},
     "output_type": "execute_result"
    }
   ],
   "source": [
    "clf_tree.feature_importances_"
   ]
  },
  {
   "cell_type": "code",
   "execution_count": 266,
   "id": "fd1607e0",
   "metadata": {},
   "outputs": [
    {
     "data": {
      "text/plain": [
       "[(' count', 0.0),\n",
       " (' diff_srv_rate', 0.0),\n",
       " (' dst_bytes', 0.0),\n",
       " (' dst_host_count', 0.0),\n",
       " (' dst_host_diff_srv_rate', 0.7856618260110573),\n",
       " (' dst_host_rerror_rate', 0.0),\n",
       " (' dst_host_same_src_port_rate', 0.0),\n",
       " (' dst_host_same_srv_rate', 0.0),\n",
       " (' dst_host_serror_rate', 0.01866555790439936),\n",
       " (' dst_host_srv_count', 0.0),\n",
       " (' dst_host_srv_diff_host_rate', 0.0),\n",
       " (' dst_host_srv_rerror_rate', 0.0),\n",
       " (' dst_host_srv_serror_rate', 0.0),\n",
       " (' flag', 0.0),\n",
       " (' hot', 0.0),\n",
       " (' is_guest_login', 0.0),\n",
       " (' is_host_login', 0.0),\n",
       " (' land', 0.0),\n",
       " (' logged_in', 0.005594416356937296),\n",
       " (' num_access_files', 0.0),\n",
       " (' num_compromised', 0.0),\n",
       " (' num_failed_logins', 0.0),\n",
       " (' num_file_creations', 0.0),\n",
       " (' num_outbound_cmds', 0.0),\n",
       " (' num_root', 0.0),\n",
       " (' num_shells', 0.0),\n",
       " (' protocol_type', 0.0),\n",
       " (' rerror_rate', 0.0),\n",
       " (' root_shell', 0.0),\n",
       " (' same_srv_rate', 0.0),\n",
       " (' serror_rate', 0.0),\n",
       " (' service', 0.0),\n",
       " (' src_bytes', 0.19007819972760612),\n",
       " (' srv_count', 0.0),\n",
       " (' srv_diff_host_rate', 0.0),\n",
       " (' srv_error_rate', 0.0),\n",
       " (' srv_rerror_rate', 0.0),\n",
       " (' su_attempted', 0.0),\n",
       " (' urgent', 0.0),\n",
       " (' wrong_fragment', 0.0),\n",
       " ('duration', 0.0)]"
      ]
     },
     "execution_count": 266,
     "metadata": {},
     "output_type": "execute_result"
    }
   ],
   "source": [
    "# summarize the selection of the attributes\n",
    "import itertools\n",
    "feature_map = [(i, v) for i, v in itertools.zip_longest(train_X.columns, clf_tree.feature_importances_)]\n",
    "\n",
    "feature_map"
   ]
  },
  {
   "cell_type": "code",
   "execution_count": 267,
   "id": "4afce9c2",
   "metadata": {},
   "outputs": [
    {
     "data": {
      "text/html": [
       "<div>\n",
       "<style scoped>\n",
       "    .dataframe tbody tr th:only-of-type {\n",
       "        vertical-align: middle;\n",
       "    }\n",
       "\n",
       "    .dataframe tbody tr th {\n",
       "        vertical-align: top;\n",
       "    }\n",
       "\n",
       "    .dataframe thead th {\n",
       "        text-align: right;\n",
       "    }\n",
       "</style>\n",
       "<table border=\"1\" class=\"dataframe\">\n",
       "  <thead>\n",
       "    <tr style=\"text-align: right;\">\n",
       "      <th></th>\n",
       "      <th>Feature</th>\n",
       "      <th>importance</th>\n",
       "    </tr>\n",
       "  </thead>\n",
       "  <tbody>\n",
       "    <tr>\n",
       "      <th>4</th>\n",
       "      <td>dst_host_diff_srv_rate</td>\n",
       "      <td>0.785662</td>\n",
       "    </tr>\n",
       "    <tr>\n",
       "      <th>32</th>\n",
       "      <td>src_bytes</td>\n",
       "      <td>0.190078</td>\n",
       "    </tr>\n",
       "    <tr>\n",
       "      <th>8</th>\n",
       "      <td>dst_host_serror_rate</td>\n",
       "      <td>0.018666</td>\n",
       "    </tr>\n",
       "    <tr>\n",
       "      <th>18</th>\n",
       "      <td>logged_in</td>\n",
       "      <td>0.005594</td>\n",
       "    </tr>\n",
       "    <tr>\n",
       "      <th>31</th>\n",
       "      <td>service</td>\n",
       "      <td>0.000000</td>\n",
       "    </tr>\n",
       "    <tr>\n",
       "      <th>24</th>\n",
       "      <td>num_root</td>\n",
       "      <td>0.000000</td>\n",
       "    </tr>\n",
       "    <tr>\n",
       "      <th>25</th>\n",
       "      <td>num_shells</td>\n",
       "      <td>0.000000</td>\n",
       "    </tr>\n",
       "    <tr>\n",
       "      <th>26</th>\n",
       "      <td>protocol_type</td>\n",
       "      <td>0.000000</td>\n",
       "    </tr>\n",
       "    <tr>\n",
       "      <th>27</th>\n",
       "      <td>rerror_rate</td>\n",
       "      <td>0.000000</td>\n",
       "    </tr>\n",
       "    <tr>\n",
       "      <th>28</th>\n",
       "      <td>root_shell</td>\n",
       "      <td>0.000000</td>\n",
       "    </tr>\n",
       "  </tbody>\n",
       "</table>\n",
       "</div>"
      ],
      "text/plain": [
       "                    Feature  importance\n",
       "4    dst_host_diff_srv_rate    0.785662\n",
       "32                src_bytes    0.190078\n",
       "8      dst_host_serror_rate    0.018666\n",
       "18                logged_in    0.005594\n",
       "31                  service    0.000000\n",
       "24                 num_root    0.000000\n",
       "25               num_shells    0.000000\n",
       "26            protocol_type    0.000000\n",
       "27              rerror_rate    0.000000\n",
       "28               root_shell    0.000000"
      ]
     },
     "execution_count": 267,
     "metadata": {},
     "output_type": "execute_result"
    }
   ],
   "source": [
    "Feature_importance = pd.DataFrame(feature_map, columns=['Feature', 'importance'])\n",
    "Feature_importance.sort_values('importance', inplace=True, ascending=False)\n",
    "Feature_importance.head(10)"
   ]
  },
  {
   "cell_type": "code",
   "execution_count": 270,
   "id": "6b6fac6d",
   "metadata": {},
   "outputs": [
    {
     "data": {
      "text/plain": [
       "<AxesSubplot:>"
      ]
     },
     "execution_count": 270,
     "metadata": {},
     "output_type": "execute_result"
    },
    {
     "data": {
      "image/png": "[encoded data removed]",
      "text/plain": [
       "<Figure size 432x288 with 1 Axes>"
      ]
     },
     "metadata": {
      "needs_background": "light"
     },
     "output_type": "display_data"
    }
   ],
   "source": [
    "Feature_importance.head(10).plot(kind = 'barh')"
   ]
  },
  {
   "cell_type": "markdown",
   "id": "75d67690",
   "metadata": {},
   "source": [
    "### Generate Rules from Decision Trees\n",
    "\n",
    "#### To create a decision tree visualization graph.\n",
    "- Install GraphViz (As per the OS and version you are using)\n",
    "- pip install pydotplus\n",
    "- Add the path to environmental variables\n",
    "- Note: The notebook needs a restart."
   ]
  },
  {
   "cell_type": "code",
   "execution_count": 271,
   "id": "bf71ba53",
   "metadata": {},
   "outputs": [],
   "source": [
    "import os\n",
    "os.environ[\"PATH\"] += os.pathsep + 'C:/Program Files/Graphviz/bin'"
   ]
  },
  {
   "cell_type": "code",
   "execution_count": 273,
   "id": "29f0ecba",
   "metadata": {},
   "outputs": [],
   "source": [
    "from sklearn.tree import DecisionTreeClassifier, export_graphviz"
   ]
  },
  {
   "cell_type": "code",
   "execution_count": 274,
   "id": "b3efc1e7",
   "metadata": {
    "scrolled": true
   },
   "outputs": [],
   "source": [
    "# Exporting the tree output in the form opendocument\n",
    "export_graphviz( clf_tree,\n",
    "              out_file = \"bank_tree.odt\",\n",
    "              feature_names = train_X.columns )"
   ]
  },
  {
   "cell_type": "code",
   "execution_count": 275,
   "id": "a06a582f",
   "metadata": {},
   "outputs": [],
   "source": [
    "# Converting open document file to jpg imanage\n",
    "\n",
    "import pydotplus as pdot\n",
    "chd_tree_graph = pdot.graphviz.graph_from_dot_file( 'bank_tree.odt' )"
   ]
  },
  {
   "cell_type": "code",
   "execution_count": 276,
   "id": "683508ac",
   "metadata": {},
   "outputs": [
    {
     "data": {
      "text/plain": [
       "True"
      ]
     },
     "execution_count": 276,
     "metadata": {},
     "output_type": "execute_result"
    }
   ],
   "source": [
    "chd_tree_graph.write_jpg( 'bank_tree.jpg' )"
   ]
  },
  {
   "cell_type": "code",
   "execution_count": 277,
   "id": "3391892f",
   "metadata": {},
   "outputs": [
    {
     "data": {
      "image/jpeg": "[encoded data removed]",
      "text/plain": [
       "<IPython.core.display.Image object>"
      ]
     },
     "execution_count": 277,
     "metadata": {},
     "output_type": "execute_result"
    }
   ],
   "source": [
    "# Viewing the image in the notebook (display the image)\n",
    "from IPython.display import Image\n",
    "Image(filename='bank_tree.jpg')"
   ]
  },
  {
   "cell_type": "markdown",
   "id": "0be3c381",
   "metadata": {},
   "source": [
    "### Bagging"
   ]
  },
  {
   "cell_type": "code",
   "execution_count": 282,
   "id": "9a55db96",
   "metadata": {},
   "outputs": [],
   "source": [
    "from sklearn.ensemble import BaggingClassifier"
   ]
  },
  {
   "cell_type": "code",
   "execution_count": 283,
   "id": "ea8d39d3",
   "metadata": {},
   "outputs": [],
   "source": [
    "### Tuning parameters\n",
    "\n",
    "pargrid_ada = {'n_estimators': [50, 60, 70]}"
   ]
  },
  {
   "cell_type": "code",
   "execution_count": 284,
   "id": "3717df22",
   "metadata": {},
   "outputs": [],
   "source": [
    "gscv_bagging = GridSearchCV(estimator=BaggingClassifier(), \n",
    "                        param_grid=pargrid_ada, \n",
    "                        cv=5,\n",
    "                        verbose=True, n_jobs=-1)  # we can write scoring if we need ."
   ]
  },
  {
   "cell_type": "code",
   "execution_count": 285,
   "id": "beb4e6d9",
   "metadata": {},
   "outputs": [
    {
     "name": "stdout",
     "output_type": "stream",
     "text": [
      "Fitting 5 folds for each of 3 candidates, totalling 15 fits\n"
     ]
    },
    {
     "data": {
      "text/plain": [
       "{'n_estimators': 70}"
      ]
     },
     "execution_count": 285,
     "metadata": {},
     "output_type": "execute_result"
    }
   ],
   "source": [
    "gscv_results = gscv_bagging.fit(train_X, train_y)\n",
    "\n",
    "gscv_results.best_params_"
   ]
  },
  {
   "cell_type": "code",
   "execution_count": 286,
   "id": "9a04073b",
   "metadata": {},
   "outputs": [
    {
     "data": {
      "text/plain": [
       "0.9997553650411402"
      ]
     },
     "execution_count": 286,
     "metadata": {},
     "output_type": "execute_result"
    }
   ],
   "source": [
    "gscv_results.best_score_"
   ]
  },
  {
   "cell_type": "markdown",
   "id": "329186df",
   "metadata": {},
   "source": [
    "\n",
    "## Random Forest"
   ]
  },
  {
   "cell_type": "markdown",
   "id": "ee54c6c5",
   "metadata": {},
   "source": [
    "##### Important Tuning Parameters for Random Forest: \n",
    "- criterion - measure for quality of a split\n",
    "- max_depth - The maximum depth of the tree.\n",
    "- max_leaf_nodes - Number of features to consider when looking for the best split\n",
    "- min_samples_leaf - The minimum number of samples required to be a leaf node. This may have effect of smoothing the model.\n",
    "- min_sample_split - The minimum number of samples required to split an internal node.\n",
    "- n_estimators - The number of trees in the forest\n",
    "- max_features - Number of features to consider when looking for the best split"
   ]
  },
  {
   "cell_type": "code",
   "execution_count": 287,
   "id": "ca6a6420",
   "metadata": {},
   "outputs": [],
   "source": [
    "from sklearn.ensemble import RandomForestClassifier"
   ]
  },
  {
   "cell_type": "code",
   "execution_count": 288,
   "id": "e0a6f909",
   "metadata": {},
   "outputs": [
    {
     "data": {
      "text/html": [
       "<style>#sk-container-id-4 {color: black;background-color: white;}#sk-container-id-4 pre{padding: 0;}#sk-container-id-4 div.sk-toggleable {background-color: white;}#sk-container-id-4 label.sk-toggleable__label {cursor: pointer;display: block;width: 100%;margin-bottom: 0;padding: 0.3em;box-sizing: border-box;text-align: center;}#sk-container-id-4 label.sk-toggleable__label-arrow:before {content: \"▸\";float: left;margin-right: 0.25em;color: #696969;}#sk-container-id-4 label.sk-toggleable__label-arrow:hover:before {color: black;}#sk-container-id-4 div.sk-estimator:hover label.sk-toggleable__label-arrow:before {color: black;}#sk-container-id-4 div.sk-toggleable__content {max-height: 0;max-width: 0;overflow: hidden;text-align: left;background-color: #f0f8ff;}#sk-container-id-4 div.sk-toggleable__content pre {margin: 0.2em;color: black;border-radius: 0.25em;background-color: #f0f8ff;}#sk-container-id-4 input.sk-toggleable__control:checked~div.sk-toggleable__content {max-height: 200px;max-width: 100%;overflow: auto;}#sk-container-id-4 input.sk-toggleable__control:checked~label.sk-toggleable__label-arrow:before {content: \"▾\";}#sk-container-id-4 div.sk-estimator input.sk-toggleable__control:checked~label.sk-toggleable__label {background-color: #d4ebff;}#sk-container-id-4 div.sk-label input.sk-toggleable__control:checked~label.sk-toggleable__label {background-color: #d4ebff;}#sk-container-id-4 input.sk-hidden--visually {border: 0;clip: rect(1px 1px 1px 1px);clip: rect(1px, 1px, 1px, 1px);height: 1px;margin: -1px;overflow: hidden;padding: 0;position: absolute;width: 1px;}#sk-container-id-4 div.sk-estimator {font-family: monospace;background-color: #f0f8ff;border: 1px dotted black;border-radius: 0.25em;box-sizing: border-box;margin-bottom: 0.5em;}#sk-container-id-4 div.sk-estimator:hover {background-color: #d4ebff;}#sk-container-id-4 div.sk-parallel-item::after {content: \"\";width: 100%;border-bottom: 1px solid gray;flex-grow: 1;}#sk-container-id-4 div.sk-label:hover label.sk-toggleable__label {background-color: #d4ebff;}#sk-container-id-4 div.sk-serial::before {content: \"\";position: absolute;border-left: 1px solid gray;box-sizing: border-box;top: 0;bottom: 0;left: 50%;z-index: 0;}#sk-container-id-4 div.sk-serial {display: flex;flex-direction: column;align-items: center;background-color: white;padding-right: 0.2em;padding-left: 0.2em;position: relative;}#sk-container-id-4 div.sk-item {position: relative;z-index: 1;}#sk-container-id-4 div.sk-parallel {display: flex;align-items: stretch;justify-content: center;background-color: white;position: relative;}#sk-container-id-4 div.sk-item::before, #sk-container-id-4 div.sk-parallel-item::before {content: \"\";position: absolute;border-left: 1px solid gray;box-sizing: border-box;top: 0;bottom: 0;left: 50%;z-index: -1;}#sk-container-id-4 div.sk-parallel-item {display: flex;flex-direction: column;z-index: 1;position: relative;background-color: white;}#sk-container-id-4 div.sk-parallel-item:first-child::after {align-self: flex-end;width: 50%;}#sk-container-id-4 div.sk-parallel-item:last-child::after {align-self: flex-start;width: 50%;}#sk-container-id-4 div.sk-parallel-item:only-child::after {width: 0;}#sk-container-id-4 div.sk-dashed-wrapped {border: 1px dashed gray;margin: 0 0.4em 0.5em 0.4em;box-sizing: border-box;padding-bottom: 0.4em;background-color: white;}#sk-container-id-4 div.sk-label label {font-family: monospace;font-weight: bold;display: inline-block;line-height: 1.2em;}#sk-container-id-4 div.sk-label-container {text-align: center;}#sk-container-id-4 div.sk-container {/* jupyter's `normalize.less` sets `[hidden] { display: none; }` but bootstrap.min.css set `[hidden] { display: none !important; }` so we also need the `!important` here to be able to override the default hidden behavior on the sphinx rendered scikit-learn.org. See: https://github.com/scikit-learn/scikit-learn/issues/21755 */display: inline-block !important;position: relative;}#sk-container-id-4 div.sk-text-repr-fallback {display: none;}</style><div id=\"sk-container-id-4\" class=\"sk-top-container\"><div class=\"sk-text-repr-fallback\"><pre>RandomForestClassifier(max_features=6, n_jobs=-1, oob_score=True)</pre><b>In a Jupyter environment, please rerun this cell to show the HTML representation or trust the notebook. <br />On GitHub, the HTML representation is unable to render, please try loading this page with nbviewer.org.</b></div><div class=\"sk-container\" hidden><div class=\"sk-item\"><div class=\"sk-estimator sk-toggleable\"><input class=\"sk-toggleable__control sk-hidden--visually\" id=\"sk-estimator-id-6\" type=\"checkbox\" checked><label for=\"sk-estimator-id-6\" class=\"sk-toggleable__label sk-toggleable__label-arrow\">RandomForestClassifier</label><div class=\"sk-toggleable__content\"><pre>RandomForestClassifier(max_features=6, n_jobs=-1, oob_score=True)</pre></div></div></div></div></div>"
      ],
      "text/plain": [
       "RandomForestClassifier(max_features=6, n_jobs=-1, oob_score=True)"
      ]
     },
     "execution_count": 288,
     "metadata": {},
     "output_type": "execute_result"
    }
   ],
   "source": [
    "radm_clf = RandomForestClassifier(oob_score=True,n_estimators=100 , max_features=6, n_jobs=-1) # If I want the score from oob then use it .\n",
    "radm_clf.fit( train_X, train_y )"
   ]
  },
  {
   "cell_type": "code",
   "execution_count": 289,
   "id": "3ed7ef08",
   "metadata": {},
   "outputs": [],
   "source": [
    "### Feature importance from the Random Forest Model\n",
    "\n",
    "radm_clf.feature_importances_\n",
    "\n",
    "indices = np.argsort(radm_clf.feature_importances_)[::-1]"
   ]
  },
  {
   "cell_type": "code",
   "execution_count": 290,
   "id": "228450d7",
   "metadata": {},
   "outputs": [
    {
     "data": {
      "text/plain": [
       "<Figure size 3600x3600 with 0 Axes>"
      ]
     },
     "execution_count": 290,
     "metadata": {},
     "output_type": "execute_result"
    },
    {
     "data": {
      "image/png": "[encoded data removed]",
      "text/plain": [
       "<Figure size 432x288 with 1 Axes>"
      ]
     },
     "metadata": {
      "needs_background": "light"
     },
     "output_type": "display_data"
    }
   ],
   "source": [
    "import seaborn as sn\n",
    "\n",
    "indices = np.argsort(radm_clf.feature_importances_)[::-1]\n",
    "feature_rank = pd.DataFrame( columns = ['rank', 'feature', 'importance'] )\n",
    "for f in range(train_X.shape[1]):\n",
    "  feature_rank.loc[f] = [f+1,\n",
    "                         train_X.columns[indices[f]],\n",
    "                         radm_clf.feature_importances_[indices[f]]]\n",
    "sn.barplot( y = 'feature', x = 'importance', data = feature_rank )\n",
    "plt.Figure(figsize=(50,50))"
   ]
  },
  {
   "cell_type": "code",
   "execution_count": 291,
   "id": "7b812d0f",
   "metadata": {},
   "outputs": [],
   "source": [
    "### Tuning parameters\n",
    "\n",
    "pargrid_ada = {'n_estimators': [50, 60, 70],\n",
    "                'max_features': [5,6]}\n",
    "gscv_Rf = GridSearchCV(estimator=RandomForestClassifier(), \n",
    "                        param_grid=pargrid_ada, \n",
    "                        cv=5,\n",
    "                        verbose=True, n_jobs=-1)"
   ]
  },
  {
   "cell_type": "code",
   "execution_count": 292,
   "id": "092c59a5",
   "metadata": {},
   "outputs": [
    {
     "name": "stdout",
     "output_type": "stream",
     "text": [
      "Fitting 5 folds for each of 6 candidates, totalling 30 fits\n"
     ]
    },
    {
     "data": {
      "text/plain": [
       "0.9997815762158375"
      ]
     },
     "execution_count": 292,
     "metadata": {},
     "output_type": "execute_result"
    }
   ],
   "source": [
    "gscv_results = gscv_Rf.fit(train_X, train_y)\n",
    "gscv_results.best_score_"
   ]
  },
  {
   "cell_type": "code",
   "execution_count": 293,
   "id": "b9f5389e",
   "metadata": {},
   "outputs": [
    {
     "data": {
      "text/plain": [
       "{'max_features': 6, 'n_estimators': 70}"
      ]
     },
     "execution_count": 293,
     "metadata": {},
     "output_type": "execute_result"
    }
   ],
   "source": [
    "gscv_results.best_params_"
   ]
  },
  {
   "cell_type": "code",
   "execution_count": 294,
   "id": "b6623bfc",
   "metadata": {},
   "outputs": [
    {
     "data": {
      "text/plain": [
       "array([0, 1, 0, ..., 0, 0, 1])"
      ]
     },
     "execution_count": 294,
     "metadata": {},
     "output_type": "execute_result"
    }
   ],
   "source": [
    "gscv_results.predict(train_X)"
   ]
  },
  {
   "cell_type": "raw",
   "id": "03da9070",
   "metadata": {},
   "source": [
    "import pickle\n",
    "\n",
    "# now you can save it to a file\n",
    "with open('RF_Model.pkl', 'wb') as f:\n",
    "    pickle.dump(gscv_results, f)"
   ]
  },
  {
   "cell_type": "markdown",
   "id": "332ac447",
   "metadata": {},
   "source": [
    "### hetrogenious model"
   ]
  },
  {
   "cell_type": "code",
   "execution_count": 295,
   "id": "81fc7667",
   "metadata": {},
   "outputs": [],
   "source": [
    "from sklearn.ensemble import VotingClassifier, VotingRegressor"
   ]
  },
  {
   "cell_type": "code",
   "execution_count": 297,
   "id": "5dbaf308",
   "metadata": {},
   "outputs": [
    {
     "name": "stdout",
     "output_type": "stream",
     "text": [
      "Fitting 5 folds for each of 3 candidates, totalling 15 fits\n"
     ]
    },
    {
     "data": {
      "text/html": [
       "<style>#sk-container-id-5 {color: black;background-color: white;}#sk-container-id-5 pre{padding: 0;}#sk-container-id-5 div.sk-toggleable {background-color: white;}#sk-container-id-5 label.sk-toggleable__label {cursor: pointer;display: block;width: 100%;margin-bottom: 0;padding: 0.3em;box-sizing: border-box;text-align: center;}#sk-container-id-5 label.sk-toggleable__label-arrow:before {content: \"▸\";float: left;margin-right: 0.25em;color: #696969;}#sk-container-id-5 label.sk-toggleable__label-arrow:hover:before {color: black;}#sk-container-id-5 div.sk-estimator:hover label.sk-toggleable__label-arrow:before {color: black;}#sk-container-id-5 div.sk-toggleable__content {max-height: 0;max-width: 0;overflow: hidden;text-align: left;background-color: #f0f8ff;}#sk-container-id-5 div.sk-toggleable__content pre {margin: 0.2em;color: black;border-radius: 0.25em;background-color: #f0f8ff;}#sk-container-id-5 input.sk-toggleable__control:checked~div.sk-toggleable__content {max-height: 200px;max-width: 100%;overflow: auto;}#sk-container-id-5 input.sk-toggleable__control:checked~label.sk-toggleable__label-arrow:before {content: \"▾\";}#sk-container-id-5 div.sk-estimator input.sk-toggleable__control:checked~label.sk-toggleable__label {background-color: #d4ebff;}#sk-container-id-5 div.sk-label input.sk-toggleable__control:checked~label.sk-toggleable__label {background-color: #d4ebff;}#sk-container-id-5 input.sk-hidden--visually {border: 0;clip: rect(1px 1px 1px 1px);clip: rect(1px, 1px, 1px, 1px);height: 1px;margin: -1px;overflow: hidden;padding: 0;position: absolute;width: 1px;}#sk-container-id-5 div.sk-estimator {font-family: monospace;background-color: #f0f8ff;border: 1px dotted black;border-radius: 0.25em;box-sizing: border-box;margin-bottom: 0.5em;}#sk-container-id-5 div.sk-estimator:hover {background-color: #d4ebff;}#sk-container-id-5 div.sk-parallel-item::after {content: \"\";width: 100%;border-bottom: 1px solid gray;flex-grow: 1;}#sk-container-id-5 div.sk-label:hover label.sk-toggleable__label {background-color: #d4ebff;}#sk-container-id-5 div.sk-serial::before {content: \"\";position: absolute;border-left: 1px solid gray;box-sizing: border-box;top: 0;bottom: 0;left: 50%;z-index: 0;}#sk-container-id-5 div.sk-serial {display: flex;flex-direction: column;align-items: center;background-color: white;padding-right: 0.2em;padding-left: 0.2em;position: relative;}#sk-container-id-5 div.sk-item {position: relative;z-index: 1;}#sk-container-id-5 div.sk-parallel {display: flex;align-items: stretch;justify-content: center;background-color: white;position: relative;}#sk-container-id-5 div.sk-item::before, #sk-container-id-5 div.sk-parallel-item::before {content: \"\";position: absolute;border-left: 1px solid gray;box-sizing: border-box;top: 0;bottom: 0;left: 50%;z-index: -1;}#sk-container-id-5 div.sk-parallel-item {display: flex;flex-direction: column;z-index: 1;position: relative;background-color: white;}#sk-container-id-5 div.sk-parallel-item:first-child::after {align-self: flex-end;width: 50%;}#sk-container-id-5 div.sk-parallel-item:last-child::after {align-self: flex-start;width: 50%;}#sk-container-id-5 div.sk-parallel-item:only-child::after {width: 0;}#sk-container-id-5 div.sk-dashed-wrapped {border: 1px dashed gray;margin: 0 0.4em 0.5em 0.4em;box-sizing: border-box;padding-bottom: 0.4em;background-color: white;}#sk-container-id-5 div.sk-label label {font-family: monospace;font-weight: bold;display: inline-block;line-height: 1.2em;}#sk-container-id-5 div.sk-label-container {text-align: center;}#sk-container-id-5 div.sk-container {/* jupyter's `normalize.less` sets `[hidden] { display: none; }` but bootstrap.min.css set `[hidden] { display: none !important; }` so we also need the `!important` here to be able to override the default hidden behavior on the sphinx rendered scikit-learn.org. See: https://github.com/scikit-learn/scikit-learn/issues/21755 */display: inline-block !important;position: relative;}#sk-container-id-5 div.sk-text-repr-fallback {display: none;}</style><div id=\"sk-container-id-5\" class=\"sk-top-container\"><div class=\"sk-text-repr-fallback\"><pre>VotingClassifier(estimators=[(&#x27;knn_model&#x27;,\n",
       "                              GridSearchCV(cv=5,\n",
       "                                           estimator=KNeighborsClassifier(),\n",
       "                                           param_grid={&#x27;n_neighbors&#x27;: [3, 4, 5,\n",
       "                                                                       6, 7,\n",
       "                                                                       8],\n",
       "                                                       &#x27;weights&#x27;: [&#x27;uniform&#x27;,\n",
       "                                                                   &#x27;distance&#x27;]},\n",
       "                                           scoring=&#x27;f1_weighted&#x27;)),\n",
       "                             (&#x27;radm_clf&#x27;,\n",
       "                              RandomForestClassifier(max_features=6, n_jobs=-1,\n",
       "                                                     oob_score=True)),\n",
       "                             (&#x27;tree_Model&#x27;,\n",
       "                              DecisionTreeClassifier(max_depth=4,\n",
       "                                                     max_features=4,\n",
       "                                                     max_leaf_nodes=5)),\n",
       "                             (&#x27;gscv_bagging&#x27;,\n",
       "                              GridSearchCV(cv=5, estimator=BaggingClassifier(),\n",
       "                                           n_jobs=-1,\n",
       "                                           param_grid={&#x27;n_estimators&#x27;: [50, 60,\n",
       "                                                                        70]},\n",
       "                                           verbose=True))])</pre><b>In a Jupyter environment, please rerun this cell to show the HTML representation or trust the notebook. <br />On GitHub, the HTML representation is unable to render, please try loading this page with nbviewer.org.</b></div><div class=\"sk-container\" hidden><div class=\"sk-item sk-dashed-wrapped\"><div class=\"sk-label-container\"><div class=\"sk-label sk-toggleable\"><input class=\"sk-toggleable__control sk-hidden--visually\" id=\"sk-estimator-id-7\" type=\"checkbox\" ><label for=\"sk-estimator-id-7\" class=\"sk-toggleable__label sk-toggleable__label-arrow\">VotingClassifier</label><div class=\"sk-toggleable__content\"><pre>VotingClassifier(estimators=[(&#x27;knn_model&#x27;,\n",
       "                              GridSearchCV(cv=5,\n",
       "                                           estimator=KNeighborsClassifier(),\n",
       "                                           param_grid={&#x27;n_neighbors&#x27;: [3, 4, 5,\n",
       "                                                                       6, 7,\n",
       "                                                                       8],\n",
       "                                                       &#x27;weights&#x27;: [&#x27;uniform&#x27;,\n",
       "                                                                   &#x27;distance&#x27;]},\n",
       "                                           scoring=&#x27;f1_weighted&#x27;)),\n",
       "                             (&#x27;radm_clf&#x27;,\n",
       "                              RandomForestClassifier(max_features=6, n_jobs=-1,\n",
       "                                                     oob_score=True)),\n",
       "                             (&#x27;tree_Model&#x27;,\n",
       "                              DecisionTreeClassifier(max_depth=4,\n",
       "                                                     max_features=4,\n",
       "                                                     max_leaf_nodes=5)),\n",
       "                             (&#x27;gscv_bagging&#x27;,\n",
       "                              GridSearchCV(cv=5, estimator=BaggingClassifier(),\n",
       "                                           n_jobs=-1,\n",
       "                                           param_grid={&#x27;n_estimators&#x27;: [50, 60,\n",
       "                                                                        70]},\n",
       "                                           verbose=True))])</pre></div></div></div><div class=\"sk-parallel\"><div class=\"sk-parallel-item\"><div class=\"sk-item\"><div class=\"sk-label-container\"><div class=\"sk-label sk-toggleable\"><label>knn_model</label></div></div><div class=\"sk-serial\"><div class=\"sk-item sk-dashed-wrapped\"><div class=\"sk-parallel\"><div class=\"sk-parallel-item\"><div class=\"sk-item\"><div class=\"sk-label-container\"><div class=\"sk-label sk-toggleable\"><input class=\"sk-toggleable__control sk-hidden--visually\" id=\"sk-estimator-id-8\" type=\"checkbox\" ><label for=\"sk-estimator-id-8\" class=\"sk-toggleable__label sk-toggleable__label-arrow\">estimator: KNeighborsClassifier</label><div class=\"sk-toggleable__content\"><pre>KNeighborsClassifier()</pre></div></div></div><div class=\"sk-serial\"><div class=\"sk-item\"><div class=\"sk-estimator sk-toggleable\"><input class=\"sk-toggleable__control sk-hidden--visually\" id=\"sk-estimator-id-9\" type=\"checkbox\" ><label for=\"sk-estimator-id-9\" class=\"sk-toggleable__label sk-toggleable__label-arrow\">KNeighborsClassifier</label><div class=\"sk-toggleable__content\"><pre>KNeighborsClassifier()</pre></div></div></div></div></div></div></div></div></div></div></div><div class=\"sk-parallel-item\"><div class=\"sk-item\"><div class=\"sk-label-container\"><div class=\"sk-label sk-toggleable\"><label>radm_clf</label></div></div><div class=\"sk-serial\"><div class=\"sk-item\"><div class=\"sk-estimator sk-toggleable\"><input class=\"sk-toggleable__control sk-hidden--visually\" id=\"sk-estimator-id-10\" type=\"checkbox\" ><label for=\"sk-estimator-id-10\" class=\"sk-toggleable__label sk-toggleable__label-arrow\">RandomForestClassifier</label><div class=\"sk-toggleable__content\"><pre>RandomForestClassifier(max_features=6, n_jobs=-1, oob_score=True)</pre></div></div></div></div></div></div><div class=\"sk-parallel-item\"><div class=\"sk-item\"><div class=\"sk-label-container\"><div class=\"sk-label sk-toggleable\"><label>tree_Model</label></div></div><div class=\"sk-serial\"><div class=\"sk-item\"><div class=\"sk-estimator sk-toggleable\"><input class=\"sk-toggleable__control sk-hidden--visually\" id=\"sk-estimator-id-11\" type=\"checkbox\" ><label for=\"sk-estimator-id-11\" class=\"sk-toggleable__label sk-toggleable__label-arrow\">DecisionTreeClassifier</label><div class=\"sk-toggleable__content\"><pre>DecisionTreeClassifier(max_depth=4, max_features=4, max_leaf_nodes=5)</pre></div></div></div></div></div></div><div class=\"sk-parallel-item\"><div class=\"sk-item\"><div class=\"sk-label-container\"><div class=\"sk-label sk-toggleable\"><label>gscv_bagging</label></div></div><div class=\"sk-serial\"><div class=\"sk-item sk-dashed-wrapped\"><div class=\"sk-parallel\"><div class=\"sk-parallel-item\"><div class=\"sk-item\"><div class=\"sk-label-container\"><div class=\"sk-label sk-toggleable\"><input class=\"sk-toggleable__control sk-hidden--visually\" id=\"sk-estimator-id-12\" type=\"checkbox\" ><label for=\"sk-estimator-id-12\" class=\"sk-toggleable__label sk-toggleable__label-arrow\">estimator: BaggingClassifier</label><div class=\"sk-toggleable__content\"><pre>BaggingClassifier()</pre></div></div></div><div class=\"sk-serial\"><div class=\"sk-item\"><div class=\"sk-estimator sk-toggleable\"><input class=\"sk-toggleable__control sk-hidden--visually\" id=\"sk-estimator-id-13\" type=\"checkbox\" ><label for=\"sk-estimator-id-13\" class=\"sk-toggleable__label sk-toggleable__label-arrow\">BaggingClassifier</label><div class=\"sk-toggleable__content\"><pre>BaggingClassifier()</pre></div></div></div></div></div></div></div></div></div></div></div></div></div></div></div>"
      ],
      "text/plain": [
       "VotingClassifier(estimators=[('knn_model',\n",
       "                              GridSearchCV(cv=5,\n",
       "                                           estimator=KNeighborsClassifier(),\n",
       "                                           param_grid={'n_neighbors': [3, 4, 5,\n",
       "                                                                       6, 7,\n",
       "                                                                       8],\n",
       "                                                       'weights': ['uniform',\n",
       "                                                                   'distance']},\n",
       "                                           scoring='f1_weighted')),\n",
       "                             ('radm_clf',\n",
       "                              RandomForestClassifier(max_features=6, n_jobs=-1,\n",
       "                                                     oob_score=True)),\n",
       "                             ('tree_Model',\n",
       "                              DecisionTreeClassifier(max_depth=4,\n",
       "                                                     max_features=4,\n",
       "                                                     max_leaf_nodes=5)),\n",
       "                             ('gscv_bagging',\n",
       "                              GridSearchCV(cv=5, estimator=BaggingClassifier(),\n",
       "                                           n_jobs=-1,\n",
       "                                           param_grid={'n_estimators': [50, 60,\n",
       "                                                                        70]},\n",
       "                                           verbose=True))])"
      ]
     },
     "execution_count": 297,
     "metadata": {},
     "output_type": "execute_result"
    }
   ],
   "source": [
    "voting_clf = VotingClassifier(estimators = [('knn_model',model), ('radm_clf',radm_clf), ('tree_Model', clf_tree),('gscv_bagging',gscv_bagging)], voting = 'hard')\n",
    "voting_clf.fit(train_X, train_y)"
   ]
  },
  {
   "cell_type": "code",
   "execution_count": 298,
   "id": "a6659502",
   "metadata": {},
   "outputs": [
    {
     "name": "stdout",
     "output_type": "stream",
     "text": [
      "0.9996126638533831\n",
      "0.9993816266732397\n"
     ]
    }
   ],
   "source": [
    "print(metrics.accuracy_score(test_y,voting_clf.predict(test_X)))\n",
    "print(metrics.roc_auc_score(test_y,voting_clf.predict(test_X)))"
   ]
  },
  {
   "cell_type": "markdown",
   "id": "3e11bbcc",
   "metadata": {},
   "source": [
    "\n",
    "\n",
    "\n",
    "### Boosting"
   ]
  },
  {
   "cell_type": "markdown",
   "id": "962d08dc",
   "metadata": {},
   "source": [
    "#### Ada Boosting"
   ]
  },
  {
   "cell_type": "code",
   "execution_count": 179,
   "id": "67bfb3ba",
   "metadata": {},
   "outputs": [],
   "source": [
    "pargrid_ada = {'n_estimators': [100, 200, 400],\n",
    "               'learning_rate': [10 ** x for x in range(-1, 1)]}"
   ]
  },
  {
   "cell_type": "code",
   "execution_count": 180,
   "id": "d2782eda",
   "metadata": {},
   "outputs": [],
   "source": [
    "gscv_ada = GridSearchCV(estimator=AdaBoostClassifier(), \n",
    "                        param_grid=pargrid_ada, \n",
    "                        cv=5,\n",
    "                        verbose=True, n_jobs=-1)\n"
   ]
  },
  {
   "cell_type": "code",
   "execution_count": 181,
   "id": "d954c258",
   "metadata": {},
   "outputs": [
    {
     "name": "stdout",
     "output_type": "stream",
     "text": [
      "Fitting 5 folds for each of 6 candidates, totalling 30 fits\n"
     ]
    },
    {
     "data": {
      "text/plain": [
       "{'learning_rate': 1, 'n_estimators': 400}"
      ]
     },
     "execution_count": 181,
     "metadata": {},
     "output_type": "execute_result"
    }
   ],
   "source": [
    "gscv_ada.fit(train_X, train_y)\n",
    "\n",
    "gscv_ada.best_params_"
   ]
  },
  {
   "cell_type": "code",
   "execution_count": 182,
   "id": "99267dc2",
   "metadata": {},
   "outputs": [
    {
     "data": {
      "text/plain": [
       "0.9996417844291102"
      ]
     },
     "execution_count": 182,
     "metadata": {},
     "output_type": "execute_result"
    }
   ],
   "source": [
    "clf_ada = gscv_ada.best_estimator_\n",
    "\n",
    "gscv_ada.best_score_"
   ]
  },
  {
   "cell_type": "code",
   "execution_count": 183,
   "id": "db457442",
   "metadata": {},
   "outputs": [
    {
     "data": {
      "text/html": [
       "<style>#sk-container-id-1 {color: black;background-color: white;}#sk-container-id-1 pre{padding: 0;}#sk-container-id-1 div.sk-toggleable {background-color: white;}#sk-container-id-1 label.sk-toggleable__label {cursor: pointer;display: block;width: 100%;margin-bottom: 0;padding: 0.3em;box-sizing: border-box;text-align: center;}#sk-container-id-1 label.sk-toggleable__label-arrow:before {content: \"▸\";float: left;margin-right: 0.25em;color: #696969;}#sk-container-id-1 label.sk-toggleable__label-arrow:hover:before {color: black;}#sk-container-id-1 div.sk-estimator:hover label.sk-toggleable__label-arrow:before {color: black;}#sk-container-id-1 div.sk-toggleable__content {max-height: 0;max-width: 0;overflow: hidden;text-align: left;background-color: #f0f8ff;}#sk-container-id-1 div.sk-toggleable__content pre {margin: 0.2em;color: black;border-radius: 0.25em;background-color: #f0f8ff;}#sk-container-id-1 input.sk-toggleable__control:checked~div.sk-toggleable__content {max-height: 200px;max-width: 100%;overflow: auto;}#sk-container-id-1 input.sk-toggleable__control:checked~label.sk-toggleable__label-arrow:before {content: \"▾\";}#sk-container-id-1 div.sk-estimator input.sk-toggleable__control:checked~label.sk-toggleable__label {background-color: #d4ebff;}#sk-container-id-1 div.sk-label input.sk-toggleable__control:checked~label.sk-toggleable__label {background-color: #d4ebff;}#sk-container-id-1 input.sk-hidden--visually {border: 0;clip: rect(1px 1px 1px 1px);clip: rect(1px, 1px, 1px, 1px);height: 1px;margin: -1px;overflow: hidden;padding: 0;position: absolute;width: 1px;}#sk-container-id-1 div.sk-estimator {font-family: monospace;background-color: #f0f8ff;border: 1px dotted black;border-radius: 0.25em;box-sizing: border-box;margin-bottom: 0.5em;}#sk-container-id-1 div.sk-estimator:hover {background-color: #d4ebff;}#sk-container-id-1 div.sk-parallel-item::after {content: \"\";width: 100%;border-bottom: 1px solid gray;flex-grow: 1;}#sk-container-id-1 div.sk-label:hover label.sk-toggleable__label {background-color: #d4ebff;}#sk-container-id-1 div.sk-serial::before {content: \"\";position: absolute;border-left: 1px solid gray;box-sizing: border-box;top: 0;bottom: 0;left: 50%;z-index: 0;}#sk-container-id-1 div.sk-serial {display: flex;flex-direction: column;align-items: center;background-color: white;padding-right: 0.2em;padding-left: 0.2em;position: relative;}#sk-container-id-1 div.sk-item {position: relative;z-index: 1;}#sk-container-id-1 div.sk-parallel {display: flex;align-items: stretch;justify-content: center;background-color: white;position: relative;}#sk-container-id-1 div.sk-item::before, #sk-container-id-1 div.sk-parallel-item::before {content: \"\";position: absolute;border-left: 1px solid gray;box-sizing: border-box;top: 0;bottom: 0;left: 50%;z-index: -1;}#sk-container-id-1 div.sk-parallel-item {display: flex;flex-direction: column;z-index: 1;position: relative;background-color: white;}#sk-container-id-1 div.sk-parallel-item:first-child::after {align-self: flex-end;width: 50%;}#sk-container-id-1 div.sk-parallel-item:last-child::after {align-self: flex-start;width: 50%;}#sk-container-id-1 div.sk-parallel-item:only-child::after {width: 0;}#sk-container-id-1 div.sk-dashed-wrapped {border: 1px dashed gray;margin: 0 0.4em 0.5em 0.4em;box-sizing: border-box;padding-bottom: 0.4em;background-color: white;}#sk-container-id-1 div.sk-label label {font-family: monospace;font-weight: bold;display: inline-block;line-height: 1.2em;}#sk-container-id-1 div.sk-label-container {text-align: center;}#sk-container-id-1 div.sk-container {/* jupyter's `normalize.less` sets `[hidden] { display: none; }` but bootstrap.min.css set `[hidden] { display: none !important; }` so we also need the `!important` here to be able to override the default hidden behavior on the sphinx rendered scikit-learn.org. See: https://github.com/scikit-learn/scikit-learn/issues/21755 */display: inline-block !important;position: relative;}#sk-container-id-1 div.sk-text-repr-fallback {display: none;}</style><div id=\"sk-container-id-1\" class=\"sk-top-container\"><div class=\"sk-text-repr-fallback\"><pre>AdaBoostClassifier(learning_rate=0.1, n_estimators=800)</pre><b>In a Jupyter environment, please rerun this cell to show the HTML representation or trust the notebook. <br />On GitHub, the HTML representation is unable to render, please try loading this page with nbviewer.org.</b></div><div class=\"sk-container\" hidden><div class=\"sk-item\"><div class=\"sk-estimator sk-toggleable\"><input class=\"sk-toggleable__control sk-hidden--visually\" id=\"sk-estimator-id-1\" type=\"checkbox\" checked><label for=\"sk-estimator-id-1\" class=\"sk-toggleable__label sk-toggleable__label-arrow\">AdaBoostClassifier</label><div class=\"sk-toggleable__content\"><pre>AdaBoostClassifier(learning_rate=0.1, n_estimators=800)</pre></div></div></div></div></div>"
      ],
      "text/plain": [
       "AdaBoostClassifier(learning_rate=0.1, n_estimators=800)"
      ]
     },
     "execution_count": 183,
     "metadata": {},
     "output_type": "execute_result"
    }
   ],
   "source": [
    "ad=AdaBoostClassifier(learning_rate = 0.1, n_estimators=800)\n",
    "ad.fit(train_X, train_y )\n"
   ]
  },
  {
   "cell_type": "code",
   "execution_count": 202,
   "id": "119ada10",
   "metadata": {},
   "outputs": [
    {
     "name": "stdout",
     "output_type": "stream",
     "text": [
      "0.9999968957535436\n",
      "0.9999506055061684\n"
     ]
    }
   ],
   "source": [
    "#Train data - AUC Score\n",
    "print(metrics.roc_auc_score(train_y, pd.DataFrame(ad.predict_proba(train_X))[1]))\n",
    "\n",
    "#Test data - AUC Score\n",
    "print(metrics.roc_auc_score(test_y, pd.DataFrame(ad.predict_proba(test_X))[1]))"
   ]
  },
  {
   "cell_type": "markdown",
   "id": "a9ed71a4",
   "metadata": {},
   "source": [
    "### Gradient Boost"
   ]
  },
  {
   "cell_type": "markdown",
   "id": "a582f46b",
   "metadata": {},
   "source": [
    "##### Important Tuning Parameters for GBM: \n",
    "- learning_rate - the effect of each tree on the outcome is shrunk by this factor.\n",
    "- criterion - measure for quality of a split\n",
    "- max_depth - The maximum depth of the tree.\n",
    "- max_leaf_nodes - Number of features to consider when looking for the best split\n",
    "- min_samples_leaf - The minimum number of samples required to be a leaf node. This may have effect of smoothing the model.\n",
    "- min_sample_split - The minimum number of samples required to split an internal node.\n",
    "- n_estimators - The number of trees in the forest\n",
    "- max_features - Number of features to consider when looking for the best split"
   ]
  },
  {
   "cell_type": "code",
   "execution_count": 184,
   "id": "95ee3390",
   "metadata": {},
   "outputs": [],
   "source": [
    "gscv_gbm = GridSearchCV(estimator=GradientBoostingClassifier(), \n",
    "                        param_grid=pargrid_ada, \n",
    "                        cv=5,\n",
    "                        verbose=True, n_jobs=-1)\n"
   ]
  },
  {
   "cell_type": "code",
   "execution_count": 185,
   "id": "6ad7416b",
   "metadata": {},
   "outputs": [
    {
     "name": "stdout",
     "output_type": "stream",
     "text": [
      "Fitting 5 folds for each of 6 candidates, totalling 30 fits\n"
     ]
    },
    {
     "data": {
      "text/plain": [
       "{'learning_rate': 0.1, 'n_estimators': 400}"
      ]
     },
     "execution_count": 185,
     "metadata": {},
     "output_type": "execute_result"
    }
   ],
   "source": [
    "gscv_gbm.fit(train_X, train_y)\n",
    "\n",
    "gscv_gbm.best_params_\n",
    "\n"
   ]
  },
  {
   "cell_type": "code",
   "execution_count": 186,
   "id": "647084d0",
   "metadata": {},
   "outputs": [
    {
     "data": {
      "text/plain": [
       "0.9998077866272064"
      ]
     },
     "execution_count": 186,
     "metadata": {},
     "output_type": "execute_result"
    }
   ],
   "source": [
    "clf_gbm = gscv_gbm.best_estimator_\n",
    "\n",
    "gscv_gbm.best_score_"
   ]
  },
  {
   "cell_type": "code",
   "execution_count": 187,
   "id": "7bfe988b",
   "metadata": {},
   "outputs": [
    {
     "name": "stdout",
     "output_type": "stream",
     "text": [
      "1.0\n",
      "0.9999885639942322\n"
     ]
    }
   ],
   "source": [
    "#Train data - AUC Score\n",
    "print(metrics.roc_auc_score(train_y, pd.DataFrame(gscv_gbm.predict_proba(train_X))[1]))\n",
    "\n",
    "#Test data - AUC Score\n",
    "print(metrics.roc_auc_score(test_y, pd.DataFrame(gscv_gbm.predict_proba(test_X))[1]))"
   ]
  },
  {
   "cell_type": "code",
   "execution_count": 188,
   "id": "457d8225",
   "metadata": {},
   "outputs": [
    {
     "data": {
      "text/html": [
       "<style>#sk-container-id-2 {color: black;background-color: white;}#sk-container-id-2 pre{padding: 0;}#sk-container-id-2 div.sk-toggleable {background-color: white;}#sk-container-id-2 label.sk-toggleable__label {cursor: pointer;display: block;width: 100%;margin-bottom: 0;padding: 0.3em;box-sizing: border-box;text-align: center;}#sk-container-id-2 label.sk-toggleable__label-arrow:before {content: \"▸\";float: left;margin-right: 0.25em;color: #696969;}#sk-container-id-2 label.sk-toggleable__label-arrow:hover:before {color: black;}#sk-container-id-2 div.sk-estimator:hover label.sk-toggleable__label-arrow:before {color: black;}#sk-container-id-2 div.sk-toggleable__content {max-height: 0;max-width: 0;overflow: hidden;text-align: left;background-color: #f0f8ff;}#sk-container-id-2 div.sk-toggleable__content pre {margin: 0.2em;color: black;border-radius: 0.25em;background-color: #f0f8ff;}#sk-container-id-2 input.sk-toggleable__control:checked~div.sk-toggleable__content {max-height: 200px;max-width: 100%;overflow: auto;}#sk-container-id-2 input.sk-toggleable__control:checked~label.sk-toggleable__label-arrow:before {content: \"▾\";}#sk-container-id-2 div.sk-estimator input.sk-toggleable__control:checked~label.sk-toggleable__label {background-color: #d4ebff;}#sk-container-id-2 div.sk-label input.sk-toggleable__control:checked~label.sk-toggleable__label {background-color: #d4ebff;}#sk-container-id-2 input.sk-hidden--visually {border: 0;clip: rect(1px 1px 1px 1px);clip: rect(1px, 1px, 1px, 1px);height: 1px;margin: -1px;overflow: hidden;padding: 0;position: absolute;width: 1px;}#sk-container-id-2 div.sk-estimator {font-family: monospace;background-color: #f0f8ff;border: 1px dotted black;border-radius: 0.25em;box-sizing: border-box;margin-bottom: 0.5em;}#sk-container-id-2 div.sk-estimator:hover {background-color: #d4ebff;}#sk-container-id-2 div.sk-parallel-item::after {content: \"\";width: 100%;border-bottom: 1px solid gray;flex-grow: 1;}#sk-container-id-2 div.sk-label:hover label.sk-toggleable__label {background-color: #d4ebff;}#sk-container-id-2 div.sk-serial::before {content: \"\";position: absolute;border-left: 1px solid gray;box-sizing: border-box;top: 0;bottom: 0;left: 50%;z-index: 0;}#sk-container-id-2 div.sk-serial {display: flex;flex-direction: column;align-items: center;background-color: white;padding-right: 0.2em;padding-left: 0.2em;position: relative;}#sk-container-id-2 div.sk-item {position: relative;z-index: 1;}#sk-container-id-2 div.sk-parallel {display: flex;align-items: stretch;justify-content: center;background-color: white;position: relative;}#sk-container-id-2 div.sk-item::before, #sk-container-id-2 div.sk-parallel-item::before {content: \"\";position: absolute;border-left: 1px solid gray;box-sizing: border-box;top: 0;bottom: 0;left: 50%;z-index: -1;}#sk-container-id-2 div.sk-parallel-item {display: flex;flex-direction: column;z-index: 1;position: relative;background-color: white;}#sk-container-id-2 div.sk-parallel-item:first-child::after {align-self: flex-end;width: 50%;}#sk-container-id-2 div.sk-parallel-item:last-child::after {align-self: flex-start;width: 50%;}#sk-container-id-2 div.sk-parallel-item:only-child::after {width: 0;}#sk-container-id-2 div.sk-dashed-wrapped {border: 1px dashed gray;margin: 0 0.4em 0.5em 0.4em;box-sizing: border-box;padding-bottom: 0.4em;background-color: white;}#sk-container-id-2 div.sk-label label {font-family: monospace;font-weight: bold;display: inline-block;line-height: 1.2em;}#sk-container-id-2 div.sk-label-container {text-align: center;}#sk-container-id-2 div.sk-container {/* jupyter's `normalize.less` sets `[hidden] { display: none; }` but bootstrap.min.css set `[hidden] { display: none !important; }` so we also need the `!important` here to be able to override the default hidden behavior on the sphinx rendered scikit-learn.org. See: https://github.com/scikit-learn/scikit-learn/issues/21755 */display: inline-block !important;position: relative;}#sk-container-id-2 div.sk-text-repr-fallback {display: none;}</style><div id=\"sk-container-id-2\" class=\"sk-top-container\"><div class=\"sk-text-repr-fallback\"><pre>GradientBoostingClassifier(n_estimators=800)</pre><b>In a Jupyter environment, please rerun this cell to show the HTML representation or trust the notebook. <br />On GitHub, the HTML representation is unable to render, please try loading this page with nbviewer.org.</b></div><div class=\"sk-container\" hidden><div class=\"sk-item\"><div class=\"sk-estimator sk-toggleable\"><input class=\"sk-toggleable__control sk-hidden--visually\" id=\"sk-estimator-id-2\" type=\"checkbox\" checked><label for=\"sk-estimator-id-2\" class=\"sk-toggleable__label sk-toggleable__label-arrow\">GradientBoostingClassifier</label><div class=\"sk-toggleable__content\"><pre>GradientBoostingClassifier(n_estimators=800)</pre></div></div></div></div></div>"
      ],
      "text/plain": [
       "GradientBoostingClassifier(n_estimators=800)"
      ]
     },
     "execution_count": 188,
     "metadata": {},
     "output_type": "execute_result"
    }
   ],
   "source": [
    "gbm=GradientBoostingClassifier(learning_rate = 0.1, n_estimators=800)\n",
    "gbm.fit(train_X, train_y )"
   ]
  },
  {
   "cell_type": "code",
   "execution_count": 189,
   "id": "a88f7da0",
   "metadata": {},
   "outputs": [
    {
     "name": "stdout",
     "output_type": "stream",
     "text": [
      "1.0\n",
      "0.9999885639942322\n"
     ]
    }
   ],
   "source": [
    "#Train data - AUC Score\n",
    "print(metrics.roc_auc_score(train_y, pd.DataFrame(gscv_gbm.predict_proba(train_X))[1]))\n",
    "\n",
    "#Test data - AUC Score\n",
    "print(metrics.roc_auc_score(test_y, pd.DataFrame(gscv_gbm.predict_proba(test_X))[1]))"
   ]
  },
  {
   "cell_type": "markdown",
   "id": "db3cb70d",
   "metadata": {},
   "source": [
    "### XGBOOST"
   ]
  },
  {
   "cell_type": "markdown",
   "id": "a371f251",
   "metadata": {},
   "source": [
    "##### Important Tuning Parameters for XGBOOST: \n",
    "- learning_rate - Boosting Learning rate.\n",
    "- criterion - measure for quality of a split\n",
    "- max_depth - The maximum depth of the tree.\n",
    "- max_leaf_nodes - Number of features to consider when looking for the best split\n",
    "- min_samples_leaf - The minimum number of samples required to be a leaf node. This may have effect of smoothing the model.\n",
    "- min_sample_split - The minimum number of samples required to split an internal node.\n",
    "- n_estimators - The number of trees in the forest\n",
    "- max_features - Number of features to consider when looking for the best split\n",
    "- gamma - Minimum loss reduction required to make a further partition on a leaf node of the tree.\n",
    "- subsample - Denotes the fraction of observations to be randomly samples for each tree.\n",
    "- colsample_bytree - It is the subsample ratio of columns when constructing each tree. Subsampling occurs once for every tree constructed.\n",
    "- reg_alpa - L1 regularization term on weights. Increasing this value will make model more conservative. \n",
    "- reg_lambda - L2 regularization term on weights. Increasing this value will make model more conservative.\n",
    "- scale_pos_weight - Control the balance of positive and negative weights, useful for unbalanced classes. A typical value to consider: sum(negative instances) / sum(positive instances).\n"
   ]
  },
  {
   "cell_type": "code",
   "execution_count": 190,
   "id": "d8d56936",
   "metadata": {},
   "outputs": [],
   "source": [
    "from xgboost import XGBClassifier"
   ]
  },
  {
   "cell_type": "code",
   "execution_count": 191,
   "id": "ae3f4acc",
   "metadata": {},
   "outputs": [],
   "source": [
    "#All Columns\n",
    "xgb_estimator = XGBClassifier(n_estimators=200,\n",
    "                         random_state = 42,\n",
    "                        n_jobs=-1,\n",
    "                        verbose=1)"
   ]
  },
  {
   "cell_type": "code",
   "execution_count": 192,
   "id": "7bab741f",
   "metadata": {},
   "outputs": [],
   "source": [
    "test_X = test_X[test_X.columns.difference(['pred_prob'])]"
   ]
  },
  {
   "cell_type": "code",
   "execution_count": 193,
   "id": "d34aee97",
   "metadata": {},
   "outputs": [
    {
     "name": "stdout",
     "output_type": "stream",
     "text": [
      "[09:52:55] WARNING: C:/buildkite-agent/builds/buildkite-windows-cpu-autoscaling-group-i-0fc7796c793e6356f-1/xgboost/xgboost-ci-windows/src/learner.cc:767: \n",
      "Parameters: { \"verbose\" } are not used.\n",
      "\n"
     ]
    },
    {
     "data": {
      "text/plain": [
       "array([0, 1, 0, ..., 0, 0, 1])"
      ]
     },
     "execution_count": 193,
     "metadata": {},
     "output_type": "execute_result"
    }
   ],
   "source": [
    "xgb_estimator.fit(train_X, train_y)\n",
    "\n",
    "xgb_estimator.predict(train_X)"
   ]
  },
  {
   "cell_type": "code",
   "execution_count": 194,
   "id": "fed85fd8",
   "metadata": {},
   "outputs": [
    {
     "name": "stdout",
     "output_type": "stream",
     "text": [
      "1.0\n",
      "0.9999849715945918\n"
     ]
    }
   ],
   "source": [
    "#Train data - AUC Score\n",
    "\n",
    "print ( metrics.roc_auc_score(train_y,pd.DataFrame(xgb_estimator.predict_proba(train_X))[1]))\n",
    "\n",
    "#Test data - AUC Score\n",
    "\n",
    "print ( metrics.roc_auc_score(test_y,pd.DataFrame(xgb_estimator.predict_proba(test_X))[1]))"
   ]
  },
  {
   "cell_type": "code",
   "execution_count": 195,
   "id": "10df56b4",
   "metadata": {},
   "outputs": [
    {
     "name": "stdout",
     "output_type": "stream",
     "text": [
      "              precision    recall  f1-score   support\n",
      "\n",
      "           0       1.00      1.00      1.00     80827\n",
      "           1       1.00      1.00      1.00     33630\n",
      "\n",
      "    accuracy                           1.00    114457\n",
      "   macro avg       1.00      1.00      1.00    114457\n",
      "weighted avg       1.00      1.00      1.00    114457\n",
      "\n",
      "              precision    recall  f1-score   support\n",
      "\n",
      "           0       1.00      1.00      1.00     34634\n",
      "           1       1.00      1.00      1.00     14419\n",
      "\n",
      "    accuracy                           1.00     49053\n",
      "   macro avg       1.00      1.00      1.00     49053\n",
      "weighted avg       1.00      1.00      1.00     49053\n",
      "\n"
     ]
    }
   ],
   "source": [
    "print(metrics.classification_report(train_y, xgb_estimator.predict(train_X)))\n",
    "\n",
    "print(metrics.classification_report(test_y, xgb_estimator.predict(test_X)))"
   ]
  },
  {
   "cell_type": "code",
   "execution_count": 196,
   "id": "b6019eef",
   "metadata": {},
   "outputs": [],
   "source": [
    "# with all tuning parameters\n",
    "\n",
    "xgb_estimator = XGBClassifier( learning_rate=0.01,\n",
    "                               n_estimators=1000,\n",
    "                               max_depth=5,\n",
    "                               min_child_weight=1,\n",
    "                               gamma=1,\n",
    "                               subsample=0.8,\n",
    "                               colsample_bytree=0.8,\n",
    "                               n_jobs=-1,\n",
    "                               reg_alpa=1,\n",
    "                               scale_pos_weight=1,\n",
    "                               random_state=42,\n",
    "                               verbose=1)"
   ]
  },
  {
   "cell_type": "code",
   "execution_count": 197,
   "id": "1f4fc1d1",
   "metadata": {},
   "outputs": [
    {
     "name": "stdout",
     "output_type": "stream",
     "text": [
      "[09:53:03] WARNING: C:/buildkite-agent/builds/buildkite-windows-cpu-autoscaling-group-i-0fc7796c793e6356f-1/xgboost/xgboost-ci-windows/src/learner.cc:767: \n",
      "Parameters: { \"reg_alpa\", \"verbose\" } are not used.\n",
      "\n"
     ]
    },
    {
     "data": {
      "text/html": [
       "<style>#sk-container-id-3 {color: black;background-color: white;}#sk-container-id-3 pre{padding: 0;}#sk-container-id-3 div.sk-toggleable {background-color: white;}#sk-container-id-3 label.sk-toggleable__label {cursor: pointer;display: block;width: 100%;margin-bottom: 0;padding: 0.3em;box-sizing: border-box;text-align: center;}#sk-container-id-3 label.sk-toggleable__label-arrow:before {content: \"▸\";float: left;margin-right: 0.25em;color: #696969;}#sk-container-id-3 label.sk-toggleable__label-arrow:hover:before {color: black;}#sk-container-id-3 div.sk-estimator:hover label.sk-toggleable__label-arrow:before {color: black;}#sk-container-id-3 div.sk-toggleable__content {max-height: 0;max-width: 0;overflow: hidden;text-align: left;background-color: #f0f8ff;}#sk-container-id-3 div.sk-toggleable__content pre {margin: 0.2em;color: black;border-radius: 0.25em;background-color: #f0f8ff;}#sk-container-id-3 input.sk-toggleable__control:checked~div.sk-toggleable__content {max-height: 200px;max-width: 100%;overflow: auto;}#sk-container-id-3 input.sk-toggleable__control:checked~label.sk-toggleable__label-arrow:before {content: \"▾\";}#sk-container-id-3 div.sk-estimator input.sk-toggleable__control:checked~label.sk-toggleable__label {background-color: #d4ebff;}#sk-container-id-3 div.sk-label input.sk-toggleable__control:checked~label.sk-toggleable__label {background-color: #d4ebff;}#sk-container-id-3 input.sk-hidden--visually {border: 0;clip: rect(1px 1px 1px 1px);clip: rect(1px, 1px, 1px, 1px);height: 1px;margin: -1px;overflow: hidden;padding: 0;position: absolute;width: 1px;}#sk-container-id-3 div.sk-estimator {font-family: monospace;background-color: #f0f8ff;border: 1px dotted black;border-radius: 0.25em;box-sizing: border-box;margin-bottom: 0.5em;}#sk-container-id-3 div.sk-estimator:hover {background-color: #d4ebff;}#sk-container-id-3 div.sk-parallel-item::after {content: \"\";width: 100%;border-bottom: 1px solid gray;flex-grow: 1;}#sk-container-id-3 div.sk-label:hover label.sk-toggleable__label {background-color: #d4ebff;}#sk-container-id-3 div.sk-serial::before {content: \"\";position: absolute;border-left: 1px solid gray;box-sizing: border-box;top: 0;bottom: 0;left: 50%;z-index: 0;}#sk-container-id-3 div.sk-serial {display: flex;flex-direction: column;align-items: center;background-color: white;padding-right: 0.2em;padding-left: 0.2em;position: relative;}#sk-container-id-3 div.sk-item {position: relative;z-index: 1;}#sk-container-id-3 div.sk-parallel {display: flex;align-items: stretch;justify-content: center;background-color: white;position: relative;}#sk-container-id-3 div.sk-item::before, #sk-container-id-3 div.sk-parallel-item::before {content: \"\";position: absolute;border-left: 1px solid gray;box-sizing: border-box;top: 0;bottom: 0;left: 50%;z-index: -1;}#sk-container-id-3 div.sk-parallel-item {display: flex;flex-direction: column;z-index: 1;position: relative;background-color: white;}#sk-container-id-3 div.sk-parallel-item:first-child::after {align-self: flex-end;width: 50%;}#sk-container-id-3 div.sk-parallel-item:last-child::after {align-self: flex-start;width: 50%;}#sk-container-id-3 div.sk-parallel-item:only-child::after {width: 0;}#sk-container-id-3 div.sk-dashed-wrapped {border: 1px dashed gray;margin: 0 0.4em 0.5em 0.4em;box-sizing: border-box;padding-bottom: 0.4em;background-color: white;}#sk-container-id-3 div.sk-label label {font-family: monospace;font-weight: bold;display: inline-block;line-height: 1.2em;}#sk-container-id-3 div.sk-label-container {text-align: center;}#sk-container-id-3 div.sk-container {/* jupyter's `normalize.less` sets `[hidden] { display: none; }` but bootstrap.min.css set `[hidden] { display: none !important; }` so we also need the `!important` here to be able to override the default hidden behavior on the sphinx rendered scikit-learn.org. See: https://github.com/scikit-learn/scikit-learn/issues/21755 */display: inline-block !important;position: relative;}#sk-container-id-3 div.sk-text-repr-fallback {display: none;}</style><div id=\"sk-container-id-3\" class=\"sk-top-container\"><div class=\"sk-text-repr-fallback\"><pre>XGBClassifier(base_score=None, booster=None, callbacks=None,\n",
       "              colsample_bylevel=None, colsample_bynode=None,\n",
       "              colsample_bytree=0.8, early_stopping_rounds=None,\n",
       "              enable_categorical=False, eval_metric=None, feature_types=None,\n",
       "              gamma=1, gpu_id=None, grow_policy=None, importance_type=None,\n",
       "              interaction_constraints=None, learning_rate=0.01, max_bin=None,\n",
       "              max_cat_threshold=None, max_cat_to_onehot=None,\n",
       "              max_delta_step=None, max_depth=5, max_leaves=None,\n",
       "              min_child_weight=1, missing=nan, monotone_constraints=None,\n",
       "              n_estimators=1000, n_jobs=-1, num_parallel_tree=None,\n",
       "              predictor=None, random_state=42, ...)</pre><b>In a Jupyter environment, please rerun this cell to show the HTML representation or trust the notebook. <br />On GitHub, the HTML representation is unable to render, please try loading this page with nbviewer.org.</b></div><div class=\"sk-container\" hidden><div class=\"sk-item\"><div class=\"sk-estimator sk-toggleable\"><input class=\"sk-toggleable__control sk-hidden--visually\" id=\"sk-estimator-id-3\" type=\"checkbox\" checked><label for=\"sk-estimator-id-3\" class=\"sk-toggleable__label sk-toggleable__label-arrow\">XGBClassifier</label><div class=\"sk-toggleable__content\"><pre>XGBClassifier(base_score=None, booster=None, callbacks=None,\n",
       "              colsample_bylevel=None, colsample_bynode=None,\n",
       "              colsample_bytree=0.8, early_stopping_rounds=None,\n",
       "              enable_categorical=False, eval_metric=None, feature_types=None,\n",
       "              gamma=1, gpu_id=None, grow_policy=None, importance_type=None,\n",
       "              interaction_constraints=None, learning_rate=0.01, max_bin=None,\n",
       "              max_cat_threshold=None, max_cat_to_onehot=None,\n",
       "              max_delta_step=None, max_depth=5, max_leaves=None,\n",
       "              min_child_weight=1, missing=nan, monotone_constraints=None,\n",
       "              n_estimators=1000, n_jobs=-1, num_parallel_tree=None,\n",
       "              predictor=None, random_state=42, ...)</pre></div></div></div></div></div>"
      ],
      "text/plain": [
       "XGBClassifier(base_score=None, booster=None, callbacks=None,\n",
       "              colsample_bylevel=None, colsample_bynode=None,\n",
       "              colsample_bytree=0.8, early_stopping_rounds=None,\n",
       "              enable_categorical=False, eval_metric=None, feature_types=None,\n",
       "              gamma=1, gpu_id=None, grow_policy=None, importance_type=None,\n",
       "              interaction_constraints=None, learning_rate=0.01, max_bin=None,\n",
       "              max_cat_threshold=None, max_cat_to_onehot=None,\n",
       "              max_delta_step=None, max_depth=5, max_leaves=None,\n",
       "              min_child_weight=1, missing=nan, monotone_constraints=None,\n",
       "              n_estimators=1000, n_jobs=-1, num_parallel_tree=None,\n",
       "              predictor=None, random_state=42, ...)"
      ]
     },
     "execution_count": 197,
     "metadata": {},
     "output_type": "execute_result"
    }
   ],
   "source": [
    "xgb_estimator.fit(train_X, train_y)"
   ]
  },
  {
   "cell_type": "code",
   "execution_count": 198,
   "id": "9d221d87",
   "metadata": {},
   "outputs": [
    {
     "name": "stdout",
     "output_type": "stream",
     "text": [
      "0.9999999793982222\n",
      "0.9999874406184248\n"
     ]
    }
   ],
   "source": [
    "print(metrics.roc_auc_score(train_y,pd.DataFrame(xgb_estimator.predict_proba(train_X))[1]))\n",
    "\n",
    "print(metrics.roc_auc_score(test_y,pd.DataFrame(xgb_estimator.predict_proba(test_X))[1]))"
   ]
  },
  {
   "cell_type": "code",
   "execution_count": 199,
   "id": "adc0ea4e",
   "metadata": {},
   "outputs": [
    {
     "name": "stdout",
     "output_type": "stream",
     "text": [
      "              precision    recall  f1-score   support\n",
      "\n",
      "           0       1.00      1.00      1.00     80827\n",
      "           1       1.00      1.00      1.00     33630\n",
      "\n",
      "    accuracy                           1.00    114457\n",
      "   macro avg       1.00      1.00      1.00    114457\n",
      "weighted avg       1.00      1.00      1.00    114457\n",
      "\n",
      "              precision    recall  f1-score   support\n",
      "\n",
      "           0       1.00      1.00      1.00     34634\n",
      "           1       1.00      1.00      1.00     14419\n",
      "\n",
      "    accuracy                           1.00     49053\n",
      "   macro avg       1.00      1.00      1.00     49053\n",
      "weighted avg       1.00      1.00      1.00     49053\n",
      "\n"
     ]
    }
   ],
   "source": [
    "print(metrics.classification_report(train_y, xgb_estimator.predict(train_X)))\n",
    "\n",
    "print(metrics.classification_report(test_y, xgb_estimator.predict(test_X)))"
   ]
  },
  {
   "cell_type": "markdown",
   "id": "7a09eddc",
   "metadata": {},
   "source": [
    "#### Naive Bayes"
   ]
  },
  {
   "cell_type": "code",
   "execution_count": 200,
   "id": "7b41e2e0",
   "metadata": {},
   "outputs": [
    {
     "data": {
      "text/html": [
       "<style>#sk-container-id-4 {color: black;background-color: white;}#sk-container-id-4 pre{padding: 0;}#sk-container-id-4 div.sk-toggleable {background-color: white;}#sk-container-id-4 label.sk-toggleable__label {cursor: pointer;display: block;width: 100%;margin-bottom: 0;padding: 0.3em;box-sizing: border-box;text-align: center;}#sk-container-id-4 label.sk-toggleable__label-arrow:before {content: \"▸\";float: left;margin-right: 0.25em;color: #696969;}#sk-container-id-4 label.sk-toggleable__label-arrow:hover:before {color: black;}#sk-container-id-4 div.sk-estimator:hover label.sk-toggleable__label-arrow:before {color: black;}#sk-container-id-4 div.sk-toggleable__content {max-height: 0;max-width: 0;overflow: hidden;text-align: left;background-color: #f0f8ff;}#sk-container-id-4 div.sk-toggleable__content pre {margin: 0.2em;color: black;border-radius: 0.25em;background-color: #f0f8ff;}#sk-container-id-4 input.sk-toggleable__control:checked~div.sk-toggleable__content {max-height: 200px;max-width: 100%;overflow: auto;}#sk-container-id-4 input.sk-toggleable__control:checked~label.sk-toggleable__label-arrow:before {content: \"▾\";}#sk-container-id-4 div.sk-estimator input.sk-toggleable__control:checked~label.sk-toggleable__label {background-color: #d4ebff;}#sk-container-id-4 div.sk-label input.sk-toggleable__control:checked~label.sk-toggleable__label {background-color: #d4ebff;}#sk-container-id-4 input.sk-hidden--visually {border: 0;clip: rect(1px 1px 1px 1px);clip: rect(1px, 1px, 1px, 1px);height: 1px;margin: -1px;overflow: hidden;padding: 0;position: absolute;width: 1px;}#sk-container-id-4 div.sk-estimator {font-family: monospace;background-color: #f0f8ff;border: 1px dotted black;border-radius: 0.25em;box-sizing: border-box;margin-bottom: 0.5em;}#sk-container-id-4 div.sk-estimator:hover {background-color: #d4ebff;}#sk-container-id-4 div.sk-parallel-item::after {content: \"\";width: 100%;border-bottom: 1px solid gray;flex-grow: 1;}#sk-container-id-4 div.sk-label:hover label.sk-toggleable__label {background-color: #d4ebff;}#sk-container-id-4 div.sk-serial::before {content: \"\";position: absolute;border-left: 1px solid gray;box-sizing: border-box;top: 0;bottom: 0;left: 50%;z-index: 0;}#sk-container-id-4 div.sk-serial {display: flex;flex-direction: column;align-items: center;background-color: white;padding-right: 0.2em;padding-left: 0.2em;position: relative;}#sk-container-id-4 div.sk-item {position: relative;z-index: 1;}#sk-container-id-4 div.sk-parallel {display: flex;align-items: stretch;justify-content: center;background-color: white;position: relative;}#sk-container-id-4 div.sk-item::before, #sk-container-id-4 div.sk-parallel-item::before {content: \"\";position: absolute;border-left: 1px solid gray;box-sizing: border-box;top: 0;bottom: 0;left: 50%;z-index: -1;}#sk-container-id-4 div.sk-parallel-item {display: flex;flex-direction: column;z-index: 1;position: relative;background-color: white;}#sk-container-id-4 div.sk-parallel-item:first-child::after {align-self: flex-end;width: 50%;}#sk-container-id-4 div.sk-parallel-item:last-child::after {align-self: flex-start;width: 50%;}#sk-container-id-4 div.sk-parallel-item:only-child::after {width: 0;}#sk-container-id-4 div.sk-dashed-wrapped {border: 1px dashed gray;margin: 0 0.4em 0.5em 0.4em;box-sizing: border-box;padding-bottom: 0.4em;background-color: white;}#sk-container-id-4 div.sk-label label {font-family: monospace;font-weight: bold;display: inline-block;line-height: 1.2em;}#sk-container-id-4 div.sk-label-container {text-align: center;}#sk-container-id-4 div.sk-container {/* jupyter's `normalize.less` sets `[hidden] { display: none; }` but bootstrap.min.css set `[hidden] { display: none !important; }` so we also need the `!important` here to be able to override the default hidden behavior on the sphinx rendered scikit-learn.org. See: https://github.com/scikit-learn/scikit-learn/issues/21755 */display: inline-block !important;position: relative;}#sk-container-id-4 div.sk-text-repr-fallback {display: none;}</style><div id=\"sk-container-id-4\" class=\"sk-top-container\"><div class=\"sk-text-repr-fallback\"><pre>GaussianNB()</pre><b>In a Jupyter environment, please rerun this cell to show the HTML representation or trust the notebook. <br />On GitHub, the HTML representation is unable to render, please try loading this page with nbviewer.org.</b></div><div class=\"sk-container\" hidden><div class=\"sk-item\"><div class=\"sk-estimator sk-toggleable\"><input class=\"sk-toggleable__control sk-hidden--visually\" id=\"sk-estimator-id-4\" type=\"checkbox\" checked><label for=\"sk-estimator-id-4\" class=\"sk-toggleable__label sk-toggleable__label-arrow\">GaussianNB</label><div class=\"sk-toggleable__content\"><pre>GaussianNB()</pre></div></div></div></div></div>"
      ],
      "text/plain": [
       "GaussianNB()"
      ]
     },
     "execution_count": 200,
     "metadata": {},
     "output_type": "execute_result"
    }
   ],
   "source": [
    "nb_clf = GaussianNB()\n",
    "nb_clf.fit(train_X, train_y)\n"
   ]
  },
  {
   "cell_type": "code",
   "execution_count": 201,
   "id": "11c044a6",
   "metadata": {},
   "outputs": [
    {
     "name": "stdout",
     "output_type": "stream",
     "text": [
      "[[34496   138]\n",
      " [  297 14122]]\n",
      "0.9911320408537704\n"
     ]
    }
   ],
   "source": [
    "print (metrics.confusion_matrix( test_y,nb_clf.predict( test_X) ))"
   ]
  },
  {
   "cell_type": "code",
   "execution_count": null,
   "id": "565d0f1a",
   "metadata": {},
   "outputs": [],
   "source": [
    "print ( metrics.accuracy_score( test_y, nb_clf.predict( test_X ) ))"
   ]
  },
  {
   "cell_type": "markdown",
   "id": "aae7c826",
   "metadata": {},
   "source": [
    "### Hetrogenious Ensemble Models"
   ]
  },
  {
   "cell_type": "code",
   "execution_count": 203,
   "id": "6d75ac08",
   "metadata": {},
   "outputs": [],
   "source": [
    "from sklearn.ensemble import VotingClassifier, VotingRegressor"
   ]
  },
  {
   "cell_type": "code",
   "execution_count": 207,
   "id": "9c740110",
   "metadata": {},
   "outputs": [
    {
     "name": "stdout",
     "output_type": "stream",
     "text": [
      "Fitting 5 folds for each of 6 candidates, totalling 30 fits\n",
      "[10:05:52] WARNING: C:/buildkite-agent/builds/buildkite-windows-cpu-autoscaling-group-i-0fc7796c793e6356f-1/xgboost/xgboost-ci-windows/src/learner.cc:767: \n",
      "Parameters: { \"reg_alpa\", \"verbose\" } are not used.\n",
      "\n"
     ]
    },
    {
     "data": {
      "text/html": [
       "<style>#sk-container-id-5 {color: black;background-color: white;}#sk-container-id-5 pre{padding: 0;}#sk-container-id-5 div.sk-toggleable {background-color: white;}#sk-container-id-5 label.sk-toggleable__label {cursor: pointer;display: block;width: 100%;margin-bottom: 0;padding: 0.3em;box-sizing: border-box;text-align: center;}#sk-container-id-5 label.sk-toggleable__label-arrow:before {content: \"▸\";float: left;margin-right: 0.25em;color: #696969;}#sk-container-id-5 label.sk-toggleable__label-arrow:hover:before {color: black;}#sk-container-id-5 div.sk-estimator:hover label.sk-toggleable__label-arrow:before {color: black;}#sk-container-id-5 div.sk-toggleable__content {max-height: 0;max-width: 0;overflow: hidden;text-align: left;background-color: #f0f8ff;}#sk-container-id-5 div.sk-toggleable__content pre {margin: 0.2em;color: black;border-radius: 0.25em;background-color: #f0f8ff;}#sk-container-id-5 input.sk-toggleable__control:checked~div.sk-toggleable__content {max-height: 200px;max-width: 100%;overflow: auto;}#sk-container-id-5 input.sk-toggleable__control:checked~label.sk-toggleable__label-arrow:before {content: \"▾\";}#sk-container-id-5 div.sk-estimator input.sk-toggleable__control:checked~label.sk-toggleable__label {background-color: #d4ebff;}#sk-container-id-5 div.sk-label input.sk-toggleable__control:checked~label.sk-toggleable__label {background-color: #d4ebff;}#sk-container-id-5 input.sk-hidden--visually {border: 0;clip: rect(1px 1px 1px 1px);clip: rect(1px, 1px, 1px, 1px);height: 1px;margin: -1px;overflow: hidden;padding: 0;position: absolute;width: 1px;}#sk-container-id-5 div.sk-estimator {font-family: monospace;background-color: #f0f8ff;border: 1px dotted black;border-radius: 0.25em;box-sizing: border-box;margin-bottom: 0.5em;}#sk-container-id-5 div.sk-estimator:hover {background-color: #d4ebff;}#sk-container-id-5 div.sk-parallel-item::after {content: \"\";width: 100%;border-bottom: 1px solid gray;flex-grow: 1;}#sk-container-id-5 div.sk-label:hover label.sk-toggleable__label {background-color: #d4ebff;}#sk-container-id-5 div.sk-serial::before {content: \"\";position: absolute;border-left: 1px solid gray;box-sizing: border-box;top: 0;bottom: 0;left: 50%;z-index: 0;}#sk-container-id-5 div.sk-serial {display: flex;flex-direction: column;align-items: center;background-color: white;padding-right: 0.2em;padding-left: 0.2em;position: relative;}#sk-container-id-5 div.sk-item {position: relative;z-index: 1;}#sk-container-id-5 div.sk-parallel {display: flex;align-items: stretch;justify-content: center;background-color: white;position: relative;}#sk-container-id-5 div.sk-item::before, #sk-container-id-5 div.sk-parallel-item::before {content: \"\";position: absolute;border-left: 1px solid gray;box-sizing: border-box;top: 0;bottom: 0;left: 50%;z-index: -1;}#sk-container-id-5 div.sk-parallel-item {display: flex;flex-direction: column;z-index: 1;position: relative;background-color: white;}#sk-container-id-5 div.sk-parallel-item:first-child::after {align-self: flex-end;width: 50%;}#sk-container-id-5 div.sk-parallel-item:last-child::after {align-self: flex-start;width: 50%;}#sk-container-id-5 div.sk-parallel-item:only-child::after {width: 0;}#sk-container-id-5 div.sk-dashed-wrapped {border: 1px dashed gray;margin: 0 0.4em 0.5em 0.4em;box-sizing: border-box;padding-bottom: 0.4em;background-color: white;}#sk-container-id-5 div.sk-label label {font-family: monospace;font-weight: bold;display: inline-block;line-height: 1.2em;}#sk-container-id-5 div.sk-label-container {text-align: center;}#sk-container-id-5 div.sk-container {/* jupyter's `normalize.less` sets `[hidden] { display: none; }` but bootstrap.min.css set `[hidden] { display: none !important; }` so we also need the `!important` here to be able to override the default hidden behavior on the sphinx rendered scikit-learn.org. See: https://github.com/scikit-learn/scikit-learn/issues/21755 */display: inline-block !important;position: relative;}#sk-container-id-5 div.sk-text-repr-fallback {display: none;}</style><div id=\"sk-container-id-5\" class=\"sk-top-container\"><div class=\"sk-text-repr-fallback\"><pre>VotingClassifier(estimators=[(&#x27;gradient_bost&#x27;,\n",
       "                              GridSearchCV(cv=5,\n",
       "                                           estimator=GradientBoostingClassifier(),\n",
       "                                           n_jobs=-1,\n",
       "                                           param_grid={&#x27;learning_rate&#x27;: [0.1,\n",
       "                                                                         1],\n",
       "                                                       &#x27;n_estimators&#x27;: [100,\n",
       "                                                                        200,\n",
       "                                                                        400]},\n",
       "                                           verbose=True)),\n",
       "                             (&#x27;adaboost&#x27;,\n",
       "                              AdaBoostClassifier(learning_rate=0.1,\n",
       "                                                 n_estimators=800)),\n",
       "                             (&#x27;xgbm&#x27;,\n",
       "                              XGBClassifier(base_score=None, booster=None,\n",
       "                                            callbacks=None,\n",
       "                                            colsample_bylevel=None...\n",
       "                                            gpu_id=None, grow_policy=None,\n",
       "                                            importance_type=None,\n",
       "                                            interaction_constraints=None,\n",
       "                                            learning_rate=0.01, max_bin=None,\n",
       "                                            max_cat_threshold=None,\n",
       "                                            max_cat_to_onehot=None,\n",
       "                                            max_delta_step=None, max_depth=5,\n",
       "                                            max_leaves=None, min_child_weight=1,\n",
       "                                            missing=nan,\n",
       "                                            monotone_constraints=None,\n",
       "                                            n_estimators=1000, n_jobs=-1,\n",
       "                                            num_parallel_tree=None,\n",
       "                                            predictor=None, random_state=42, ...))])</pre><b>In a Jupyter environment, please rerun this cell to show the HTML representation or trust the notebook. <br />On GitHub, the HTML representation is unable to render, please try loading this page with nbviewer.org.</b></div><div class=\"sk-container\" hidden><div class=\"sk-item sk-dashed-wrapped\"><div class=\"sk-label-container\"><div class=\"sk-label sk-toggleable\"><input class=\"sk-toggleable__control sk-hidden--visually\" id=\"sk-estimator-id-5\" type=\"checkbox\" ><label for=\"sk-estimator-id-5\" class=\"sk-toggleable__label sk-toggleable__label-arrow\">VotingClassifier</label><div class=\"sk-toggleable__content\"><pre>VotingClassifier(estimators=[(&#x27;gradient_bost&#x27;,\n",
       "                              GridSearchCV(cv=5,\n",
       "                                           estimator=GradientBoostingClassifier(),\n",
       "                                           n_jobs=-1,\n",
       "                                           param_grid={&#x27;learning_rate&#x27;: [0.1,\n",
       "                                                                         1],\n",
       "                                                       &#x27;n_estimators&#x27;: [100,\n",
       "                                                                        200,\n",
       "                                                                        400]},\n",
       "                                           verbose=True)),\n",
       "                             (&#x27;adaboost&#x27;,\n",
       "                              AdaBoostClassifier(learning_rate=0.1,\n",
       "                                                 n_estimators=800)),\n",
       "                             (&#x27;xgbm&#x27;,\n",
       "                              XGBClassifier(base_score=None, booster=None,\n",
       "                                            callbacks=None,\n",
       "                                            colsample_bylevel=None...\n",
       "                                            gpu_id=None, grow_policy=None,\n",
       "                                            importance_type=None,\n",
       "                                            interaction_constraints=None,\n",
       "                                            learning_rate=0.01, max_bin=None,\n",
       "                                            max_cat_threshold=None,\n",
       "                                            max_cat_to_onehot=None,\n",
       "                                            max_delta_step=None, max_depth=5,\n",
       "                                            max_leaves=None, min_child_weight=1,\n",
       "                                            missing=nan,\n",
       "                                            monotone_constraints=None,\n",
       "                                            n_estimators=1000, n_jobs=-1,\n",
       "                                            num_parallel_tree=None,\n",
       "                                            predictor=None, random_state=42, ...))])</pre></div></div></div><div class=\"sk-parallel\"><div class=\"sk-parallel-item\"><div class=\"sk-item\"><div class=\"sk-label-container\"><div class=\"sk-label sk-toggleable\"><label>gradient_bost</label></div></div><div class=\"sk-serial\"><div class=\"sk-item sk-dashed-wrapped\"><div class=\"sk-parallel\"><div class=\"sk-parallel-item\"><div class=\"sk-item\"><div class=\"sk-label-container\"><div class=\"sk-label sk-toggleable\"><input class=\"sk-toggleable__control sk-hidden--visually\" id=\"sk-estimator-id-6\" type=\"checkbox\" ><label for=\"sk-estimator-id-6\" class=\"sk-toggleable__label sk-toggleable__label-arrow\">estimator: GradientBoostingClassifier</label><div class=\"sk-toggleable__content\"><pre>GradientBoostingClassifier()</pre></div></div></div><div class=\"sk-serial\"><div class=\"sk-item\"><div class=\"sk-estimator sk-toggleable\"><input class=\"sk-toggleable__control sk-hidden--visually\" id=\"sk-estimator-id-7\" type=\"checkbox\" ><label for=\"sk-estimator-id-7\" class=\"sk-toggleable__label sk-toggleable__label-arrow\">GradientBoostingClassifier</label><div class=\"sk-toggleable__content\"><pre>GradientBoostingClassifier()</pre></div></div></div></div></div></div></div></div></div></div></div><div class=\"sk-parallel-item\"><div class=\"sk-item\"><div class=\"sk-label-container\"><div class=\"sk-label sk-toggleable\"><label>adaboost</label></div></div><div class=\"sk-serial\"><div class=\"sk-item\"><div class=\"sk-estimator sk-toggleable\"><input class=\"sk-toggleable__control sk-hidden--visually\" id=\"sk-estimator-id-8\" type=\"checkbox\" ><label for=\"sk-estimator-id-8\" class=\"sk-toggleable__label sk-toggleable__label-arrow\">AdaBoostClassifier</label><div class=\"sk-toggleable__content\"><pre>AdaBoostClassifier(learning_rate=0.1, n_estimators=800)</pre></div></div></div></div></div></div><div class=\"sk-parallel-item\"><div class=\"sk-item\"><div class=\"sk-label-container\"><div class=\"sk-label sk-toggleable\"><label>xgbm</label></div></div><div class=\"sk-serial\"><div class=\"sk-item\"><div class=\"sk-estimator sk-toggleable\"><input class=\"sk-toggleable__control sk-hidden--visually\" id=\"sk-estimator-id-9\" type=\"checkbox\" ><label for=\"sk-estimator-id-9\" class=\"sk-toggleable__label sk-toggleable__label-arrow\">XGBClassifier</label><div class=\"sk-toggleable__content\"><pre>XGBClassifier(base_score=None, booster=None, callbacks=None,\n",
       "              colsample_bylevel=None, colsample_bynode=None,\n",
       "              colsample_bytree=0.8, early_stopping_rounds=None,\n",
       "              enable_categorical=False, eval_metric=None, feature_types=None,\n",
       "              gamma=1, gpu_id=None, grow_policy=None, importance_type=None,\n",
       "              interaction_constraints=None, learning_rate=0.01, max_bin=None,\n",
       "              max_cat_threshold=None, max_cat_to_onehot=None,\n",
       "              max_delta_step=None, max_depth=5, max_leaves=None,\n",
       "              min_child_weight=1, missing=nan, monotone_constraints=None,\n",
       "              n_estimators=1000, n_jobs=-1, num_parallel_tree=None,\n",
       "              predictor=None, random_state=42, ...)</pre></div></div></div></div></div></div></div></div></div></div>"
      ],
      "text/plain": [
       "VotingClassifier(estimators=[('gradient_bost',\n",
       "                              GridSearchCV(cv=5,\n",
       "                                           estimator=GradientBoostingClassifier(),\n",
       "                                           n_jobs=-1,\n",
       "                                           param_grid={'learning_rate': [0.1,\n",
       "                                                                         1],\n",
       "                                                       'n_estimators': [100,\n",
       "                                                                        200,\n",
       "                                                                        400]},\n",
       "                                           verbose=True)),\n",
       "                             ('adaboost',\n",
       "                              AdaBoostClassifier(learning_rate=0.1,\n",
       "                                                 n_estimators=800)),\n",
       "                             ('xgbm',\n",
       "                              XGBClassifier(base_score=None, booster=None,\n",
       "                                            callbacks=None,\n",
       "                                            colsample_bylevel=None...\n",
       "                                            gpu_id=None, grow_policy=None,\n",
       "                                            importance_type=None,\n",
       "                                            interaction_constraints=None,\n",
       "                                            learning_rate=0.01, max_bin=None,\n",
       "                                            max_cat_threshold=None,\n",
       "                                            max_cat_to_onehot=None,\n",
       "                                            max_delta_step=None, max_depth=5,\n",
       "                                            max_leaves=None, min_child_weight=1,\n",
       "                                            missing=nan,\n",
       "                                            monotone_constraints=None,\n",
       "                                            n_estimators=1000, n_jobs=-1,\n",
       "                                            num_parallel_tree=None,\n",
       "                                            predictor=None, random_state=42, ...))])"
      ]
     },
     "execution_count": 207,
     "metadata": {},
     "output_type": "execute_result"
    }
   ],
   "source": [
    "voting_clf = VotingClassifier(estimators = [ ('gradient_bost',gscv_gbm), ('adaboost', ad), ('xgbm',xgb_estimator)], voting = 'hard')\n",
    "voting_clf.fit(train_X, train_y)"
   ]
  },
  {
   "cell_type": "code",
   "execution_count": 208,
   "id": "014deb28",
   "metadata": {},
   "outputs": [
    {
     "name": "stdout",
     "output_type": "stream",
     "text": [
      "0.9997757527572217\n",
      "0.9996792782094573\n"
     ]
    }
   ],
   "source": [
    "print(metrics.accuracy_score(test_y,voting_clf.predict(test_X)))\n",
    "print(metrics.roc_auc_score(test_y,voting_clf.predict(test_X)))"
   ]
  },
  {
   "cell_type": "markdown",
   "id": "6320d03b",
   "metadata": {},
   "source": [
    "## Support Vector Machines (SVC)"
   ]
  },
  {
   "cell_type": "markdown",
   "id": "0fb14b51",
   "metadata": {},
   "source": [
    "##### Important Tuning Parameters for Support Vector Classifier: \n",
    "- C - C is the penalty parameter of the error term. It controls the trade off between smooth decision boundary and classifying the training points correctly\n",
    "- class_weight - Weights associated with classes in the form class_label : Weight. If not given, all classes are supposed to have weight one.\n",
    "- degree - degree is a parameter used when kernel is set to poly. It’s basically the degree of the polynomial used to find the hyperplane to split the data.\n",
    "- gamma - kernel coefficient for rbf, ploy and sigmoid to handle non-linear classification\n",
    "- kernel - This selects the type of hyperplane used to separate the data.\n",
    "- tol - tolerance for stopping criterion."
   ]
  },
  {
   "cell_type": "raw",
   "id": "ffb241a4",
   "metadata": {},
   "source": [
    "model = SVC(kernel='rbf', class_weight='balanced')\n",
    "# by default SVC will give output as 0 & 1 and if we want output to be in probability i can use probability=True.\n",
    "# tolerance means the min. difference we need between 2 iterations .Otherwise no use of it ..\n",
    "# if i know tuning parameter than i can use it directly otherwise i will use GridSearchCV .."
   ]
  },
  {
   "cell_type": "raw",
   "id": "b378b38a",
   "metadata": {},
   "source": [
    "model.fit(train_X, train_y)"
   ]
  },
  {
   "cell_type": "raw",
   "id": "707063f3",
   "metadata": {},
   "source": [
    "from sklearn.model_selection import GridSearchCV\n",
    "param_grid = {'C': [1, 5, 10],\n",
    "              'gamma': [0.0001, 0.0005, 0.001]}\n",
    "grid = GridSearchCV(model, param_grid)"
   ]
  },
  {
   "cell_type": "raw",
   "id": "da4fe8e1",
   "metadata": {},
   "source": [
    "grid.fit(train_X, train_y)\n",
    "\n",
    "print(grid.best_params_)"
   ]
  },
  {
   "cell_type": "raw",
   "id": "47a83cfd",
   "metadata": {},
   "source": [
    "model = grid.best_estimator_\n",
    "yfit = model.predict(test_X)"
   ]
  },
  {
   "cell_type": "raw",
   "id": "e7bb2388",
   "metadata": {},
   "source": [
    "from sklearn.metrics import classification_report\n",
    "print(classification_report(test_y, yfit))"
   ]
  },
  {
   "cell_type": "code",
   "execution_count": 1,
   "id": "462e5b9e",
   "metadata": {},
   "outputs": [],
   "source": [
    "# SVC is taking lot of time in running so I just paste a code for reference only . "
   ]
  },
  {
   "cell_type": "markdown",
   "id": "3db9a9f2",
   "metadata": {},
   "source": [
    "### Multinomial Classification "
   ]
  },
  {
   "cell_type": "code",
   "execution_count": 72,
   "id": "6ed36d8a",
   "metadata": {},
   "outputs": [],
   "source": [
    "#splitting \n",
    "y = df_Old[['attack_based']]\n",
    "X = df_Old[df_Old.columns.difference(['Binary_Flag','attack_based'])] "
   ]
  },
  {
   "cell_type": "code",
   "execution_count": 73,
   "id": "1b74f834",
   "metadata": {},
   "outputs": [
    {
     "data": {
      "text/plain": [
       "array([ 0,  0,  0, ..., 10, 10, 10])"
      ]
     },
     "execution_count": 73,
     "metadata": {},
     "output_type": "execute_result"
    }
   ],
   "source": [
    "#Encoder for y variable\n",
    "enc =LabelEncoder()\n",
    "y = enc.fit_transform(y)  # y value will be assign on the basis of alphabetical ascending ordery\n",
    "\n",
    "y"
   ]
  },
  {
   "cell_type": "code",
   "execution_count": 74,
   "id": "f0802da9",
   "metadata": {},
   "outputs": [
    {
     "data": {
      "text/plain": [
       "6     576710\n",
       "5     227228\n",
       "9       5019\n",
       "10      3007\n",
       "7       2964\n",
       "4       1554\n",
       "0        968\n",
       "3         53\n",
       "1         30\n",
       "8         10\n",
       "2          8\n",
       "dtype: int64"
      ]
     },
     "execution_count": 74,
     "metadata": {},
     "output_type": "execute_result"
    }
   ],
   "source": [
    "pd.Series(y).value_counts()"
   ]
  },
  {
   "cell_type": "code",
   "execution_count": 75,
   "id": "d2e97365",
   "metadata": {},
   "outputs": [],
   "source": [
    "from imblearn.over_sampling import SMOTE"
   ]
  },
  {
   "cell_type": "code",
   "execution_count": 76,
   "id": "24366c61",
   "metadata": {},
   "outputs": [],
   "source": [
    "#balancing the data\n",
    "sm = SMOTE()\n",
    "resampled_X, resampled_y = sm.fit_resample(X, y)"
   ]
  },
  {
   "cell_type": "code",
   "execution_count": 77,
   "id": "142b12f3",
   "metadata": {},
   "outputs": [
    {
     "data": {
      "text/plain": [
       "(817551, 41)"
      ]
     },
     "execution_count": 77,
     "metadata": {},
     "output_type": "execute_result"
    }
   ],
   "source": [
    "X.shape"
   ]
  },
  {
   "cell_type": "code",
   "execution_count": 78,
   "id": "888cb682",
   "metadata": {},
   "outputs": [
    {
     "data": {
      "text/plain": [
       "(817551,)"
      ]
     },
     "execution_count": 78,
     "metadata": {},
     "output_type": "execute_result"
    }
   ],
   "source": [
    "y.shape"
   ]
  },
  {
   "cell_type": "code",
   "execution_count": 79,
   "id": "e836fb74",
   "metadata": {},
   "outputs": [
    {
     "data": {
      "text/plain": [
       "(6343810,)"
      ]
     },
     "execution_count": 79,
     "metadata": {},
     "output_type": "execute_result"
    }
   ],
   "source": [
    "resampled_y.shape"
   ]
  },
  {
   "cell_type": "code",
   "execution_count": 80,
   "id": "9d9c34e3",
   "metadata": {},
   "outputs": [
    {
     "data": {
      "text/plain": [
       "(6343810, 41)"
      ]
     },
     "execution_count": 80,
     "metadata": {},
     "output_type": "execute_result"
    }
   ],
   "source": [
    "resampled_X.shape"
   ]
  },
  {
   "cell_type": "code",
   "execution_count": 81,
   "id": "e94172a1",
   "metadata": {},
   "outputs": [
    {
     "data": {
      "text/html": [
       "<div>\n",
       "<style scoped>\n",
       "    .dataframe tbody tr th:only-of-type {\n",
       "        vertical-align: middle;\n",
       "    }\n",
       "\n",
       "    .dataframe tbody tr th {\n",
       "        vertical-align: top;\n",
       "    }\n",
       "\n",
       "    .dataframe thead th {\n",
       "        text-align: right;\n",
       "    }\n",
       "</style>\n",
       "<table border=\"1\" class=\"dataframe\">\n",
       "  <thead>\n",
       "    <tr style=\"text-align: right;\">\n",
       "      <th></th>\n",
       "      <th>count</th>\n",
       "      <th>diff_srv_rate</th>\n",
       "      <th>dst_bytes</th>\n",
       "      <th>dst_host_count</th>\n",
       "      <th>dst_host_diff_srv_rate</th>\n",
       "      <th>dst_host_rerror_rate</th>\n",
       "      <th>dst_host_same_src_port_rate</th>\n",
       "      <th>dst_host_same_srv_rate</th>\n",
       "      <th>dst_host_serror_rate</th>\n",
       "      <th>dst_host_srv_count</th>\n",
       "      <th>...</th>\n",
       "      <th>service</th>\n",
       "      <th>src_bytes</th>\n",
       "      <th>srv_count</th>\n",
       "      <th>srv_diff_host_rate</th>\n",
       "      <th>srv_error_rate</th>\n",
       "      <th>srv_rerror_rate</th>\n",
       "      <th>su_attempted</th>\n",
       "      <th>urgent</th>\n",
       "      <th>wrong_fragment</th>\n",
       "      <th>duration</th>\n",
       "    </tr>\n",
       "  </thead>\n",
       "  <tbody>\n",
       "    <tr>\n",
       "      <th>0</th>\n",
       "      <td>0.001000</td>\n",
       "      <td>0.0</td>\n",
       "      <td>0.08314</td>\n",
       "      <td>0.001000</td>\n",
       "      <td>0.000</td>\n",
       "      <td>0.000000</td>\n",
       "      <td>0.100000</td>\n",
       "      <td>0.100000</td>\n",
       "      <td>0.000</td>\n",
       "      <td>0.001000</td>\n",
       "      <td>...</td>\n",
       "      <td>0.00</td>\n",
       "      <td>0.54540</td>\n",
       "      <td>0.002000</td>\n",
       "      <td>0.100</td>\n",
       "      <td>0.0</td>\n",
       "      <td>0.050</td>\n",
       "      <td>0.0</td>\n",
       "      <td>0.0</td>\n",
       "      <td>0.0</td>\n",
       "      <td>0.0</td>\n",
       "    </tr>\n",
       "    <tr>\n",
       "      <th>1</th>\n",
       "      <td>0.002000</td>\n",
       "      <td>0.0</td>\n",
       "      <td>0.08314</td>\n",
       "      <td>0.002000</td>\n",
       "      <td>0.000</td>\n",
       "      <td>0.000000</td>\n",
       "      <td>0.050000</td>\n",
       "      <td>0.100000</td>\n",
       "      <td>0.000</td>\n",
       "      <td>0.002000</td>\n",
       "      <td>...</td>\n",
       "      <td>0.00</td>\n",
       "      <td>0.54540</td>\n",
       "      <td>0.003000</td>\n",
       "      <td>0.067</td>\n",
       "      <td>0.0</td>\n",
       "      <td>0.033</td>\n",
       "      <td>0.0</td>\n",
       "      <td>0.0</td>\n",
       "      <td>0.0</td>\n",
       "      <td>0.0</td>\n",
       "    </tr>\n",
       "    <tr>\n",
       "      <th>2</th>\n",
       "      <td>0.003000</td>\n",
       "      <td>0.0</td>\n",
       "      <td>0.08314</td>\n",
       "      <td>0.003000</td>\n",
       "      <td>0.000</td>\n",
       "      <td>0.000000</td>\n",
       "      <td>0.033000</td>\n",
       "      <td>0.100000</td>\n",
       "      <td>0.000</td>\n",
       "      <td>0.003000</td>\n",
       "      <td>...</td>\n",
       "      <td>0.00</td>\n",
       "      <td>0.54540</td>\n",
       "      <td>0.004000</td>\n",
       "      <td>0.050</td>\n",
       "      <td>0.0</td>\n",
       "      <td>0.025</td>\n",
       "      <td>0.0</td>\n",
       "      <td>0.0</td>\n",
       "      <td>0.0</td>\n",
       "      <td>0.0</td>\n",
       "    </tr>\n",
       "    <tr>\n",
       "      <th>3</th>\n",
       "      <td>0.004000</td>\n",
       "      <td>0.0</td>\n",
       "      <td>0.08314</td>\n",
       "      <td>0.004000</td>\n",
       "      <td>0.000</td>\n",
       "      <td>0.000000</td>\n",
       "      <td>0.025000</td>\n",
       "      <td>0.100000</td>\n",
       "      <td>0.000</td>\n",
       "      <td>0.004000</td>\n",
       "      <td>...</td>\n",
       "      <td>0.00</td>\n",
       "      <td>0.54540</td>\n",
       "      <td>0.004000</td>\n",
       "      <td>0.000</td>\n",
       "      <td>0.0</td>\n",
       "      <td>0.000</td>\n",
       "      <td>0.0</td>\n",
       "      <td>0.0</td>\n",
       "      <td>0.0</td>\n",
       "      <td>0.0</td>\n",
       "    </tr>\n",
       "    <tr>\n",
       "      <th>4</th>\n",
       "      <td>0.004000</td>\n",
       "      <td>0.0</td>\n",
       "      <td>0.08314</td>\n",
       "      <td>0.005000</td>\n",
       "      <td>0.000</td>\n",
       "      <td>0.000000</td>\n",
       "      <td>0.020000</td>\n",
       "      <td>0.100000</td>\n",
       "      <td>0.000</td>\n",
       "      <td>0.005000</td>\n",
       "      <td>...</td>\n",
       "      <td>0.00</td>\n",
       "      <td>0.54540</td>\n",
       "      <td>0.004000</td>\n",
       "      <td>0.000</td>\n",
       "      <td>0.0</td>\n",
       "      <td>0.000</td>\n",
       "      <td>0.0</td>\n",
       "      <td>0.0</td>\n",
       "      <td>0.0</td>\n",
       "      <td>0.0</td>\n",
       "    </tr>\n",
       "    <tr>\n",
       "      <th>...</th>\n",
       "      <td>...</td>\n",
       "      <td>...</td>\n",
       "      <td>...</td>\n",
       "      <td>...</td>\n",
       "      <td>...</td>\n",
       "      <td>...</td>\n",
       "      <td>...</td>\n",
       "      <td>...</td>\n",
       "      <td>...</td>\n",
       "      <td>...</td>\n",
       "      <td>...</td>\n",
       "      <td>...</td>\n",
       "      <td>...</td>\n",
       "      <td>...</td>\n",
       "      <td>...</td>\n",
       "      <td>...</td>\n",
       "      <td>...</td>\n",
       "      <td>...</td>\n",
       "      <td>...</td>\n",
       "      <td>...</td>\n",
       "      <td>...</td>\n",
       "    </tr>\n",
       "    <tr>\n",
       "      <th>6343805</th>\n",
       "      <td>0.511000</td>\n",
       "      <td>0.0</td>\n",
       "      <td>0.00000</td>\n",
       "      <td>0.255000</td>\n",
       "      <td>0.025</td>\n",
       "      <td>0.000000</td>\n",
       "      <td>0.006332</td>\n",
       "      <td>0.006332</td>\n",
       "      <td>0.000</td>\n",
       "      <td>0.016664</td>\n",
       "      <td>...</td>\n",
       "      <td>0.09</td>\n",
       "      <td>0.01032</td>\n",
       "      <td>0.511000</td>\n",
       "      <td>0.000</td>\n",
       "      <td>0.0</td>\n",
       "      <td>0.000</td>\n",
       "      <td>0.0</td>\n",
       "      <td>0.0</td>\n",
       "      <td>0.0</td>\n",
       "      <td>0.0</td>\n",
       "    </tr>\n",
       "    <tr>\n",
       "      <th>6343806</th>\n",
       "      <td>0.511000</td>\n",
       "      <td>0.0</td>\n",
       "      <td>0.00000</td>\n",
       "      <td>0.255000</td>\n",
       "      <td>0.004</td>\n",
       "      <td>0.002000</td>\n",
       "      <td>0.015000</td>\n",
       "      <td>0.015000</td>\n",
       "      <td>0.027</td>\n",
       "      <td>0.038469</td>\n",
       "      <td>...</td>\n",
       "      <td>0.09</td>\n",
       "      <td>0.01032</td>\n",
       "      <td>0.511000</td>\n",
       "      <td>0.000</td>\n",
       "      <td>0.0</td>\n",
       "      <td>0.000</td>\n",
       "      <td>0.0</td>\n",
       "      <td>0.0</td>\n",
       "      <td>0.0</td>\n",
       "      <td>0.0</td>\n",
       "    </tr>\n",
       "    <tr>\n",
       "      <th>6343807</th>\n",
       "      <td>0.511000</td>\n",
       "      <td>0.0</td>\n",
       "      <td>0.00000</td>\n",
       "      <td>0.212493</td>\n",
       "      <td>0.001</td>\n",
       "      <td>0.000000</td>\n",
       "      <td>0.032000</td>\n",
       "      <td>0.032000</td>\n",
       "      <td>0.000</td>\n",
       "      <td>0.067493</td>\n",
       "      <td>...</td>\n",
       "      <td>0.09</td>\n",
       "      <td>0.01032</td>\n",
       "      <td>0.511000</td>\n",
       "      <td>0.000</td>\n",
       "      <td>0.0</td>\n",
       "      <td>0.000</td>\n",
       "      <td>0.0</td>\n",
       "      <td>0.0</td>\n",
       "      <td>0.0</td>\n",
       "      <td>0.0</td>\n",
       "    </tr>\n",
       "    <tr>\n",
       "      <th>6343808</th>\n",
       "      <td>0.012034</td>\n",
       "      <td>0.0</td>\n",
       "      <td>0.00000</td>\n",
       "      <td>0.255000</td>\n",
       "      <td>0.000</td>\n",
       "      <td>0.000000</td>\n",
       "      <td>0.100000</td>\n",
       "      <td>0.100000</td>\n",
       "      <td>0.000</td>\n",
       "      <td>0.255000</td>\n",
       "      <td>...</td>\n",
       "      <td>0.09</td>\n",
       "      <td>0.00520</td>\n",
       "      <td>0.012034</td>\n",
       "      <td>0.000</td>\n",
       "      <td>0.0</td>\n",
       "      <td>0.000</td>\n",
       "      <td>0.0</td>\n",
       "      <td>0.0</td>\n",
       "      <td>0.0</td>\n",
       "      <td>0.0</td>\n",
       "    </tr>\n",
       "    <tr>\n",
       "      <th>6343809</th>\n",
       "      <td>0.511000</td>\n",
       "      <td>0.0</td>\n",
       "      <td>0.00000</td>\n",
       "      <td>0.245954</td>\n",
       "      <td>0.003</td>\n",
       "      <td>0.025341</td>\n",
       "      <td>0.061659</td>\n",
       "      <td>0.061659</td>\n",
       "      <td>0.001</td>\n",
       "      <td>0.151954</td>\n",
       "      <td>...</td>\n",
       "      <td>0.09</td>\n",
       "      <td>0.01032</td>\n",
       "      <td>0.511000</td>\n",
       "      <td>0.000</td>\n",
       "      <td>0.0</td>\n",
       "      <td>0.000</td>\n",
       "      <td>0.0</td>\n",
       "      <td>0.0</td>\n",
       "      <td>0.0</td>\n",
       "      <td>0.0</td>\n",
       "    </tr>\n",
       "  </tbody>\n",
       "</table>\n",
       "<p>6343810 rows × 41 columns</p>\n",
       "</div>"
      ],
      "text/plain": [
       "            count   diff_srv_rate   dst_bytes   dst_host_count  \\\n",
       "0        0.001000             0.0     0.08314         0.001000   \n",
       "1        0.002000             0.0     0.08314         0.002000   \n",
       "2        0.003000             0.0     0.08314         0.003000   \n",
       "3        0.004000             0.0     0.08314         0.004000   \n",
       "4        0.004000             0.0     0.08314         0.005000   \n",
       "...           ...             ...         ...              ...   \n",
       "6343805  0.511000             0.0     0.00000         0.255000   \n",
       "6343806  0.511000             0.0     0.00000         0.255000   \n",
       "6343807  0.511000             0.0     0.00000         0.212493   \n",
       "6343808  0.012034             0.0     0.00000         0.255000   \n",
       "6343809  0.511000             0.0     0.00000         0.245954   \n",
       "\n",
       "          dst_host_diff_srv_rate   dst_host_rerror_rate  \\\n",
       "0                          0.000               0.000000   \n",
       "1                          0.000               0.000000   \n",
       "2                          0.000               0.000000   \n",
       "3                          0.000               0.000000   \n",
       "4                          0.000               0.000000   \n",
       "...                          ...                    ...   \n",
       "6343805                    0.025               0.000000   \n",
       "6343806                    0.004               0.002000   \n",
       "6343807                    0.001               0.000000   \n",
       "6343808                    0.000               0.000000   \n",
       "6343809                    0.003               0.025341   \n",
       "\n",
       "          dst_host_same_src_port_rate   dst_host_same_srv_rate  \\\n",
       "0                            0.100000                 0.100000   \n",
       "1                            0.050000                 0.100000   \n",
       "2                            0.033000                 0.100000   \n",
       "3                            0.025000                 0.100000   \n",
       "4                            0.020000                 0.100000   \n",
       "...                               ...                      ...   \n",
       "6343805                      0.006332                 0.006332   \n",
       "6343806                      0.015000                 0.015000   \n",
       "6343807                      0.032000                 0.032000   \n",
       "6343808                      0.100000                 0.100000   \n",
       "6343809                      0.061659                 0.061659   \n",
       "\n",
       "          dst_host_serror_rate   dst_host_srv_count  ...   service  \\\n",
       "0                        0.000             0.001000  ...      0.00   \n",
       "1                        0.000             0.002000  ...      0.00   \n",
       "2                        0.000             0.003000  ...      0.00   \n",
       "3                        0.000             0.004000  ...      0.00   \n",
       "4                        0.000             0.005000  ...      0.00   \n",
       "...                        ...                  ...  ...       ...   \n",
       "6343805                  0.000             0.016664  ...      0.09   \n",
       "6343806                  0.027             0.038469  ...      0.09   \n",
       "6343807                  0.000             0.067493  ...      0.09   \n",
       "6343808                  0.000             0.255000  ...      0.09   \n",
       "6343809                  0.001             0.151954  ...      0.09   \n",
       "\n",
       "          src_bytes   srv_count   srv_diff_host_rate   srv_error_rate  \\\n",
       "0           0.54540    0.002000                0.100              0.0   \n",
       "1           0.54540    0.003000                0.067              0.0   \n",
       "2           0.54540    0.004000                0.050              0.0   \n",
       "3           0.54540    0.004000                0.000              0.0   \n",
       "4           0.54540    0.004000                0.000              0.0   \n",
       "...             ...         ...                  ...              ...   \n",
       "6343805     0.01032    0.511000                0.000              0.0   \n",
       "6343806     0.01032    0.511000                0.000              0.0   \n",
       "6343807     0.01032    0.511000                0.000              0.0   \n",
       "6343808     0.00520    0.012034                0.000              0.0   \n",
       "6343809     0.01032    0.511000                0.000              0.0   \n",
       "\n",
       "          srv_rerror_rate   su_attempted   urgent   wrong_fragment  duration  \n",
       "0                   0.050            0.0      0.0              0.0       0.0  \n",
       "1                   0.033            0.0      0.0              0.0       0.0  \n",
       "2                   0.025            0.0      0.0              0.0       0.0  \n",
       "3                   0.000            0.0      0.0              0.0       0.0  \n",
       "4                   0.000            0.0      0.0              0.0       0.0  \n",
       "...                   ...            ...      ...              ...       ...  \n",
       "6343805             0.000            0.0      0.0              0.0       0.0  \n",
       "6343806             0.000            0.0      0.0              0.0       0.0  \n",
       "6343807             0.000            0.0      0.0              0.0       0.0  \n",
       "6343808             0.000            0.0      0.0              0.0       0.0  \n",
       "6343809             0.000            0.0      0.0              0.0       0.0  \n",
       "\n",
       "[6343810 rows x 41 columns]"
      ]
     },
     "execution_count": 81,
     "metadata": {},
     "output_type": "execute_result"
    }
   ],
   "source": [
    "resampled_X"
   ]
  },
  {
   "cell_type": "code",
   "execution_count": 82,
   "id": "82736132",
   "metadata": {},
   "outputs": [],
   "source": [
    "resampled_y  = pd.Series(resampled_y)"
   ]
  },
  {
   "cell_type": "code",
   "execution_count": 83,
   "id": "2f36d031",
   "metadata": {},
   "outputs": [],
   "source": [
    "# combine the data sets\n",
    "df_New_1= pd.concat([resampled_X,resampled_y],axis=1)"
   ]
  },
  {
   "cell_type": "code",
   "execution_count": 84,
   "id": "d5a736ca",
   "metadata": {},
   "outputs": [],
   "source": [
    "# now we will choose some 5% random number . I take 10% but it's taking lot of time so i will go with 5%.\n",
    "# As we have large amount of data so we will take a sample of data from it .\n",
    "df_New = df_New_1.sample(frac=0.05 , random_state=123)"
   ]
  },
  {
   "cell_type": "code",
   "execution_count": 85,
   "id": "6fd21781",
   "metadata": {},
   "outputs": [
    {
     "data": {
      "text/plain": [
       "(317190, 42)"
      ]
     },
     "execution_count": 85,
     "metadata": {},
     "output_type": "execute_result"
    }
   ],
   "source": [
    "df_New.shape"
   ]
  },
  {
   "cell_type": "code",
   "execution_count": 86,
   "id": "324f1f35",
   "metadata": {},
   "outputs": [],
   "source": [
    "df_New.rename(columns={ 0:'Attack_Based'},inplace=True)"
   ]
  },
  {
   "cell_type": "code",
   "execution_count": 87,
   "id": "d48020e3",
   "metadata": {},
   "outputs": [],
   "source": [
    "x_var = df_New[df_New.columns.difference(['Attack_Based'])]\n",
    "y_var = df_New['Attack_Based']"
   ]
  },
  {
   "cell_type": "code",
   "execution_count": 88,
   "id": "9ebd7210",
   "metadata": {},
   "outputs": [
    {
     "data": {
      "text/html": [
       "<div>\n",
       "<style scoped>\n",
       "    .dataframe tbody tr th:only-of-type {\n",
       "        vertical-align: middle;\n",
       "    }\n",
       "\n",
       "    .dataframe tbody tr th {\n",
       "        vertical-align: top;\n",
       "    }\n",
       "\n",
       "    .dataframe thead th {\n",
       "        text-align: right;\n",
       "    }\n",
       "</style>\n",
       "<table border=\"1\" class=\"dataframe\">\n",
       "  <thead>\n",
       "    <tr style=\"text-align: right;\">\n",
       "      <th></th>\n",
       "      <th>count</th>\n",
       "      <th>diff_srv_rate</th>\n",
       "      <th>dst_bytes</th>\n",
       "      <th>dst_host_count</th>\n",
       "      <th>dst_host_diff_srv_rate</th>\n",
       "      <th>dst_host_rerror_rate</th>\n",
       "      <th>dst_host_same_src_port_rate</th>\n",
       "      <th>dst_host_same_srv_rate</th>\n",
       "      <th>dst_host_serror_rate</th>\n",
       "      <th>dst_host_srv_count</th>\n",
       "      <th>...</th>\n",
       "      <th>service</th>\n",
       "      <th>src_bytes</th>\n",
       "      <th>srv_count</th>\n",
       "      <th>srv_diff_host_rate</th>\n",
       "      <th>srv_error_rate</th>\n",
       "      <th>srv_rerror_rate</th>\n",
       "      <th>su_attempted</th>\n",
       "      <th>urgent</th>\n",
       "      <th>wrong_fragment</th>\n",
       "      <th>duration</th>\n",
       "    </tr>\n",
       "  </thead>\n",
       "  <tbody>\n",
       "    <tr>\n",
       "      <th>1589599</th>\n",
       "      <td>0.001000</td>\n",
       "      <td>0.000000</td>\n",
       "      <td>0.029383</td>\n",
       "      <td>0.001098</td>\n",
       "      <td>0.000000</td>\n",
       "      <td>0.000000</td>\n",
       "      <td>0.095096</td>\n",
       "      <td>0.100</td>\n",
       "      <td>0.00000</td>\n",
       "      <td>0.003098</td>\n",
       "      <td>...</td>\n",
       "      <td>0.05</td>\n",
       "      <td>0.015330</td>\n",
       "      <td>0.001000</td>\n",
       "      <td>0.00</td>\n",
       "      <td>0.0</td>\n",
       "      <td>0.000</td>\n",
       "      <td>0.0</td>\n",
       "      <td>0.0</td>\n",
       "      <td>0.0</td>\n",
       "      <td>0.019587</td>\n",
       "    </tr>\n",
       "    <tr>\n",
       "      <th>1780920</th>\n",
       "      <td>0.001261</td>\n",
       "      <td>0.026112</td>\n",
       "      <td>0.044596</td>\n",
       "      <td>0.002567</td>\n",
       "      <td>0.000000</td>\n",
       "      <td>0.003656</td>\n",
       "      <td>0.077544</td>\n",
       "      <td>0.100</td>\n",
       "      <td>0.00000</td>\n",
       "      <td>0.002567</td>\n",
       "      <td>...</td>\n",
       "      <td>0.05</td>\n",
       "      <td>0.023301</td>\n",
       "      <td>0.001000</td>\n",
       "      <td>0.00</td>\n",
       "      <td>0.0</td>\n",
       "      <td>0.000</td>\n",
       "      <td>0.0</td>\n",
       "      <td>0.0</td>\n",
       "      <td>0.0</td>\n",
       "      <td>0.005608</td>\n",
       "    </tr>\n",
       "    <tr>\n",
       "      <th>3094662</th>\n",
       "      <td>0.001608</td>\n",
       "      <td>0.000000</td>\n",
       "      <td>0.001790</td>\n",
       "      <td>0.038177</td>\n",
       "      <td>0.000000</td>\n",
       "      <td>0.095000</td>\n",
       "      <td>0.004216</td>\n",
       "      <td>0.100</td>\n",
       "      <td>0.00500</td>\n",
       "      <td>0.038177</td>\n",
       "      <td>...</td>\n",
       "      <td>0.05</td>\n",
       "      <td>0.001260</td>\n",
       "      <td>0.001608</td>\n",
       "      <td>0.00</td>\n",
       "      <td>0.0</td>\n",
       "      <td>0.100</td>\n",
       "      <td>0.0</td>\n",
       "      <td>0.0</td>\n",
       "      <td>0.0</td>\n",
       "      <td>0.000000</td>\n",
       "    </tr>\n",
       "    <tr>\n",
       "      <th>1149233</th>\n",
       "      <td>0.003000</td>\n",
       "      <td>0.000000</td>\n",
       "      <td>0.083140</td>\n",
       "      <td>0.255000</td>\n",
       "      <td>0.000000</td>\n",
       "      <td>0.002000</td>\n",
       "      <td>0.000000</td>\n",
       "      <td>0.100</td>\n",
       "      <td>0.00027</td>\n",
       "      <td>0.255000</td>\n",
       "      <td>...</td>\n",
       "      <td>0.00</td>\n",
       "      <td>0.545400</td>\n",
       "      <td>0.004000</td>\n",
       "      <td>0.05</td>\n",
       "      <td>0.0</td>\n",
       "      <td>0.025</td>\n",
       "      <td>0.0</td>\n",
       "      <td>0.0</td>\n",
       "      <td>0.0</td>\n",
       "      <td>0.000000</td>\n",
       "    </tr>\n",
       "    <tr>\n",
       "      <th>6053683</th>\n",
       "      <td>0.132243</td>\n",
       "      <td>0.000000</td>\n",
       "      <td>0.000000</td>\n",
       "      <td>0.255000</td>\n",
       "      <td>0.000000</td>\n",
       "      <td>0.000000</td>\n",
       "      <td>0.100000</td>\n",
       "      <td>0.100</td>\n",
       "      <td>0.00000</td>\n",
       "      <td>0.255000</td>\n",
       "      <td>...</td>\n",
       "      <td>0.09</td>\n",
       "      <td>0.010320</td>\n",
       "      <td>0.132243</td>\n",
       "      <td>0.00</td>\n",
       "      <td>0.0</td>\n",
       "      <td>0.000</td>\n",
       "      <td>0.0</td>\n",
       "      <td>0.0</td>\n",
       "      <td>0.0</td>\n",
       "      <td>0.000000</td>\n",
       "    </tr>\n",
       "    <tr>\n",
       "      <th>...</th>\n",
       "      <td>...</td>\n",
       "      <td>...</td>\n",
       "      <td>...</td>\n",
       "      <td>...</td>\n",
       "      <td>...</td>\n",
       "      <td>...</td>\n",
       "      <td>...</td>\n",
       "      <td>...</td>\n",
       "      <td>...</td>\n",
       "      <td>...</td>\n",
       "      <td>...</td>\n",
       "      <td>...</td>\n",
       "      <td>...</td>\n",
       "      <td>...</td>\n",
       "      <td>...</td>\n",
       "      <td>...</td>\n",
       "      <td>...</td>\n",
       "      <td>...</td>\n",
       "      <td>...</td>\n",
       "      <td>...</td>\n",
       "      <td>...</td>\n",
       "    </tr>\n",
       "    <tr>\n",
       "      <th>4005170</th>\n",
       "      <td>0.234000</td>\n",
       "      <td>0.006000</td>\n",
       "      <td>0.000000</td>\n",
       "      <td>0.255000</td>\n",
       "      <td>0.007445</td>\n",
       "      <td>0.000000</td>\n",
       "      <td>0.000000</td>\n",
       "      <td>0.006</td>\n",
       "      <td>0.10000</td>\n",
       "      <td>0.015555</td>\n",
       "      <td>...</td>\n",
       "      <td>0.12</td>\n",
       "      <td>0.000000</td>\n",
       "      <td>0.019000</td>\n",
       "      <td>0.00</td>\n",
       "      <td>0.1</td>\n",
       "      <td>0.000</td>\n",
       "      <td>0.0</td>\n",
       "      <td>0.0</td>\n",
       "      <td>0.0</td>\n",
       "      <td>0.000000</td>\n",
       "    </tr>\n",
       "    <tr>\n",
       "      <th>4299018</th>\n",
       "      <td>0.032325</td>\n",
       "      <td>0.013191</td>\n",
       "      <td>0.000000</td>\n",
       "      <td>0.255000</td>\n",
       "      <td>0.100000</td>\n",
       "      <td>0.100000</td>\n",
       "      <td>0.100000</td>\n",
       "      <td>0.000</td>\n",
       "      <td>0.00000</td>\n",
       "      <td>0.001000</td>\n",
       "      <td>...</td>\n",
       "      <td>0.12</td>\n",
       "      <td>0.000000</td>\n",
       "      <td>0.001000</td>\n",
       "      <td>0.00</td>\n",
       "      <td>0.0</td>\n",
       "      <td>0.100</td>\n",
       "      <td>0.0</td>\n",
       "      <td>0.0</td>\n",
       "      <td>0.0</td>\n",
       "      <td>0.000000</td>\n",
       "    </tr>\n",
       "    <tr>\n",
       "      <th>1608419</th>\n",
       "      <td>0.002826</td>\n",
       "      <td>0.000000</td>\n",
       "      <td>0.027239</td>\n",
       "      <td>0.003653</td>\n",
       "      <td>0.000000</td>\n",
       "      <td>0.000000</td>\n",
       "      <td>0.100000</td>\n",
       "      <td>0.100</td>\n",
       "      <td>0.00000</td>\n",
       "      <td>0.003653</td>\n",
       "      <td>...</td>\n",
       "      <td>0.14</td>\n",
       "      <td>0.000000</td>\n",
       "      <td>0.002826</td>\n",
       "      <td>0.00</td>\n",
       "      <td>0.0</td>\n",
       "      <td>0.000</td>\n",
       "      <td>0.0</td>\n",
       "      <td>0.0</td>\n",
       "      <td>0.0</td>\n",
       "      <td>0.000000</td>\n",
       "    </tr>\n",
       "    <tr>\n",
       "      <th>4165554</th>\n",
       "      <td>0.227991</td>\n",
       "      <td>0.052000</td>\n",
       "      <td>0.000000</td>\n",
       "      <td>0.255000</td>\n",
       "      <td>0.046996</td>\n",
       "      <td>0.096000</td>\n",
       "      <td>0.089000</td>\n",
       "      <td>0.000</td>\n",
       "      <td>0.00000</td>\n",
       "      <td>0.001000</td>\n",
       "      <td>...</td>\n",
       "      <td>0.12</td>\n",
       "      <td>0.000000</td>\n",
       "      <td>0.001000</td>\n",
       "      <td>0.00</td>\n",
       "      <td>0.0</td>\n",
       "      <td>0.100</td>\n",
       "      <td>0.0</td>\n",
       "      <td>0.0</td>\n",
       "      <td>0.0</td>\n",
       "      <td>0.000000</td>\n",
       "    </tr>\n",
       "    <tr>\n",
       "      <th>1082289</th>\n",
       "      <td>0.002276</td>\n",
       "      <td>0.000000</td>\n",
       "      <td>0.083140</td>\n",
       "      <td>0.255000</td>\n",
       "      <td>0.000000</td>\n",
       "      <td>0.002000</td>\n",
       "      <td>0.000000</td>\n",
       "      <td>0.100</td>\n",
       "      <td>0.00100</td>\n",
       "      <td>0.255000</td>\n",
       "      <td>...</td>\n",
       "      <td>0.00</td>\n",
       "      <td>0.545400</td>\n",
       "      <td>0.002276</td>\n",
       "      <td>0.00</td>\n",
       "      <td>0.0</td>\n",
       "      <td>0.000</td>\n",
       "      <td>0.0</td>\n",
       "      <td>0.0</td>\n",
       "      <td>0.0</td>\n",
       "      <td>0.000028</td>\n",
       "    </tr>\n",
       "  </tbody>\n",
       "</table>\n",
       "<p>317190 rows × 41 columns</p>\n",
       "</div>"
      ],
      "text/plain": [
       "            count   diff_srv_rate   dst_bytes   dst_host_count  \\\n",
       "1589599  0.001000        0.000000    0.029383         0.001098   \n",
       "1780920  0.001261        0.026112    0.044596         0.002567   \n",
       "3094662  0.001608        0.000000    0.001790         0.038177   \n",
       "1149233  0.003000        0.000000    0.083140         0.255000   \n",
       "6053683  0.132243        0.000000    0.000000         0.255000   \n",
       "...           ...             ...         ...              ...   \n",
       "4005170  0.234000        0.006000    0.000000         0.255000   \n",
       "4299018  0.032325        0.013191    0.000000         0.255000   \n",
       "1608419  0.002826        0.000000    0.027239         0.003653   \n",
       "4165554  0.227991        0.052000    0.000000         0.255000   \n",
       "1082289  0.002276        0.000000    0.083140         0.255000   \n",
       "\n",
       "          dst_host_diff_srv_rate   dst_host_rerror_rate  \\\n",
       "1589599                 0.000000               0.000000   \n",
       "1780920                 0.000000               0.003656   \n",
       "3094662                 0.000000               0.095000   \n",
       "1149233                 0.000000               0.002000   \n",
       "6053683                 0.000000               0.000000   \n",
       "...                          ...                    ...   \n",
       "4005170                 0.007445               0.000000   \n",
       "4299018                 0.100000               0.100000   \n",
       "1608419                 0.000000               0.000000   \n",
       "4165554                 0.046996               0.096000   \n",
       "1082289                 0.000000               0.002000   \n",
       "\n",
       "          dst_host_same_src_port_rate   dst_host_same_srv_rate  \\\n",
       "1589599                      0.095096                    0.100   \n",
       "1780920                      0.077544                    0.100   \n",
       "3094662                      0.004216                    0.100   \n",
       "1149233                      0.000000                    0.100   \n",
       "6053683                      0.100000                    0.100   \n",
       "...                               ...                      ...   \n",
       "4005170                      0.000000                    0.006   \n",
       "4299018                      0.100000                    0.000   \n",
       "1608419                      0.100000                    0.100   \n",
       "4165554                      0.089000                    0.000   \n",
       "1082289                      0.000000                    0.100   \n",
       "\n",
       "          dst_host_serror_rate   dst_host_srv_count  ...   service  \\\n",
       "1589599                0.00000             0.003098  ...      0.05   \n",
       "1780920                0.00000             0.002567  ...      0.05   \n",
       "3094662                0.00500             0.038177  ...      0.05   \n",
       "1149233                0.00027             0.255000  ...      0.00   \n",
       "6053683                0.00000             0.255000  ...      0.09   \n",
       "...                        ...                  ...  ...       ...   \n",
       "4005170                0.10000             0.015555  ...      0.12   \n",
       "4299018                0.00000             0.001000  ...      0.12   \n",
       "1608419                0.00000             0.003653  ...      0.14   \n",
       "4165554                0.00000             0.001000  ...      0.12   \n",
       "1082289                0.00100             0.255000  ...      0.00   \n",
       "\n",
       "          src_bytes   srv_count   srv_diff_host_rate   srv_error_rate  \\\n",
       "1589599    0.015330    0.001000                 0.00              0.0   \n",
       "1780920    0.023301    0.001000                 0.00              0.0   \n",
       "3094662    0.001260    0.001608                 0.00              0.0   \n",
       "1149233    0.545400    0.004000                 0.05              0.0   \n",
       "6053683    0.010320    0.132243                 0.00              0.0   \n",
       "...             ...         ...                  ...              ...   \n",
       "4005170    0.000000    0.019000                 0.00              0.1   \n",
       "4299018    0.000000    0.001000                 0.00              0.0   \n",
       "1608419    0.000000    0.002826                 0.00              0.0   \n",
       "4165554    0.000000    0.001000                 0.00              0.0   \n",
       "1082289    0.545400    0.002276                 0.00              0.0   \n",
       "\n",
       "          srv_rerror_rate   su_attempted   urgent   wrong_fragment  duration  \n",
       "1589599             0.000            0.0      0.0              0.0  0.019587  \n",
       "1780920             0.000            0.0      0.0              0.0  0.005608  \n",
       "3094662             0.100            0.0      0.0              0.0  0.000000  \n",
       "1149233             0.025            0.0      0.0              0.0  0.000000  \n",
       "6053683             0.000            0.0      0.0              0.0  0.000000  \n",
       "...                   ...            ...      ...              ...       ...  \n",
       "4005170             0.000            0.0      0.0              0.0  0.000000  \n",
       "4299018             0.100            0.0      0.0              0.0  0.000000  \n",
       "1608419             0.000            0.0      0.0              0.0  0.000000  \n",
       "4165554             0.100            0.0      0.0              0.0  0.000000  \n",
       "1082289             0.000            0.0      0.0              0.0  0.000028  \n",
       "\n",
       "[317190 rows x 41 columns]"
      ]
     },
     "execution_count": 88,
     "metadata": {},
     "output_type": "execute_result"
    }
   ],
   "source": [
    "x_var"
   ]
  },
  {
   "cell_type": "code",
   "execution_count": 89,
   "id": "4dc83ef2",
   "metadata": {},
   "outputs": [],
   "source": [
    "#splitting to train and test dataset\n",
    "X_train, X_test, y_train, y_test = train_test_split(x_var,y_var, test_size = 0.3,random_state=123)"
   ]
  },
  {
   "cell_type": "code",
   "execution_count": null,
   "id": "f7d22081",
   "metadata": {},
   "outputs": [],
   "source": []
  },
  {
   "cell_type": "markdown",
   "id": "f816586a",
   "metadata": {},
   "source": [
    "#### Several Other Model :"
   ]
  },
  {
   "cell_type": "markdown",
   "id": "d9fd8240",
   "metadata": {},
   "source": [
    "### K-Nearest Neighbors"
   ]
  },
  {
   "cell_type": "code",
   "execution_count": 90,
   "id": "4389d2ed",
   "metadata": {},
   "outputs": [],
   "source": [
    "#Standardization of data\n",
    "sc = StandardScaler()\n",
    "std_data = sc.fit_transform(train_X)"
   ]
  },
  {
   "cell_type": "code",
   "execution_count": 91,
   "id": "6db9d6c2",
   "metadata": {},
   "outputs": [],
   "source": [
    "std_data_train = pd.DataFrame(std_data, columns=train_X.columns, index = train_X.index )\n",
    "\n",
    "std_data_test = pd.DataFrame(sc.transform(test_X), columns=test_X.columns, index = test_X.index )"
   ]
  },
  {
   "cell_type": "code",
   "execution_count": 92,
   "id": "589d5840",
   "metadata": {},
   "outputs": [],
   "source": [
    "#Using GridsearchCV with standrardized data\n",
    "param_grid = {'n_neighbors':[3,4,5,6],\n",
    "              'weights': ['uniform', 'distance']}\n",
    "model = GridSearchCV(KNeighborsClassifier(), param_grid = param_grid, cv=5, scoring = 'f1_weighted')\n",
    "model = model.fit(std_data_train, train_y)"
   ]
  },
  {
   "cell_type": "code",
   "execution_count": 93,
   "id": "f469bdad",
   "metadata": {},
   "outputs": [
    {
     "data": {
      "text/plain": [
       "0.9994582426099875"
      ]
     },
     "execution_count": 93,
     "metadata": {},
     "output_type": "execute_result"
    }
   ],
   "source": [
    "train_pred = model.predict(std_data_train)\n",
    "test_pred = model.predict(std_data_test)\n",
    "\n",
    "model.best_score_"
   ]
  },
  {
   "cell_type": "code",
   "execution_count": 94,
   "id": "cb43a234",
   "metadata": {},
   "outputs": [
    {
     "name": "stdout",
     "output_type": "stream",
     "text": [
      "              precision    recall  f1-score   support\n",
      "\n",
      "           0       1.00      1.00      1.00     40488\n",
      "           1       1.00      1.00      1.00     16740\n",
      "\n",
      "    accuracy                           1.00     57228\n",
      "   macro avg       1.00      1.00      1.00     57228\n",
      "weighted avg       1.00      1.00      1.00     57228\n",
      "\n",
      "              precision    recall  f1-score   support\n",
      "\n",
      "           0       1.00      1.00      1.00     17124\n",
      "           1       1.00      1.00      1.00      7403\n",
      "\n",
      "    accuracy                           1.00     24527\n",
      "   macro avg       1.00      1.00      1.00     24527\n",
      "weighted avg       1.00      1.00      1.00     24527\n",
      "\n"
     ]
    }
   ],
   "source": [
    "print(metrics.classification_report(train_y, train_pred))\n",
    "\n",
    "print(metrics.classification_report(test_y, test_pred))"
   ]
  },
  {
   "cell_type": "markdown",
   "id": "f2451165",
   "metadata": {},
   "source": [
    "###  Decision Trees"
   ]
  },
  {
   "cell_type": "code",
   "execution_count": 95,
   "id": "34caa3a8",
   "metadata": {},
   "outputs": [],
   "source": [
    "#### Fine Tuning the parameters\n",
    "\n",
    "param_grid = {'max_depth': np.arange(3, 5),\n",
    "             'max_features': np.arange(3,5)}\n"
   ]
  },
  {
   "cell_type": "code",
   "execution_count": 96,
   "id": "611fc737",
   "metadata": {},
   "outputs": [
    {
     "data": {
      "text/plain": [
       "0.9928356610908425"
      ]
     },
     "execution_count": 96,
     "metadata": {},
     "output_type": "execute_result"
    }
   ],
   "source": [
    "tree = GridSearchCV(DecisionTreeClassifier(), param_grid, cv = 5)\n",
    "tree.fit( train_X, train_y )\n",
    "\n",
    "tree.best_score_"
   ]
  },
  {
   "cell_type": "code",
   "execution_count": 97,
   "id": "e9d16969",
   "metadata": {},
   "outputs": [
    {
     "data": {
      "text/html": [
       "<style>#sk-container-id-1 {color: black;background-color: white;}#sk-container-id-1 pre{padding: 0;}#sk-container-id-1 div.sk-toggleable {background-color: white;}#sk-container-id-1 label.sk-toggleable__label {cursor: pointer;display: block;width: 100%;margin-bottom: 0;padding: 0.3em;box-sizing: border-box;text-align: center;}#sk-container-id-1 label.sk-toggleable__label-arrow:before {content: \"▸\";float: left;margin-right: 0.25em;color: #696969;}#sk-container-id-1 label.sk-toggleable__label-arrow:hover:before {color: black;}#sk-container-id-1 div.sk-estimator:hover label.sk-toggleable__label-arrow:before {color: black;}#sk-container-id-1 div.sk-toggleable__content {max-height: 0;max-width: 0;overflow: hidden;text-align: left;background-color: #f0f8ff;}#sk-container-id-1 div.sk-toggleable__content pre {margin: 0.2em;color: black;border-radius: 0.25em;background-color: #f0f8ff;}#sk-container-id-1 input.sk-toggleable__control:checked~div.sk-toggleable__content {max-height: 200px;max-width: 100%;overflow: auto;}#sk-container-id-1 input.sk-toggleable__control:checked~label.sk-toggleable__label-arrow:before {content: \"▾\";}#sk-container-id-1 div.sk-estimator input.sk-toggleable__control:checked~label.sk-toggleable__label {background-color: #d4ebff;}#sk-container-id-1 div.sk-label input.sk-toggleable__control:checked~label.sk-toggleable__label {background-color: #d4ebff;}#sk-container-id-1 input.sk-hidden--visually {border: 0;clip: rect(1px 1px 1px 1px);clip: rect(1px, 1px, 1px, 1px);height: 1px;margin: -1px;overflow: hidden;padding: 0;position: absolute;width: 1px;}#sk-container-id-1 div.sk-estimator {font-family: monospace;background-color: #f0f8ff;border: 1px dotted black;border-radius: 0.25em;box-sizing: border-box;margin-bottom: 0.5em;}#sk-container-id-1 div.sk-estimator:hover {background-color: #d4ebff;}#sk-container-id-1 div.sk-parallel-item::after {content: \"\";width: 100%;border-bottom: 1px solid gray;flex-grow: 1;}#sk-container-id-1 div.sk-label:hover label.sk-toggleable__label {background-color: #d4ebff;}#sk-container-id-1 div.sk-serial::before {content: \"\";position: absolute;border-left: 1px solid gray;box-sizing: border-box;top: 0;bottom: 0;left: 50%;z-index: 0;}#sk-container-id-1 div.sk-serial {display: flex;flex-direction: column;align-items: center;background-color: white;padding-right: 0.2em;padding-left: 0.2em;position: relative;}#sk-container-id-1 div.sk-item {position: relative;z-index: 1;}#sk-container-id-1 div.sk-parallel {display: flex;align-items: stretch;justify-content: center;background-color: white;position: relative;}#sk-container-id-1 div.sk-item::before, #sk-container-id-1 div.sk-parallel-item::before {content: \"\";position: absolute;border-left: 1px solid gray;box-sizing: border-box;top: 0;bottom: 0;left: 50%;z-index: -1;}#sk-container-id-1 div.sk-parallel-item {display: flex;flex-direction: column;z-index: 1;position: relative;background-color: white;}#sk-container-id-1 div.sk-parallel-item:first-child::after {align-self: flex-end;width: 50%;}#sk-container-id-1 div.sk-parallel-item:last-child::after {align-self: flex-start;width: 50%;}#sk-container-id-1 div.sk-parallel-item:only-child::after {width: 0;}#sk-container-id-1 div.sk-dashed-wrapped {border: 1px dashed gray;margin: 0 0.4em 0.5em 0.4em;box-sizing: border-box;padding-bottom: 0.4em;background-color: white;}#sk-container-id-1 div.sk-label label {font-family: monospace;font-weight: bold;display: inline-block;line-height: 1.2em;}#sk-container-id-1 div.sk-label-container {text-align: center;}#sk-container-id-1 div.sk-container {/* jupyter's `normalize.less` sets `[hidden] { display: none; }` but bootstrap.min.css set `[hidden] { display: none !important; }` so we also need the `!important` here to be able to override the default hidden behavior on the sphinx rendered scikit-learn.org. See: https://github.com/scikit-learn/scikit-learn/issues/21755 */display: inline-block !important;position: relative;}#sk-container-id-1 div.sk-text-repr-fallback {display: none;}</style><div id=\"sk-container-id-1\" class=\"sk-top-container\"><div class=\"sk-text-repr-fallback\"><pre>DecisionTreeClassifier(max_depth=4, max_features=4)</pre><b>In a Jupyter environment, please rerun this cell to show the HTML representation or trust the notebook. <br />On GitHub, the HTML representation is unable to render, please try loading this page with nbviewer.org.</b></div><div class=\"sk-container\" hidden><div class=\"sk-item\"><div class=\"sk-estimator sk-toggleable\"><input class=\"sk-toggleable__control sk-hidden--visually\" id=\"sk-estimator-id-1\" type=\"checkbox\" checked><label for=\"sk-estimator-id-1\" class=\"sk-toggleable__label sk-toggleable__label-arrow\">DecisionTreeClassifier</label><div class=\"sk-toggleable__content\"><pre>DecisionTreeClassifier(max_depth=4, max_features=4)</pre></div></div></div></div></div>"
      ],
      "text/plain": [
       "DecisionTreeClassifier(max_depth=4, max_features=4)"
      ]
     },
     "execution_count": 97,
     "metadata": {},
     "output_type": "execute_result"
    }
   ],
   "source": [
    "tree.best_estimator_\n"
   ]
  },
  {
   "cell_type": "code",
   "execution_count": 98,
   "id": "ae9d8209",
   "metadata": {},
   "outputs": [
    {
     "data": {
      "text/plain": [
       "{'max_depth': 4, 'max_features': 4}"
      ]
     },
     "execution_count": 98,
     "metadata": {},
     "output_type": "execute_result"
    }
   ],
   "source": [
    "tree.best_params_"
   ]
  },
  {
   "cell_type": "code",
   "execution_count": 99,
   "id": "16c56f58",
   "metadata": {},
   "outputs": [
    {
     "name": "stdout",
     "output_type": "stream",
     "text": [
      "              precision    recall  f1-score   support\n",
      "\n",
      "           0       0.99      1.00      0.99     40488\n",
      "           1       1.00      0.97      0.99     16740\n",
      "\n",
      "    accuracy                           0.99     57228\n",
      "   macro avg       0.99      0.99      0.99     57228\n",
      "weighted avg       0.99      0.99      0.99     57228\n",
      "\n",
      "              precision    recall  f1-score   support\n",
      "\n",
      "           0       0.99      1.00      0.99     17124\n",
      "           1       1.00      0.97      0.98      7403\n",
      "\n",
      "    accuracy                           0.99     24527\n",
      "   macro avg       0.99      0.98      0.99     24527\n",
      "weighted avg       0.99      0.99      0.99     24527\n",
      "\n"
     ]
    }
   ],
   "source": [
    "train_pred = tree.predict(train_X)\n",
    "\n",
    "print(metrics.classification_report(train_y, train_pred))\n",
    "\n",
    "test_pred = tree.predict(test_X)\n",
    "\n",
    "print(metrics.classification_report(test_y, test_pred))"
   ]
  },
  {
   "cell_type": "code",
   "execution_count": 100,
   "id": "f29fc3fc",
   "metadata": {},
   "outputs": [
    {
     "data": {
      "text/html": [
       "<style>#sk-container-id-2 {color: black;background-color: white;}#sk-container-id-2 pre{padding: 0;}#sk-container-id-2 div.sk-toggleable {background-color: white;}#sk-container-id-2 label.sk-toggleable__label {cursor: pointer;display: block;width: 100%;margin-bottom: 0;padding: 0.3em;box-sizing: border-box;text-align: center;}#sk-container-id-2 label.sk-toggleable__label-arrow:before {content: \"▸\";float: left;margin-right: 0.25em;color: #696969;}#sk-container-id-2 label.sk-toggleable__label-arrow:hover:before {color: black;}#sk-container-id-2 div.sk-estimator:hover label.sk-toggleable__label-arrow:before {color: black;}#sk-container-id-2 div.sk-toggleable__content {max-height: 0;max-width: 0;overflow: hidden;text-align: left;background-color: #f0f8ff;}#sk-container-id-2 div.sk-toggleable__content pre {margin: 0.2em;color: black;border-radius: 0.25em;background-color: #f0f8ff;}#sk-container-id-2 input.sk-toggleable__control:checked~div.sk-toggleable__content {max-height: 200px;max-width: 100%;overflow: auto;}#sk-container-id-2 input.sk-toggleable__control:checked~label.sk-toggleable__label-arrow:before {content: \"▾\";}#sk-container-id-2 div.sk-estimator input.sk-toggleable__control:checked~label.sk-toggleable__label {background-color: #d4ebff;}#sk-container-id-2 div.sk-label input.sk-toggleable__control:checked~label.sk-toggleable__label {background-color: #d4ebff;}#sk-container-id-2 input.sk-hidden--visually {border: 0;clip: rect(1px 1px 1px 1px);clip: rect(1px, 1px, 1px, 1px);height: 1px;margin: -1px;overflow: hidden;padding: 0;position: absolute;width: 1px;}#sk-container-id-2 div.sk-estimator {font-family: monospace;background-color: #f0f8ff;border: 1px dotted black;border-radius: 0.25em;box-sizing: border-box;margin-bottom: 0.5em;}#sk-container-id-2 div.sk-estimator:hover {background-color: #d4ebff;}#sk-container-id-2 div.sk-parallel-item::after {content: \"\";width: 100%;border-bottom: 1px solid gray;flex-grow: 1;}#sk-container-id-2 div.sk-label:hover label.sk-toggleable__label {background-color: #d4ebff;}#sk-container-id-2 div.sk-serial::before {content: \"\";position: absolute;border-left: 1px solid gray;box-sizing: border-box;top: 0;bottom: 0;left: 50%;z-index: 0;}#sk-container-id-2 div.sk-serial {display: flex;flex-direction: column;align-items: center;background-color: white;padding-right: 0.2em;padding-left: 0.2em;position: relative;}#sk-container-id-2 div.sk-item {position: relative;z-index: 1;}#sk-container-id-2 div.sk-parallel {display: flex;align-items: stretch;justify-content: center;background-color: white;position: relative;}#sk-container-id-2 div.sk-item::before, #sk-container-id-2 div.sk-parallel-item::before {content: \"\";position: absolute;border-left: 1px solid gray;box-sizing: border-box;top: 0;bottom: 0;left: 50%;z-index: -1;}#sk-container-id-2 div.sk-parallel-item {display: flex;flex-direction: column;z-index: 1;position: relative;background-color: white;}#sk-container-id-2 div.sk-parallel-item:first-child::after {align-self: flex-end;width: 50%;}#sk-container-id-2 div.sk-parallel-item:last-child::after {align-self: flex-start;width: 50%;}#sk-container-id-2 div.sk-parallel-item:only-child::after {width: 0;}#sk-container-id-2 div.sk-dashed-wrapped {border: 1px dashed gray;margin: 0 0.4em 0.5em 0.4em;box-sizing: border-box;padding-bottom: 0.4em;background-color: white;}#sk-container-id-2 div.sk-label label {font-family: monospace;font-weight: bold;display: inline-block;line-height: 1.2em;}#sk-container-id-2 div.sk-label-container {text-align: center;}#sk-container-id-2 div.sk-container {/* jupyter's `normalize.less` sets `[hidden] { display: none; }` but bootstrap.min.css set `[hidden] { display: none !important; }` so we also need the `!important` here to be able to override the default hidden behavior on the sphinx rendered scikit-learn.org. See: https://github.com/scikit-learn/scikit-learn/issues/21755 */display: inline-block !important;position: relative;}#sk-container-id-2 div.sk-text-repr-fallback {display: none;}</style><div id=\"sk-container-id-2\" class=\"sk-top-container\"><div class=\"sk-text-repr-fallback\"><pre>DecisionTreeClassifier(max_depth=4, max_features=4, max_leaf_nodes=5)</pre><b>In a Jupyter environment, please rerun this cell to show the HTML representation or trust the notebook. <br />On GitHub, the HTML representation is unable to render, please try loading this page with nbviewer.org.</b></div><div class=\"sk-container\" hidden><div class=\"sk-item\"><div class=\"sk-estimator sk-toggleable\"><input class=\"sk-toggleable__control sk-hidden--visually\" id=\"sk-estimator-id-2\" type=\"checkbox\" checked><label for=\"sk-estimator-id-2\" class=\"sk-toggleable__label sk-toggleable__label-arrow\">DecisionTreeClassifier</label><div class=\"sk-toggleable__content\"><pre>DecisionTreeClassifier(max_depth=4, max_features=4, max_leaf_nodes=5)</pre></div></div></div></div></div>"
      ],
      "text/plain": [
       "DecisionTreeClassifier(max_depth=4, max_features=4, max_leaf_nodes=5)"
      ]
     },
     "execution_count": 100,
     "metadata": {},
     "output_type": "execute_result"
    }
   ],
   "source": [
    "### Building Final Decision Tree Model\n",
    "\n",
    "train_X = train_X[train_X.columns.difference(['pred_prob'])]\n",
    "\n",
    "clf_tree = DecisionTreeClassifier( max_depth = 4, max_features=4, max_leaf_nodes=5 )\n",
    "clf_tree.fit( train_X, train_y )"
   ]
  },
  {
   "cell_type": "code",
   "execution_count": 102,
   "id": "f33a6bb3",
   "metadata": {},
   "outputs": [
    {
     "name": "stdout",
     "output_type": "stream",
     "text": [
      "train_roc_auc_score :  0.9949951437740333\n",
      "test_roc_auc_score :  0.9946533407244165\n"
     ]
    }
   ],
   "source": [
    "train_pred_proba = pd.DataFrame(clf_tree.predict_proba(train_X))[1]\n",
    "test_pred_proba = pd.DataFrame(clf_tree.predict_proba(test_X))[1]\n",
    "\n",
    "print('train_roc_auc_score : ' , metrics.roc_auc_score(train_y , train_pred_proba))\n",
    "\n",
    "print('test_roc_auc_score : ' , metrics.roc_auc_score(test_y , test_pred_proba))"
   ]
  },
  {
   "cell_type": "code",
   "execution_count": 103,
   "id": "229062e9",
   "metadata": {},
   "outputs": [],
   "source": [
    "train_pred_proba_dt = pd.DataFrame(clf_tree.predict(train_X))[0]\n",
    "test_pred_proba_dt = pd.DataFrame(clf_tree.predict(test_X))[0]"
   ]
  },
  {
   "cell_type": "code",
   "execution_count": 104,
   "id": "066b83a8",
   "metadata": {},
   "outputs": [
    {
     "name": "stdout",
     "output_type": "stream",
     "text": [
      "              precision    recall  f1-score   support\n",
      "\n",
      "           0       0.98      1.00      0.99     40488\n",
      "           1       0.99      0.96      0.98     16740\n",
      "\n",
      "    accuracy                           0.99     57228\n",
      "   macro avg       0.99      0.98      0.98     57228\n",
      "weighted avg       0.99      0.99      0.99     57228\n",
      "\n",
      "              precision    recall  f1-score   support\n",
      "\n",
      "           0       0.98      1.00      0.99     17124\n",
      "           1       0.99      0.96      0.98      7403\n",
      "\n",
      "    accuracy                           0.99     24527\n",
      "   macro avg       0.99      0.98      0.98     24527\n",
      "weighted avg       0.99      0.99      0.99     24527\n",
      "\n"
     ]
    }
   ],
   "source": [
    "print (metrics.classification_report(train_y , train_pred_proba_dt))\n",
    "\n",
    "print(metrics.classification_report(test_y , test_pred_proba_dt))"
   ]
  },
  {
   "cell_type": "code",
   "execution_count": 105,
   "id": "35284562",
   "metadata": {},
   "outputs": [
    {
     "data": {
      "text/plain": [
       "Index([' count', ' diff_srv_rate', ' dst_bytes', ' dst_host_count',\n",
       "       ' dst_host_diff_srv_rate', ' dst_host_rerror_rate',\n",
       "       ' dst_host_same_src_port_rate', ' dst_host_same_srv_rate',\n",
       "       ' dst_host_serror_rate', ' dst_host_srv_count',\n",
       "       ' dst_host_srv_diff_host_rate', ' dst_host_srv_rerror_rate',\n",
       "       ' dst_host_srv_serror_rate', ' flag', ' hot', ' is_guest_login',\n",
       "       ' is_host_login', ' land', ' logged_in', ' num_access_files',\n",
       "       ' num_compromised', ' num_failed_logins', ' num_file_creations',\n",
       "       ' num_outbound_cmds', ' num_root', ' num_shells', ' protocol_type',\n",
       "       ' rerror_rate', ' root_shell', ' same_srv_rate', ' serror_rate',\n",
       "       ' service', ' src_bytes', ' srv_count', ' srv_diff_host_rate',\n",
       "       ' srv_error_rate', ' srv_rerror_rate', ' su_attempted', ' urgent',\n",
       "       ' wrong_fragment', 'duration'],\n",
       "      dtype='object')"
      ]
     },
     "execution_count": 105,
     "metadata": {},
     "output_type": "execute_result"
    }
   ],
   "source": [
    "train_X.columns"
   ]
  },
  {
   "cell_type": "code",
   "execution_count": null,
   "id": "6cdf708f",
   "metadata": {},
   "outputs": [],
   "source": [
    "print ( export_text(tree_model ,feature_names= [' count', ' diff_srv_rate', ' dst_bytes', ' dst_host_count',\n",
    "       ' dst_host_diff_srv_rate', ' dst_host_rerror_rate',\n",
    "       ' dst_host_same_src_port_rate', ' dst_host_same_srv_rate',\n",
    "       ' dst_host_serror_rate', ' dst_host_srv_count',\n",
    "       ' dst_host_srv_diff_host_rate', ' dst_host_srv_rerror_rate',\n",
    "       ' dst_host_srv_serror_rate', ' flag', ' hot', ' is_guest_login',\n",
    "       ' is_host_login', ' land', ' logged_in', ' num_access_files',\n",
    "       ' num_compromised', ' num_failed_logins', ' num_file_creations',\n",
    "       ' num_outbound_cmds', ' num_root', ' num_shells', ' protocol_type',\n",
    "       ' rerror_rate', ' root_shell', ' same_srv_rate', ' serror_rate',\n",
    "       ' service', ' src_bytes', ' srv_count', ' srv_diff_host_rate',\n",
    "       ' srv_error_rate', ' srv_rerror_rate', ' su_attempted', ' urgent',\n",
    "       ' wrong_fragment', 'duration'] ))"
   ]
  },
  {
   "cell_type": "markdown",
   "id": "945a3342",
   "metadata": {},
   "source": [
    "### Relative Importance of Features"
   ]
  },
  {
   "cell_type": "code",
   "execution_count": 106,
   "id": "25f85482",
   "metadata": {},
   "outputs": [
    {
     "data": {
      "text/plain": [
       "array([0.        , 0.        , 0.        , 0.        , 0.        ,\n",
       "       0.        , 0.04576901, 0.        , 0.        , 0.        ,\n",
       "       0.        , 0.        , 0.        , 0.18156623, 0.        ,\n",
       "       0.        , 0.        , 0.        , 0.76576003, 0.        ,\n",
       "       0.        , 0.        , 0.        , 0.        , 0.        ,\n",
       "       0.        , 0.        , 0.        , 0.        , 0.        ,\n",
       "       0.        , 0.        , 0.00690473, 0.        , 0.        ,\n",
       "       0.        , 0.        , 0.        , 0.        , 0.        ,\n",
       "       0.        ])"
      ]
     },
     "execution_count": 106,
     "metadata": {},
     "output_type": "execute_result"
    }
   ],
   "source": [
    "clf_tree.feature_importances_"
   ]
  },
  {
   "cell_type": "code",
   "execution_count": 107,
   "id": "0f7bf3f2",
   "metadata": {},
   "outputs": [],
   "source": [
    "# summarize the selection of the attributes\n",
    "import itertools\n",
    "feature_map = [(i, v) for i, v in itertools.zip_longest(train_X.columns, clf_tree.feature_importances_)]"
   ]
  },
  {
   "cell_type": "code",
   "execution_count": 108,
   "id": "a8b761ce",
   "metadata": {},
   "outputs": [
    {
     "data": {
      "text/plain": [
       "[(' count', 0.0),\n",
       " (' diff_srv_rate', 0.0),\n",
       " (' dst_bytes', 0.0),\n",
       " (' dst_host_count', 0.0),\n",
       " (' dst_host_diff_srv_rate', 0.0),\n",
       " (' dst_host_rerror_rate', 0.0),\n",
       " (' dst_host_same_src_port_rate', 0.045769007074626444),\n",
       " (' dst_host_same_srv_rate', 0.0),\n",
       " (' dst_host_serror_rate', 0.0),\n",
       " (' dst_host_srv_count', 0.0),\n",
       " (' dst_host_srv_diff_host_rate', 0.0),\n",
       " (' dst_host_srv_rerror_rate', 0.0),\n",
       " (' dst_host_srv_serror_rate', 0.0),\n",
       " (' flag', 0.18156622807954736),\n",
       " (' hot', 0.0),\n",
       " (' is_guest_login', 0.0),\n",
       " (' is_host_login', 0.0),\n",
       " (' land', 0.0),\n",
       " (' logged_in', 0.7657600327398353),\n",
       " (' num_access_files', 0.0),\n",
       " (' num_compromised', 0.0),\n",
       " (' num_failed_logins', 0.0),\n",
       " (' num_file_creations', 0.0),\n",
       " (' num_outbound_cmds', 0.0),\n",
       " (' num_root', 0.0),\n",
       " (' num_shells', 0.0),\n",
       " (' protocol_type', 0.0),\n",
       " (' rerror_rate', 0.0),\n",
       " (' root_shell', 0.0),\n",
       " (' same_srv_rate', 0.0),\n",
       " (' serror_rate', 0.0),\n",
       " (' service', 0.0),\n",
       " (' src_bytes', 0.006904732105991),\n",
       " (' srv_count', 0.0),\n",
       " (' srv_diff_host_rate', 0.0),\n",
       " (' srv_error_rate', 0.0),\n",
       " (' srv_rerror_rate', 0.0),\n",
       " (' su_attempted', 0.0),\n",
       " (' urgent', 0.0),\n",
       " (' wrong_fragment', 0.0),\n",
       " ('duration', 0.0)]"
      ]
     },
     "execution_count": 108,
     "metadata": {},
     "output_type": "execute_result"
    }
   ],
   "source": [
    "feature_map"
   ]
  },
  {
   "cell_type": "code",
   "execution_count": 109,
   "id": "78827221",
   "metadata": {},
   "outputs": [
    {
     "data": {
      "text/html": [
       "<div>\n",
       "<style scoped>\n",
       "    .dataframe tbody tr th:only-of-type {\n",
       "        vertical-align: middle;\n",
       "    }\n",
       "\n",
       "    .dataframe tbody tr th {\n",
       "        vertical-align: top;\n",
       "    }\n",
       "\n",
       "    .dataframe thead th {\n",
       "        text-align: right;\n",
       "    }\n",
       "</style>\n",
       "<table border=\"1\" class=\"dataframe\">\n",
       "  <thead>\n",
       "    <tr style=\"text-align: right;\">\n",
       "      <th></th>\n",
       "      <th>Feature</th>\n",
       "      <th>importance</th>\n",
       "    </tr>\n",
       "  </thead>\n",
       "  <tbody>\n",
       "    <tr>\n",
       "      <th>18</th>\n",
       "      <td>logged_in</td>\n",
       "      <td>0.765760</td>\n",
       "    </tr>\n",
       "    <tr>\n",
       "      <th>13</th>\n",
       "      <td>flag</td>\n",
       "      <td>0.181566</td>\n",
       "    </tr>\n",
       "    <tr>\n",
       "      <th>6</th>\n",
       "      <td>dst_host_same_src_port_rate</td>\n",
       "      <td>0.045769</td>\n",
       "    </tr>\n",
       "    <tr>\n",
       "      <th>32</th>\n",
       "      <td>src_bytes</td>\n",
       "      <td>0.006905</td>\n",
       "    </tr>\n",
       "    <tr>\n",
       "      <th>0</th>\n",
       "      <td>count</td>\n",
       "      <td>0.000000</td>\n",
       "    </tr>\n",
       "    <tr>\n",
       "      <th>30</th>\n",
       "      <td>serror_rate</td>\n",
       "      <td>0.000000</td>\n",
       "    </tr>\n",
       "    <tr>\n",
       "      <th>24</th>\n",
       "      <td>num_root</td>\n",
       "      <td>0.000000</td>\n",
       "    </tr>\n",
       "    <tr>\n",
       "      <th>25</th>\n",
       "      <td>num_shells</td>\n",
       "      <td>0.000000</td>\n",
       "    </tr>\n",
       "    <tr>\n",
       "      <th>26</th>\n",
       "      <td>protocol_type</td>\n",
       "      <td>0.000000</td>\n",
       "    </tr>\n",
       "    <tr>\n",
       "      <th>27</th>\n",
       "      <td>rerror_rate</td>\n",
       "      <td>0.000000</td>\n",
       "    </tr>\n",
       "  </tbody>\n",
       "</table>\n",
       "</div>"
      ],
      "text/plain": [
       "                         Feature  importance\n",
       "18                     logged_in    0.765760\n",
       "13                          flag    0.181566\n",
       "6    dst_host_same_src_port_rate    0.045769\n",
       "32                     src_bytes    0.006905\n",
       "0                          count    0.000000\n",
       "30                   serror_rate    0.000000\n",
       "24                      num_root    0.000000\n",
       "25                    num_shells    0.000000\n",
       "26                 protocol_type    0.000000\n",
       "27                   rerror_rate    0.000000"
      ]
     },
     "execution_count": 109,
     "metadata": {},
     "output_type": "execute_result"
    }
   ],
   "source": [
    "Feature_importance = pd.DataFrame(feature_map, columns=['Feature', 'importance'])\n",
    "Feature_importance.sort_values('importance', inplace=True, ascending=False)\n",
    "Feature_importance.head(10)"
   ]
  },
  {
   "cell_type": "code",
   "execution_count": 112,
   "id": "ca628dd7",
   "metadata": {},
   "outputs": [
    {
     "data": {
      "text/plain": [
       "<AxesSubplot:>"
      ]
     },
     "execution_count": 112,
     "metadata": {},
     "output_type": "execute_result"
    },
    {
     "data": {
      "image/png": "[encoded data removed]",
      "text/plain": [
       "<Figure size 432x288 with 1 Axes>"
      ]
     },
     "metadata": {
      "needs_background": "light"
     },
     "output_type": "display_data"
    }
   ],
   "source": [
    "Feature_importance.head(10).plot(kind = 'barh')"
   ]
  },
  {
   "cell_type": "markdown",
   "id": "99b577e3",
   "metadata": {},
   "source": [
    "### Generate Rules from Decision Trees\n",
    "\n",
    "#### To create a decision tree visualization graph.\n",
    "- Install GraphViz (As per the OS and version you are using)\n",
    "- pip install pydotplus\n",
    "- Add the path to environmental variables\n",
    "- Note: The notebook needs a restart."
   ]
  },
  {
   "cell_type": "code",
   "execution_count": null,
   "id": "351727ec",
   "metadata": {},
   "outputs": [],
   "source": [
    "import os\n",
    "os.environ[\"PATH\"] += os.pathsep + 'C:/Program Files/Graphviz/bin'"
   ]
  },
  {
   "cell_type": "code",
   "execution_count": null,
   "id": "c92353ea",
   "metadata": {},
   "outputs": [],
   "source": [
    "from sklearn.tree import DecisionTreeClassifier, export_graphviz"
   ]
  },
  {
   "cell_type": "code",
   "execution_count": null,
   "id": "b2f39258",
   "metadata": {},
   "outputs": [],
   "source": [
    "# Exporting the tree output in the form opendocument\n",
    "export_graphviz( clf_tree,\n",
    "              out_file = \"bank_tree_multiclass.odt\",\n",
    "              feature_names = train_X.columns )"
   ]
  },
  {
   "cell_type": "code",
   "execution_count": null,
   "id": "6c538a94",
   "metadata": {},
   "outputs": [],
   "source": [
    "# Converting open document file to jpg imanage\n",
    "\n",
    "import pydotplus as pdot\n",
    "chd_tree_graph = pdot.graphviz.graph_from_dot_file( 'bank_tree_multiclass.odt' )\n",
    "\n",
    "chd_tree_graph.write_jpg( 'bank_tree_multiclass.jpg' )"
   ]
  },
  {
   "cell_type": "code",
   "execution_count": null,
   "id": "2988f92f",
   "metadata": {},
   "outputs": [],
   "source": [
    "# Viewing the image in the notebook (display the image)\n",
    "from IPython.display import Image\n",
    "Image(filename='bank_tree_multiclass.jpg')"
   ]
  },
  {
   "cell_type": "markdown",
   "id": "a95b64d6",
   "metadata": {},
   "source": [
    "### Bagging "
   ]
  },
  {
   "cell_type": "code",
   "execution_count": 118,
   "id": "4829f09b",
   "metadata": {},
   "outputs": [],
   "source": [
    "from sklearn.ensemble import BaggingClassifier"
   ]
  },
  {
   "cell_type": "code",
   "execution_count": 119,
   "id": "2be44a66",
   "metadata": {},
   "outputs": [
    {
     "name": "stdout",
     "output_type": "stream",
     "text": [
      "Fitting 5 folds for each of 3 candidates, totalling 15 fits\n"
     ]
    },
    {
     "data": {
      "text/plain": [
       "{'n_estimators': 60}"
      ]
     },
     "execution_count": 119,
     "metadata": {},
     "output_type": "execute_result"
    }
   ],
   "source": [
    "### Tuning parameters\n",
    "\n",
    "pargrid_ada = {'n_estimators': [50, 60, 70]}\n",
    "\n",
    "gscv_bagging = GridSearchCV(estimator=BaggingClassifier(), \n",
    "                        param_grid=pargrid_ada, \n",
    "                        cv=5,\n",
    "                        verbose=True, n_jobs=-1)  # we can write scoring if we need .\n",
    "\n",
    "gscv_results = gscv_bagging.fit(train_X, train_y)\n",
    "\n",
    "gscv_results.best_params_"
   ]
  },
  {
   "cell_type": "code",
   "execution_count": 120,
   "id": "b058415f",
   "metadata": {},
   "outputs": [
    {
     "data": {
      "text/plain": [
       "0.9996679925498935"
      ]
     },
     "execution_count": 120,
     "metadata": {},
     "output_type": "execute_result"
    }
   ],
   "source": [
    "gscv_results.best_score_"
   ]
  },
  {
   "cell_type": "markdown",
   "id": "f8234b54",
   "metadata": {},
   "source": [
    "## Random Forest"
   ]
  },
  {
   "cell_type": "code",
   "execution_count": 121,
   "id": "e1c7ec1c",
   "metadata": {},
   "outputs": [],
   "source": [
    "from sklearn.ensemble import RandomForestClassifier"
   ]
  },
  {
   "cell_type": "code",
   "execution_count": 122,
   "id": "c48b4521",
   "metadata": {},
   "outputs": [
    {
     "data": {
      "text/html": [
       "<style>#sk-container-id-3 {color: black;background-color: white;}#sk-container-id-3 pre{padding: 0;}#sk-container-id-3 div.sk-toggleable {background-color: white;}#sk-container-id-3 label.sk-toggleable__label {cursor: pointer;display: block;width: 100%;margin-bottom: 0;padding: 0.3em;box-sizing: border-box;text-align: center;}#sk-container-id-3 label.sk-toggleable__label-arrow:before {content: \"▸\";float: left;margin-right: 0.25em;color: #696969;}#sk-container-id-3 label.sk-toggleable__label-arrow:hover:before {color: black;}#sk-container-id-3 div.sk-estimator:hover label.sk-toggleable__label-arrow:before {color: black;}#sk-container-id-3 div.sk-toggleable__content {max-height: 0;max-width: 0;overflow: hidden;text-align: left;background-color: #f0f8ff;}#sk-container-id-3 div.sk-toggleable__content pre {margin: 0.2em;color: black;border-radius: 0.25em;background-color: #f0f8ff;}#sk-container-id-3 input.sk-toggleable__control:checked~div.sk-toggleable__content {max-height: 200px;max-width: 100%;overflow: auto;}#sk-container-id-3 input.sk-toggleable__control:checked~label.sk-toggleable__label-arrow:before {content: \"▾\";}#sk-container-id-3 div.sk-estimator input.sk-toggleable__control:checked~label.sk-toggleable__label {background-color: #d4ebff;}#sk-container-id-3 div.sk-label input.sk-toggleable__control:checked~label.sk-toggleable__label {background-color: #d4ebff;}#sk-container-id-3 input.sk-hidden--visually {border: 0;clip: rect(1px 1px 1px 1px);clip: rect(1px, 1px, 1px, 1px);height: 1px;margin: -1px;overflow: hidden;padding: 0;position: absolute;width: 1px;}#sk-container-id-3 div.sk-estimator {font-family: monospace;background-color: #f0f8ff;border: 1px dotted black;border-radius: 0.25em;box-sizing: border-box;margin-bottom: 0.5em;}#sk-container-id-3 div.sk-estimator:hover {background-color: #d4ebff;}#sk-container-id-3 div.sk-parallel-item::after {content: \"\";width: 100%;border-bottom: 1px solid gray;flex-grow: 1;}#sk-container-id-3 div.sk-label:hover label.sk-toggleable__label {background-color: #d4ebff;}#sk-container-id-3 div.sk-serial::before {content: \"\";position: absolute;border-left: 1px solid gray;box-sizing: border-box;top: 0;bottom: 0;left: 50%;z-index: 0;}#sk-container-id-3 div.sk-serial {display: flex;flex-direction: column;align-items: center;background-color: white;padding-right: 0.2em;padding-left: 0.2em;position: relative;}#sk-container-id-3 div.sk-item {position: relative;z-index: 1;}#sk-container-id-3 div.sk-parallel {display: flex;align-items: stretch;justify-content: center;background-color: white;position: relative;}#sk-container-id-3 div.sk-item::before, #sk-container-id-3 div.sk-parallel-item::before {content: \"\";position: absolute;border-left: 1px solid gray;box-sizing: border-box;top: 0;bottom: 0;left: 50%;z-index: -1;}#sk-container-id-3 div.sk-parallel-item {display: flex;flex-direction: column;z-index: 1;position: relative;background-color: white;}#sk-container-id-3 div.sk-parallel-item:first-child::after {align-self: flex-end;width: 50%;}#sk-container-id-3 div.sk-parallel-item:last-child::after {align-self: flex-start;width: 50%;}#sk-container-id-3 div.sk-parallel-item:only-child::after {width: 0;}#sk-container-id-3 div.sk-dashed-wrapped {border: 1px dashed gray;margin: 0 0.4em 0.5em 0.4em;box-sizing: border-box;padding-bottom: 0.4em;background-color: white;}#sk-container-id-3 div.sk-label label {font-family: monospace;font-weight: bold;display: inline-block;line-height: 1.2em;}#sk-container-id-3 div.sk-label-container {text-align: center;}#sk-container-id-3 div.sk-container {/* jupyter's `normalize.less` sets `[hidden] { display: none; }` but bootstrap.min.css set `[hidden] { display: none !important; }` so we also need the `!important` here to be able to override the default hidden behavior on the sphinx rendered scikit-learn.org. See: https://github.com/scikit-learn/scikit-learn/issues/21755 */display: inline-block !important;position: relative;}#sk-container-id-3 div.sk-text-repr-fallback {display: none;}</style><div id=\"sk-container-id-3\" class=\"sk-top-container\"><div class=\"sk-text-repr-fallback\"><pre>RandomForestClassifier(max_features=6, n_estimators=70, n_jobs=-1,\n",
       "                       oob_score=True)</pre><b>In a Jupyter environment, please rerun this cell to show the HTML representation or trust the notebook. <br />On GitHub, the HTML representation is unable to render, please try loading this page with nbviewer.org.</b></div><div class=\"sk-container\" hidden><div class=\"sk-item\"><div class=\"sk-estimator sk-toggleable\"><input class=\"sk-toggleable__control sk-hidden--visually\" id=\"sk-estimator-id-3\" type=\"checkbox\" checked><label for=\"sk-estimator-id-3\" class=\"sk-toggleable__label sk-toggleable__label-arrow\">RandomForestClassifier</label><div class=\"sk-toggleable__content\"><pre>RandomForestClassifier(max_features=6, n_estimators=70, n_jobs=-1,\n",
       "                       oob_score=True)</pre></div></div></div></div></div>"
      ],
      "text/plain": [
       "RandomForestClassifier(max_features=6, n_estimators=70, n_jobs=-1,\n",
       "                       oob_score=True)"
      ]
     },
     "execution_count": 122,
     "metadata": {},
     "output_type": "execute_result"
    }
   ],
   "source": [
    "radm_clf = RandomForestClassifier(oob_score=True,n_estimators=70 , max_features=6, n_jobs=-1) # If I want the score from oob then use it .\n",
    "radm_clf.fit( train_X, train_y )"
   ]
  },
  {
   "cell_type": "code",
   "execution_count": 123,
   "id": "f0c25c88",
   "metadata": {},
   "outputs": [
    {
     "data": {
      "text/plain": [
       "array([3.12071987e-02, 1.37308606e-01, 1.51183994e-02, 1.26481381e-02,\n",
       "       2.65552929e-02, 9.36427819e-04, 1.25187969e-02, 1.61255294e-01,\n",
       "       2.41987691e-02, 1.12665465e-01, 2.11031187e-03, 3.69530163e-03,\n",
       "       2.71083875e-02, 5.44068373e-02, 0.00000000e+00, 0.00000000e+00,\n",
       "       0.00000000e+00, 0.00000000e+00, 3.23208299e-03, 0.00000000e+00,\n",
       "       0.00000000e+00, 0.00000000e+00, 0.00000000e+00, 0.00000000e+00,\n",
       "       0.00000000e+00, 0.00000000e+00, 2.84315254e-03, 2.98688418e-04,\n",
       "       0.00000000e+00, 1.98530296e-01, 1.36016562e-02, 7.36548535e-02,\n",
       "       6.81160053e-02, 3.27165699e-03, 6.78326340e-04, 1.35558479e-02,\n",
       "       3.43990646e-04, 0.00000000e+00, 0.00000000e+00, 0.00000000e+00,\n",
       "       1.40216948e-04])"
      ]
     },
     "execution_count": 123,
     "metadata": {},
     "output_type": "execute_result"
    }
   ],
   "source": [
    "### Feature importance from the Random Forest Model\n",
    "\n",
    "radm_clf.feature_importances_"
   ]
  },
  {
   "cell_type": "code",
   "execution_count": 124,
   "id": "573f30e1",
   "metadata": {},
   "outputs": [],
   "source": [
    "indices = np.argsort(radm_clf.feature_importances_)[::-1]"
   ]
  },
  {
   "cell_type": "code",
   "execution_count": 125,
   "id": "7069e642",
   "metadata": {},
   "outputs": [
    {
     "data": {
      "text/plain": [
       "<Figure size 3600x3600 with 0 Axes>"
      ]
     },
     "execution_count": 125,
     "metadata": {},
     "output_type": "execute_result"
    },
    {
     "data": {
      "image/png": "[encoded data removed]",
      "text/plain": [
       "<Figure size 432x288 with 1 Axes>"
      ]
     },
     "metadata": {
      "needs_background": "light"
     },
     "output_type": "display_data"
    }
   ],
   "source": [
    "import seaborn as sn\n",
    "\n",
    "indices = np.argsort(radm_clf.feature_importances_)[::-1]\n",
    "feature_rank = pd.DataFrame( columns = ['rank', 'feature', 'importance'] )\n",
    "for f in range(train_X.shape[1]):\n",
    "  feature_rank.loc[f] = [f+1,\n",
    "                         train_X.columns[indices[f]],\n",
    "                         radm_clf.feature_importances_[indices[f]]]\n",
    "sn.barplot( y = 'feature', x = 'importance', data = feature_rank )\n",
    "plt.Figure(figsize=(50,50))"
   ]
  },
  {
   "cell_type": "code",
   "execution_count": 127,
   "id": "0a893482",
   "metadata": {},
   "outputs": [
    {
     "name": "stdout",
     "output_type": "stream",
     "text": [
      "Fitting 5 folds for each of 9 candidates, totalling 45 fits\n"
     ]
    },
    {
     "data": {
      "text/plain": [
       "0.9998077854818801"
      ]
     },
     "execution_count": 127,
     "metadata": {},
     "output_type": "execute_result"
    }
   ],
   "source": [
    "### Tuning parameters\n",
    "\n",
    "pargrid_ada = {'n_estimators': [50, 60, 70],\n",
    "                'max_features': [5,6,7]}\n",
    "gscv_Rf = GridSearchCV(estimator=RandomForestClassifier(), \n",
    "                        param_grid=pargrid_ada, \n",
    "                        cv=5,\n",
    "                        verbose=True, n_jobs=-1)\n",
    "\n",
    "gscv_results = gscv_Rf.fit(train_X, train_y)\n",
    "gscv_results.best_score_"
   ]
  },
  {
   "cell_type": "code",
   "execution_count": 128,
   "id": "227d41df",
   "metadata": {},
   "outputs": [
    {
     "data": {
      "text/plain": [
       "{'max_features': 5, 'n_estimators': 60}"
      ]
     },
     "execution_count": 128,
     "metadata": {},
     "output_type": "execute_result"
    }
   ],
   "source": [
    "gscv_results.best_params_"
   ]
  },
  {
   "cell_type": "code",
   "execution_count": 129,
   "id": "a9c10072",
   "metadata": {},
   "outputs": [
    {
     "data": {
      "text/plain": [
       "array([0, 0, 0, ..., 0, 0, 1])"
      ]
     },
     "execution_count": 129,
     "metadata": {},
     "output_type": "execute_result"
    }
   ],
   "source": [
    "gscv_results.predict(train_X)"
   ]
  },
  {
   "cell_type": "markdown",
   "id": "bc06bcef",
   "metadata": {},
   "source": [
    "### hetrogenious ensemble"
   ]
  },
  {
   "cell_type": "code",
   "execution_count": 130,
   "id": "a5b90695",
   "metadata": {},
   "outputs": [
    {
     "name": "stdout",
     "output_type": "stream",
     "text": [
      "Fitting 5 folds for each of 3 candidates, totalling 15 fits\n"
     ]
    },
    {
     "data": {
      "text/html": [
       "<style>#sk-container-id-4 {color: black;background-color: white;}#sk-container-id-4 pre{padding: 0;}#sk-container-id-4 div.sk-toggleable {background-color: white;}#sk-container-id-4 label.sk-toggleable__label {cursor: pointer;display: block;width: 100%;margin-bottom: 0;padding: 0.3em;box-sizing: border-box;text-align: center;}#sk-container-id-4 label.sk-toggleable__label-arrow:before {content: \"▸\";float: left;margin-right: 0.25em;color: #696969;}#sk-container-id-4 label.sk-toggleable__label-arrow:hover:before {color: black;}#sk-container-id-4 div.sk-estimator:hover label.sk-toggleable__label-arrow:before {color: black;}#sk-container-id-4 div.sk-toggleable__content {max-height: 0;max-width: 0;overflow: hidden;text-align: left;background-color: #f0f8ff;}#sk-container-id-4 div.sk-toggleable__content pre {margin: 0.2em;color: black;border-radius: 0.25em;background-color: #f0f8ff;}#sk-container-id-4 input.sk-toggleable__control:checked~div.sk-toggleable__content {max-height: 200px;max-width: 100%;overflow: auto;}#sk-container-id-4 input.sk-toggleable__control:checked~label.sk-toggleable__label-arrow:before {content: \"▾\";}#sk-container-id-4 div.sk-estimator input.sk-toggleable__control:checked~label.sk-toggleable__label {background-color: #d4ebff;}#sk-container-id-4 div.sk-label input.sk-toggleable__control:checked~label.sk-toggleable__label {background-color: #d4ebff;}#sk-container-id-4 input.sk-hidden--visually {border: 0;clip: rect(1px 1px 1px 1px);clip: rect(1px, 1px, 1px, 1px);height: 1px;margin: -1px;overflow: hidden;padding: 0;position: absolute;width: 1px;}#sk-container-id-4 div.sk-estimator {font-family: monospace;background-color: #f0f8ff;border: 1px dotted black;border-radius: 0.25em;box-sizing: border-box;margin-bottom: 0.5em;}#sk-container-id-4 div.sk-estimator:hover {background-color: #d4ebff;}#sk-container-id-4 div.sk-parallel-item::after {content: \"\";width: 100%;border-bottom: 1px solid gray;flex-grow: 1;}#sk-container-id-4 div.sk-label:hover label.sk-toggleable__label {background-color: #d4ebff;}#sk-container-id-4 div.sk-serial::before {content: \"\";position: absolute;border-left: 1px solid gray;box-sizing: border-box;top: 0;bottom: 0;left: 50%;z-index: 0;}#sk-container-id-4 div.sk-serial {display: flex;flex-direction: column;align-items: center;background-color: white;padding-right: 0.2em;padding-left: 0.2em;position: relative;}#sk-container-id-4 div.sk-item {position: relative;z-index: 1;}#sk-container-id-4 div.sk-parallel {display: flex;align-items: stretch;justify-content: center;background-color: white;position: relative;}#sk-container-id-4 div.sk-item::before, #sk-container-id-4 div.sk-parallel-item::before {content: \"\";position: absolute;border-left: 1px solid gray;box-sizing: border-box;top: 0;bottom: 0;left: 50%;z-index: -1;}#sk-container-id-4 div.sk-parallel-item {display: flex;flex-direction: column;z-index: 1;position: relative;background-color: white;}#sk-container-id-4 div.sk-parallel-item:first-child::after {align-self: flex-end;width: 50%;}#sk-container-id-4 div.sk-parallel-item:last-child::after {align-self: flex-start;width: 50%;}#sk-container-id-4 div.sk-parallel-item:only-child::after {width: 0;}#sk-container-id-4 div.sk-dashed-wrapped {border: 1px dashed gray;margin: 0 0.4em 0.5em 0.4em;box-sizing: border-box;padding-bottom: 0.4em;background-color: white;}#sk-container-id-4 div.sk-label label {font-family: monospace;font-weight: bold;display: inline-block;line-height: 1.2em;}#sk-container-id-4 div.sk-label-container {text-align: center;}#sk-container-id-4 div.sk-container {/* jupyter's `normalize.less` sets `[hidden] { display: none; }` but bootstrap.min.css set `[hidden] { display: none !important; }` so we also need the `!important` here to be able to override the default hidden behavior on the sphinx rendered scikit-learn.org. See: https://github.com/scikit-learn/scikit-learn/issues/21755 */display: inline-block !important;position: relative;}#sk-container-id-4 div.sk-text-repr-fallback {display: none;}</style><div id=\"sk-container-id-4\" class=\"sk-top-container\"><div class=\"sk-text-repr-fallback\"><pre>VotingClassifier(estimators=[(&#x27;knn_model&#x27;,\n",
       "                              GridSearchCV(cv=5,\n",
       "                                           estimator=KNeighborsClassifier(),\n",
       "                                           param_grid={&#x27;n_neighbors&#x27;: [3, 4, 5,\n",
       "                                                                       6],\n",
       "                                                       &#x27;weights&#x27;: [&#x27;uniform&#x27;,\n",
       "                                                                   &#x27;distance&#x27;]},\n",
       "                                           scoring=&#x27;f1_weighted&#x27;)),\n",
       "                             (&#x27;radm_clf&#x27;,\n",
       "                              RandomForestClassifier(max_features=6,\n",
       "                                                     n_estimators=70, n_jobs=-1,\n",
       "                                                     oob_score=True)),\n",
       "                             (&#x27;tree_Model&#x27;,\n",
       "                              DecisionTreeClassifier(max_depth=4,\n",
       "                                                     max_features=4,\n",
       "                                                     max_leaf_nodes=5)),\n",
       "                             (&#x27;gscv_bagging&#x27;,\n",
       "                              GridSearchCV(cv=5, estimator=BaggingClassifier(),\n",
       "                                           n_jobs=-1,\n",
       "                                           param_grid={&#x27;n_estimators&#x27;: [50, 60,\n",
       "                                                                        70]},\n",
       "                                           verbose=True))])</pre><b>In a Jupyter environment, please rerun this cell to show the HTML representation or trust the notebook. <br />On GitHub, the HTML representation is unable to render, please try loading this page with nbviewer.org.</b></div><div class=\"sk-container\" hidden><div class=\"sk-item sk-dashed-wrapped\"><div class=\"sk-label-container\"><div class=\"sk-label sk-toggleable\"><input class=\"sk-toggleable__control sk-hidden--visually\" id=\"sk-estimator-id-4\" type=\"checkbox\" ><label for=\"sk-estimator-id-4\" class=\"sk-toggleable__label sk-toggleable__label-arrow\">VotingClassifier</label><div class=\"sk-toggleable__content\"><pre>VotingClassifier(estimators=[(&#x27;knn_model&#x27;,\n",
       "                              GridSearchCV(cv=5,\n",
       "                                           estimator=KNeighborsClassifier(),\n",
       "                                           param_grid={&#x27;n_neighbors&#x27;: [3, 4, 5,\n",
       "                                                                       6],\n",
       "                                                       &#x27;weights&#x27;: [&#x27;uniform&#x27;,\n",
       "                                                                   &#x27;distance&#x27;]},\n",
       "                                           scoring=&#x27;f1_weighted&#x27;)),\n",
       "                             (&#x27;radm_clf&#x27;,\n",
       "                              RandomForestClassifier(max_features=6,\n",
       "                                                     n_estimators=70, n_jobs=-1,\n",
       "                                                     oob_score=True)),\n",
       "                             (&#x27;tree_Model&#x27;,\n",
       "                              DecisionTreeClassifier(max_depth=4,\n",
       "                                                     max_features=4,\n",
       "                                                     max_leaf_nodes=5)),\n",
       "                             (&#x27;gscv_bagging&#x27;,\n",
       "                              GridSearchCV(cv=5, estimator=BaggingClassifier(),\n",
       "                                           n_jobs=-1,\n",
       "                                           param_grid={&#x27;n_estimators&#x27;: [50, 60,\n",
       "                                                                        70]},\n",
       "                                           verbose=True))])</pre></div></div></div><div class=\"sk-parallel\"><div class=\"sk-parallel-item\"><div class=\"sk-item\"><div class=\"sk-label-container\"><div class=\"sk-label sk-toggleable\"><label>knn_model</label></div></div><div class=\"sk-serial\"><div class=\"sk-item sk-dashed-wrapped\"><div class=\"sk-parallel\"><div class=\"sk-parallel-item\"><div class=\"sk-item\"><div class=\"sk-label-container\"><div class=\"sk-label sk-toggleable\"><input class=\"sk-toggleable__control sk-hidden--visually\" id=\"sk-estimator-id-5\" type=\"checkbox\" ><label for=\"sk-estimator-id-5\" class=\"sk-toggleable__label sk-toggleable__label-arrow\">estimator: KNeighborsClassifier</label><div class=\"sk-toggleable__content\"><pre>KNeighborsClassifier()</pre></div></div></div><div class=\"sk-serial\"><div class=\"sk-item\"><div class=\"sk-estimator sk-toggleable\"><input class=\"sk-toggleable__control sk-hidden--visually\" id=\"sk-estimator-id-6\" type=\"checkbox\" ><label for=\"sk-estimator-id-6\" class=\"sk-toggleable__label sk-toggleable__label-arrow\">KNeighborsClassifier</label><div class=\"sk-toggleable__content\"><pre>KNeighborsClassifier()</pre></div></div></div></div></div></div></div></div></div></div></div><div class=\"sk-parallel-item\"><div class=\"sk-item\"><div class=\"sk-label-container\"><div class=\"sk-label sk-toggleable\"><label>radm_clf</label></div></div><div class=\"sk-serial\"><div class=\"sk-item\"><div class=\"sk-estimator sk-toggleable\"><input class=\"sk-toggleable__control sk-hidden--visually\" id=\"sk-estimator-id-7\" type=\"checkbox\" ><label for=\"sk-estimator-id-7\" class=\"sk-toggleable__label sk-toggleable__label-arrow\">RandomForestClassifier</label><div class=\"sk-toggleable__content\"><pre>RandomForestClassifier(max_features=6, n_estimators=70, n_jobs=-1,\n",
       "                       oob_score=True)</pre></div></div></div></div></div></div><div class=\"sk-parallel-item\"><div class=\"sk-item\"><div class=\"sk-label-container\"><div class=\"sk-label sk-toggleable\"><label>tree_Model</label></div></div><div class=\"sk-serial\"><div class=\"sk-item\"><div class=\"sk-estimator sk-toggleable\"><input class=\"sk-toggleable__control sk-hidden--visually\" id=\"sk-estimator-id-8\" type=\"checkbox\" ><label for=\"sk-estimator-id-8\" class=\"sk-toggleable__label sk-toggleable__label-arrow\">DecisionTreeClassifier</label><div class=\"sk-toggleable__content\"><pre>DecisionTreeClassifier(max_depth=4, max_features=4, max_leaf_nodes=5)</pre></div></div></div></div></div></div><div class=\"sk-parallel-item\"><div class=\"sk-item\"><div class=\"sk-label-container\"><div class=\"sk-label sk-toggleable\"><label>gscv_bagging</label></div></div><div class=\"sk-serial\"><div class=\"sk-item sk-dashed-wrapped\"><div class=\"sk-parallel\"><div class=\"sk-parallel-item\"><div class=\"sk-item\"><div class=\"sk-label-container\"><div class=\"sk-label sk-toggleable\"><input class=\"sk-toggleable__control sk-hidden--visually\" id=\"sk-estimator-id-9\" type=\"checkbox\" ><label for=\"sk-estimator-id-9\" class=\"sk-toggleable__label sk-toggleable__label-arrow\">estimator: BaggingClassifier</label><div class=\"sk-toggleable__content\"><pre>BaggingClassifier()</pre></div></div></div><div class=\"sk-serial\"><div class=\"sk-item\"><div class=\"sk-estimator sk-toggleable\"><input class=\"sk-toggleable__control sk-hidden--visually\" id=\"sk-estimator-id-10\" type=\"checkbox\" ><label for=\"sk-estimator-id-10\" class=\"sk-toggleable__label sk-toggleable__label-arrow\">BaggingClassifier</label><div class=\"sk-toggleable__content\"><pre>BaggingClassifier()</pre></div></div></div></div></div></div></div></div></div></div></div></div></div></div></div>"
      ],
      "text/plain": [
       "VotingClassifier(estimators=[('knn_model',\n",
       "                              GridSearchCV(cv=5,\n",
       "                                           estimator=KNeighborsClassifier(),\n",
       "                                           param_grid={'n_neighbors': [3, 4, 5,\n",
       "                                                                       6],\n",
       "                                                       'weights': ['uniform',\n",
       "                                                                   'distance']},\n",
       "                                           scoring='f1_weighted')),\n",
       "                             ('radm_clf',\n",
       "                              RandomForestClassifier(max_features=6,\n",
       "                                                     n_estimators=70, n_jobs=-1,\n",
       "                                                     oob_score=True)),\n",
       "                             ('tree_Model',\n",
       "                              DecisionTreeClassifier(max_depth=4,\n",
       "                                                     max_features=4,\n",
       "                                                     max_leaf_nodes=5)),\n",
       "                             ('gscv_bagging',\n",
       "                              GridSearchCV(cv=5, estimator=BaggingClassifier(),\n",
       "                                           n_jobs=-1,\n",
       "                                           param_grid={'n_estimators': [50, 60,\n",
       "                                                                        70]},\n",
       "                                           verbose=True))])"
      ]
     },
     "execution_count": 130,
     "metadata": {},
     "output_type": "execute_result"
    }
   ],
   "source": [
    "from sklearn.ensemble import VotingClassifier, VotingRegressor\n",
    "\n",
    "voting_clf = VotingClassifier(estimators = [('knn_model',model), ('radm_clf',radm_clf), ('tree_Model', clf_tree),('gscv_bagging',gscv_bagging)], voting = 'hard')\n",
    "voting_clf.fit(train_X, train_y)\n",
    "\n"
   ]
  },
  {
   "cell_type": "code",
   "execution_count": 131,
   "id": "b7164ec8",
   "metadata": {},
   "outputs": [
    {
     "name": "stdout",
     "output_type": "stream",
     "text": [
      "0.9993476576833693\n",
      "0.9989193570174253\n"
     ]
    }
   ],
   "source": [
    "print(metrics.accuracy_score(test_y,voting_clf.predict(test_X)))\n",
    "print(metrics.roc_auc_score(test_y,voting_clf.predict(test_X)))"
   ]
  },
  {
   "cell_type": "markdown",
   "id": "ec74641a",
   "metadata": {},
   "source": [
    "## Boosting"
   ]
  },
  {
   "cell_type": "markdown",
   "id": "b6f46650",
   "metadata": {},
   "source": [
    "#### Ada Boosting"
   ]
  },
  {
   "cell_type": "code",
   "execution_count": 132,
   "id": "45003788",
   "metadata": {},
   "outputs": [],
   "source": [
    "pargrid_ada = {'n_estimators': [100, 200, 400],\n",
    "               'learning_rate': [10 ** x for x in range(-1, 1)]}"
   ]
  },
  {
   "cell_type": "code",
   "execution_count": 133,
   "id": "404c0ef7",
   "metadata": {},
   "outputs": [],
   "source": [
    "gscv_ada = GridSearchCV(estimator=AdaBoostClassifier(), \n",
    "                        param_grid=pargrid_ada, \n",
    "                        cv=5,\n",
    "                        verbose=True, n_jobs=-1)"
   ]
  },
  {
   "cell_type": "code",
   "execution_count": 134,
   "id": "29104b5c",
   "metadata": {},
   "outputs": [
    {
     "name": "stdout",
     "output_type": "stream",
     "text": [
      "Fitting 5 folds for each of 6 candidates, totalling 30 fits\n"
     ]
    },
    {
     "data": {
      "text/plain": [
       "{'learning_rate': 1, 'n_estimators': 200}"
      ]
     },
     "execution_count": 134,
     "metadata": {},
     "output_type": "execute_result"
    }
   ],
   "source": [
    "gscv_ada.fit(train_X, train_y)\n",
    "\n",
    "gscv_ada.best_params_"
   ]
  },
  {
   "cell_type": "code",
   "execution_count": 135,
   "id": "508380ee",
   "metadata": {},
   "outputs": [
    {
     "data": {
      "text/plain": [
       "0.9997029407828902"
      ]
     },
     "execution_count": 135,
     "metadata": {},
     "output_type": "execute_result"
    }
   ],
   "source": [
    "clf_ada = gscv_ada.best_estimator_\n",
    "\n",
    "gscv_ada.best_score_"
   ]
  },
  {
   "cell_type": "code",
   "execution_count": 136,
   "id": "82d839df",
   "metadata": {},
   "outputs": [
    {
     "data": {
      "text/html": [
       "<style>#sk-container-id-5 {color: black;background-color: white;}#sk-container-id-5 pre{padding: 0;}#sk-container-id-5 div.sk-toggleable {background-color: white;}#sk-container-id-5 label.sk-toggleable__label {cursor: pointer;display: block;width: 100%;margin-bottom: 0;padding: 0.3em;box-sizing: border-box;text-align: center;}#sk-container-id-5 label.sk-toggleable__label-arrow:before {content: \"▸\";float: left;margin-right: 0.25em;color: #696969;}#sk-container-id-5 label.sk-toggleable__label-arrow:hover:before {color: black;}#sk-container-id-5 div.sk-estimator:hover label.sk-toggleable__label-arrow:before {color: black;}#sk-container-id-5 div.sk-toggleable__content {max-height: 0;max-width: 0;overflow: hidden;text-align: left;background-color: #f0f8ff;}#sk-container-id-5 div.sk-toggleable__content pre {margin: 0.2em;color: black;border-radius: 0.25em;background-color: #f0f8ff;}#sk-container-id-5 input.sk-toggleable__control:checked~div.sk-toggleable__content {max-height: 200px;max-width: 100%;overflow: auto;}#sk-container-id-5 input.sk-toggleable__control:checked~label.sk-toggleable__label-arrow:before {content: \"▾\";}#sk-container-id-5 div.sk-estimator input.sk-toggleable__control:checked~label.sk-toggleable__label {background-color: #d4ebff;}#sk-container-id-5 div.sk-label input.sk-toggleable__control:checked~label.sk-toggleable__label {background-color: #d4ebff;}#sk-container-id-5 input.sk-hidden--visually {border: 0;clip: rect(1px 1px 1px 1px);clip: rect(1px, 1px, 1px, 1px);height: 1px;margin: -1px;overflow: hidden;padding: 0;position: absolute;width: 1px;}#sk-container-id-5 div.sk-estimator {font-family: monospace;background-color: #f0f8ff;border: 1px dotted black;border-radius: 0.25em;box-sizing: border-box;margin-bottom: 0.5em;}#sk-container-id-5 div.sk-estimator:hover {background-color: #d4ebff;}#sk-container-id-5 div.sk-parallel-item::after {content: \"\";width: 100%;border-bottom: 1px solid gray;flex-grow: 1;}#sk-container-id-5 div.sk-label:hover label.sk-toggleable__label {background-color: #d4ebff;}#sk-container-id-5 div.sk-serial::before {content: \"\";position: absolute;border-left: 1px solid gray;box-sizing: border-box;top: 0;bottom: 0;left: 50%;z-index: 0;}#sk-container-id-5 div.sk-serial {display: flex;flex-direction: column;align-items: center;background-color: white;padding-right: 0.2em;padding-left: 0.2em;position: relative;}#sk-container-id-5 div.sk-item {position: relative;z-index: 1;}#sk-container-id-5 div.sk-parallel {display: flex;align-items: stretch;justify-content: center;background-color: white;position: relative;}#sk-container-id-5 div.sk-item::before, #sk-container-id-5 div.sk-parallel-item::before {content: \"\";position: absolute;border-left: 1px solid gray;box-sizing: border-box;top: 0;bottom: 0;left: 50%;z-index: -1;}#sk-container-id-5 div.sk-parallel-item {display: flex;flex-direction: column;z-index: 1;position: relative;background-color: white;}#sk-container-id-5 div.sk-parallel-item:first-child::after {align-self: flex-end;width: 50%;}#sk-container-id-5 div.sk-parallel-item:last-child::after {align-self: flex-start;width: 50%;}#sk-container-id-5 div.sk-parallel-item:only-child::after {width: 0;}#sk-container-id-5 div.sk-dashed-wrapped {border: 1px dashed gray;margin: 0 0.4em 0.5em 0.4em;box-sizing: border-box;padding-bottom: 0.4em;background-color: white;}#sk-container-id-5 div.sk-label label {font-family: monospace;font-weight: bold;display: inline-block;line-height: 1.2em;}#sk-container-id-5 div.sk-label-container {text-align: center;}#sk-container-id-5 div.sk-container {/* jupyter's `normalize.less` sets `[hidden] { display: none; }` but bootstrap.min.css set `[hidden] { display: none !important; }` so we also need the `!important` here to be able to override the default hidden behavior on the sphinx rendered scikit-learn.org. See: https://github.com/scikit-learn/scikit-learn/issues/21755 */display: inline-block !important;position: relative;}#sk-container-id-5 div.sk-text-repr-fallback {display: none;}</style><div id=\"sk-container-id-5\" class=\"sk-top-container\"><div class=\"sk-text-repr-fallback\"><pre>AdaBoostClassifier(learning_rate=0.1, n_estimators=400)</pre><b>In a Jupyter environment, please rerun this cell to show the HTML representation or trust the notebook. <br />On GitHub, the HTML representation is unable to render, please try loading this page with nbviewer.org.</b></div><div class=\"sk-container\" hidden><div class=\"sk-item\"><div class=\"sk-estimator sk-toggleable\"><input class=\"sk-toggleable__control sk-hidden--visually\" id=\"sk-estimator-id-11\" type=\"checkbox\" checked><label for=\"sk-estimator-id-11\" class=\"sk-toggleable__label sk-toggleable__label-arrow\">AdaBoostClassifier</label><div class=\"sk-toggleable__content\"><pre>AdaBoostClassifier(learning_rate=0.1, n_estimators=400)</pre></div></div></div></div></div>"
      ],
      "text/plain": [
       "AdaBoostClassifier(learning_rate=0.1, n_estimators=400)"
      ]
     },
     "execution_count": 136,
     "metadata": {},
     "output_type": "execute_result"
    }
   ],
   "source": [
    "ad=AdaBoostClassifier(learning_rate = 0.1, n_estimators=400)\n",
    "ad.fit(train_X, train_y )"
   ]
  },
  {
   "cell_type": "code",
   "execution_count": 138,
   "id": "217049d8",
   "metadata": {},
   "outputs": [
    {
     "name": "stdout",
     "output_type": "stream",
     "text": [
      "0.9999961491311377\n",
      "0.9999674447150996\n"
     ]
    }
   ],
   "source": [
    "#Train data - AUC Score\n",
    "print(metrics.roc_auc_score(train_y, pd.DataFrame(ad.predict_proba(train_X))[1]))\n",
    "\n",
    "#Test data - AUC Score\n",
    "print(metrics.roc_auc_score(test_y, pd.DataFrame(ad.predict_proba(test_X))[1]))"
   ]
  },
  {
   "cell_type": "markdown",
   "id": "5750a9b0",
   "metadata": {},
   "source": [
    "### Gradient Boost"
   ]
  },
  {
   "cell_type": "code",
   "execution_count": 139,
   "id": "f79c7b51",
   "metadata": {},
   "outputs": [],
   "source": [
    "gscv_gbm = GridSearchCV(estimator=GradientBoostingClassifier(), \n",
    "                        param_grid=pargrid_ada, \n",
    "                        cv=5,\n",
    "                        verbose=True, n_jobs=-1)"
   ]
  },
  {
   "cell_type": "code",
   "execution_count": 140,
   "id": "1afd621c",
   "metadata": {},
   "outputs": [
    {
     "name": "stdout",
     "output_type": "stream",
     "text": [
      "Fitting 5 folds for each of 6 candidates, totalling 30 fits\n"
     ]
    },
    {
     "data": {
      "text/plain": [
       "{'learning_rate': 0.1, 'n_estimators': 400}"
      ]
     },
     "execution_count": 140,
     "metadata": {},
     "output_type": "execute_result"
    }
   ],
   "source": [
    "gscv_gbm.fit(train_X, train_y)\n",
    "\n",
    "gscv_gbm.best_params_"
   ]
  },
  {
   "cell_type": "code",
   "execution_count": 141,
   "id": "b49cf34e",
   "metadata": {},
   "outputs": [
    {
     "data": {
      "text/plain": [
       "0.9998077854818801"
      ]
     },
     "execution_count": 141,
     "metadata": {},
     "output_type": "execute_result"
    }
   ],
   "source": [
    "clf_gbm = gscv_gbm.best_estimator_\n",
    "\n",
    "gscv_gbm.best_score_"
   ]
  },
  {
   "cell_type": "code",
   "execution_count": 142,
   "id": "35ad16f5",
   "metadata": {},
   "outputs": [
    {
     "name": "stdout",
     "output_type": "stream",
     "text": [
      "1.0\n",
      "0.999992774257095\n"
     ]
    }
   ],
   "source": [
    "#Train data - AUC Score\n",
    "print(metrics.roc_auc_score(train_y, pd.DataFrame(gscv_gbm.predict_proba(train_X))[1]))\n",
    "\n",
    "#Test data - AUC Score\n",
    "print(metrics.roc_auc_score(test_y, pd.DataFrame(gscv_gbm.predict_proba(test_X))[1]))"
   ]
  },
  {
   "cell_type": "code",
   "execution_count": 143,
   "id": "e3dadde6",
   "metadata": {},
   "outputs": [
    {
     "data": {
      "text/html": [
       "<style>#sk-container-id-6 {color: black;background-color: white;}#sk-container-id-6 pre{padding: 0;}#sk-container-id-6 div.sk-toggleable {background-color: white;}#sk-container-id-6 label.sk-toggleable__label {cursor: pointer;display: block;width: 100%;margin-bottom: 0;padding: 0.3em;box-sizing: border-box;text-align: center;}#sk-container-id-6 label.sk-toggleable__label-arrow:before {content: \"▸\";float: left;margin-right: 0.25em;color: #696969;}#sk-container-id-6 label.sk-toggleable__label-arrow:hover:before {color: black;}#sk-container-id-6 div.sk-estimator:hover label.sk-toggleable__label-arrow:before {color: black;}#sk-container-id-6 div.sk-toggleable__content {max-height: 0;max-width: 0;overflow: hidden;text-align: left;background-color: #f0f8ff;}#sk-container-id-6 div.sk-toggleable__content pre {margin: 0.2em;color: black;border-radius: 0.25em;background-color: #f0f8ff;}#sk-container-id-6 input.sk-toggleable__control:checked~div.sk-toggleable__content {max-height: 200px;max-width: 100%;overflow: auto;}#sk-container-id-6 input.sk-toggleable__control:checked~label.sk-toggleable__label-arrow:before {content: \"▾\";}#sk-container-id-6 div.sk-estimator input.sk-toggleable__control:checked~label.sk-toggleable__label {background-color: #d4ebff;}#sk-container-id-6 div.sk-label input.sk-toggleable__control:checked~label.sk-toggleable__label {background-color: #d4ebff;}#sk-container-id-6 input.sk-hidden--visually {border: 0;clip: rect(1px 1px 1px 1px);clip: rect(1px, 1px, 1px, 1px);height: 1px;margin: -1px;overflow: hidden;padding: 0;position: absolute;width: 1px;}#sk-container-id-6 div.sk-estimator {font-family: monospace;background-color: #f0f8ff;border: 1px dotted black;border-radius: 0.25em;box-sizing: border-box;margin-bottom: 0.5em;}#sk-container-id-6 div.sk-estimator:hover {background-color: #d4ebff;}#sk-container-id-6 div.sk-parallel-item::after {content: \"\";width: 100%;border-bottom: 1px solid gray;flex-grow: 1;}#sk-container-id-6 div.sk-label:hover label.sk-toggleable__label {background-color: #d4ebff;}#sk-container-id-6 div.sk-serial::before {content: \"\";position: absolute;border-left: 1px solid gray;box-sizing: border-box;top: 0;bottom: 0;left: 50%;z-index: 0;}#sk-container-id-6 div.sk-serial {display: flex;flex-direction: column;align-items: center;background-color: white;padding-right: 0.2em;padding-left: 0.2em;position: relative;}#sk-container-id-6 div.sk-item {position: relative;z-index: 1;}#sk-container-id-6 div.sk-parallel {display: flex;align-items: stretch;justify-content: center;background-color: white;position: relative;}#sk-container-id-6 div.sk-item::before, #sk-container-id-6 div.sk-parallel-item::before {content: \"\";position: absolute;border-left: 1px solid gray;box-sizing: border-box;top: 0;bottom: 0;left: 50%;z-index: -1;}#sk-container-id-6 div.sk-parallel-item {display: flex;flex-direction: column;z-index: 1;position: relative;background-color: white;}#sk-container-id-6 div.sk-parallel-item:first-child::after {align-self: flex-end;width: 50%;}#sk-container-id-6 div.sk-parallel-item:last-child::after {align-self: flex-start;width: 50%;}#sk-container-id-6 div.sk-parallel-item:only-child::after {width: 0;}#sk-container-id-6 div.sk-dashed-wrapped {border: 1px dashed gray;margin: 0 0.4em 0.5em 0.4em;box-sizing: border-box;padding-bottom: 0.4em;background-color: white;}#sk-container-id-6 div.sk-label label {font-family: monospace;font-weight: bold;display: inline-block;line-height: 1.2em;}#sk-container-id-6 div.sk-label-container {text-align: center;}#sk-container-id-6 div.sk-container {/* jupyter's `normalize.less` sets `[hidden] { display: none; }` but bootstrap.min.css set `[hidden] { display: none !important; }` so we also need the `!important` here to be able to override the default hidden behavior on the sphinx rendered scikit-learn.org. See: https://github.com/scikit-learn/scikit-learn/issues/21755 */display: inline-block !important;position: relative;}#sk-container-id-6 div.sk-text-repr-fallback {display: none;}</style><div id=\"sk-container-id-6\" class=\"sk-top-container\"><div class=\"sk-text-repr-fallback\"><pre>GradientBoostingClassifier(n_estimators=400)</pre><b>In a Jupyter environment, please rerun this cell to show the HTML representation or trust the notebook. <br />On GitHub, the HTML representation is unable to render, please try loading this page with nbviewer.org.</b></div><div class=\"sk-container\" hidden><div class=\"sk-item\"><div class=\"sk-estimator sk-toggleable\"><input class=\"sk-toggleable__control sk-hidden--visually\" id=\"sk-estimator-id-12\" type=\"checkbox\" checked><label for=\"sk-estimator-id-12\" class=\"sk-toggleable__label sk-toggleable__label-arrow\">GradientBoostingClassifier</label><div class=\"sk-toggleable__content\"><pre>GradientBoostingClassifier(n_estimators=400)</pre></div></div></div></div></div>"
      ],
      "text/plain": [
       "GradientBoostingClassifier(n_estimators=400)"
      ]
     },
     "execution_count": 143,
     "metadata": {},
     "output_type": "execute_result"
    }
   ],
   "source": [
    "gbm=GradientBoostingClassifier(learning_rate = 0.1, n_estimators=400)\n",
    "gbm.fit(train_X, train_y )"
   ]
  },
  {
   "cell_type": "code",
   "execution_count": 145,
   "id": "f6fdddad",
   "metadata": {},
   "outputs": [
    {
     "name": "stdout",
     "output_type": "stream",
     "text": [
      "1.0\n",
      "0.999992774257095\n"
     ]
    }
   ],
   "source": [
    "#Train data - AUC Score\n",
    "print(metrics.roc_auc_score(train_y, pd.DataFrame(gscv_gbm.predict_proba(train_X))[1]))\n",
    "\n",
    "#Test data - AUC Score\n",
    "print(metrics.roc_auc_score(test_y, pd.DataFrame(gscv_gbm.predict_proba(test_X))[1]))\n",
    "\n"
   ]
  },
  {
   "cell_type": "markdown",
   "id": "550c5772",
   "metadata": {},
   "source": [
    "### XGBOOST"
   ]
  },
  {
   "cell_type": "code",
   "execution_count": 146,
   "id": "8b564fdf",
   "metadata": {},
   "outputs": [],
   "source": [
    "from xgboost import XGBClassifier"
   ]
  },
  {
   "cell_type": "code",
   "execution_count": 147,
   "id": "6a42b7f3",
   "metadata": {},
   "outputs": [],
   "source": [
    "#All Columns\n",
    "xgb_estimator = XGBClassifier(n_estimators=200,\n",
    "                         random_state = 42,\n",
    "                        n_jobs=-1,\n",
    "                        verbose=1)"
   ]
  },
  {
   "cell_type": "code",
   "execution_count": 148,
   "id": "a03910b5",
   "metadata": {},
   "outputs": [
    {
     "name": "stdout",
     "output_type": "stream",
     "text": [
      "[14:45:07] WARNING: C:/buildkite-agent/builds/buildkite-windows-cpu-autoscaling-group-i-0fc7796c793e6356f-1/xgboost/xgboost-ci-windows/src/learner.cc:767: \n",
      "Parameters: { \"verbose\" } are not used.\n",
      "\n"
     ]
    },
    {
     "data": {
      "text/plain": [
       "array([0, 0, 0, ..., 0, 0, 1])"
      ]
     },
     "execution_count": 148,
     "metadata": {},
     "output_type": "execute_result"
    }
   ],
   "source": [
    "test_X = test_X[test_X.columns.difference(['pred_prob'])]\n",
    "\n",
    "xgb_estimator.fit(train_X, train_y)\n",
    "\n",
    "xgb_estimator.predict(train_X)"
   ]
  },
  {
   "cell_type": "code",
   "execution_count": 149,
   "id": "1de99fb6",
   "metadata": {},
   "outputs": [
    {
     "name": "stdout",
     "output_type": "stream",
     "text": [
      "1.0\n",
      "0.9999951328784144\n"
     ]
    }
   ],
   "source": [
    "#Train data - AUC Score\n",
    "\n",
    "print ( metrics.roc_auc_score(train_y,pd.DataFrame(xgb_estimator.predict_proba(train_X))[1]))\n",
    "\n",
    "#Test data - AUC Score\n",
    "\n",
    "print ( metrics.roc_auc_score(test_y,pd.DataFrame(xgb_estimator.predict_proba(test_X))[1]))"
   ]
  },
  {
   "cell_type": "code",
   "execution_count": 150,
   "id": "141d6313",
   "metadata": {},
   "outputs": [
    {
     "name": "stdout",
     "output_type": "stream",
     "text": [
      "              precision    recall  f1-score   support\n",
      "\n",
      "           0       1.00      1.00      1.00     40488\n",
      "           1       1.00      1.00      1.00     16740\n",
      "\n",
      "    accuracy                           1.00     57228\n",
      "   macro avg       1.00      1.00      1.00     57228\n",
      "weighted avg       1.00      1.00      1.00     57228\n",
      "\n",
      "              precision    recall  f1-score   support\n",
      "\n",
      "           0       1.00      1.00      1.00     17124\n",
      "           1       1.00      1.00      1.00      7403\n",
      "\n",
      "    accuracy                           1.00     24527\n",
      "   macro avg       1.00      1.00      1.00     24527\n",
      "weighted avg       1.00      1.00      1.00     24527\n",
      "\n"
     ]
    }
   ],
   "source": [
    "print(metrics.classification_report(train_y, xgb_estimator.predict(train_X)))\n",
    "\n",
    "print(metrics.classification_report(test_y, xgb_estimator.predict(test_X)))"
   ]
  },
  {
   "cell_type": "code",
   "execution_count": 151,
   "id": "1c5483f6",
   "metadata": {},
   "outputs": [],
   "source": [
    "# with all tuning parameters\n",
    "\n",
    "xgb_estimator = XGBClassifier( learning_rate=0.01,\n",
    "                               n_estimators=1000,\n",
    "                               max_depth=5,\n",
    "                               min_child_weight=1,\n",
    "                               gamma=1,\n",
    "                               subsample=0.8,\n",
    "                               colsample_bytree=0.8,\n",
    "                               n_jobs=-1,\n",
    "                               reg_alpa=1,\n",
    "                               scale_pos_weight=1,\n",
    "                               random_state=42,\n",
    "                               verbose=1)"
   ]
  },
  {
   "cell_type": "code",
   "execution_count": 152,
   "id": "a9c85ed0",
   "metadata": {},
   "outputs": [
    {
     "name": "stdout",
     "output_type": "stream",
     "text": [
      "[14:45:22] WARNING: C:/buildkite-agent/builds/buildkite-windows-cpu-autoscaling-group-i-0fc7796c793e6356f-1/xgboost/xgboost-ci-windows/src/learner.cc:767: \n",
      "Parameters: { \"reg_alpa\", \"verbose\" } are not used.\n",
      "\n"
     ]
    },
    {
     "data": {
      "text/html": [
       "<style>#sk-container-id-7 {color: black;background-color: white;}#sk-container-id-7 pre{padding: 0;}#sk-container-id-7 div.sk-toggleable {background-color: white;}#sk-container-id-7 label.sk-toggleable__label {cursor: pointer;display: block;width: 100%;margin-bottom: 0;padding: 0.3em;box-sizing: border-box;text-align: center;}#sk-container-id-7 label.sk-toggleable__label-arrow:before {content: \"▸\";float: left;margin-right: 0.25em;color: #696969;}#sk-container-id-7 label.sk-toggleable__label-arrow:hover:before {color: black;}#sk-container-id-7 div.sk-estimator:hover label.sk-toggleable__label-arrow:before {color: black;}#sk-container-id-7 div.sk-toggleable__content {max-height: 0;max-width: 0;overflow: hidden;text-align: left;background-color: #f0f8ff;}#sk-container-id-7 div.sk-toggleable__content pre {margin: 0.2em;color: black;border-radius: 0.25em;background-color: #f0f8ff;}#sk-container-id-7 input.sk-toggleable__control:checked~div.sk-toggleable__content {max-height: 200px;max-width: 100%;overflow: auto;}#sk-container-id-7 input.sk-toggleable__control:checked~label.sk-toggleable__label-arrow:before {content: \"▾\";}#sk-container-id-7 div.sk-estimator input.sk-toggleable__control:checked~label.sk-toggleable__label {background-color: #d4ebff;}#sk-container-id-7 div.sk-label input.sk-toggleable__control:checked~label.sk-toggleable__label {background-color: #d4ebff;}#sk-container-id-7 input.sk-hidden--visually {border: 0;clip: rect(1px 1px 1px 1px);clip: rect(1px, 1px, 1px, 1px);height: 1px;margin: -1px;overflow: hidden;padding: 0;position: absolute;width: 1px;}#sk-container-id-7 div.sk-estimator {font-family: monospace;background-color: #f0f8ff;border: 1px dotted black;border-radius: 0.25em;box-sizing: border-box;margin-bottom: 0.5em;}#sk-container-id-7 div.sk-estimator:hover {background-color: #d4ebff;}#sk-container-id-7 div.sk-parallel-item::after {content: \"\";width: 100%;border-bottom: 1px solid gray;flex-grow: 1;}#sk-container-id-7 div.sk-label:hover label.sk-toggleable__label {background-color: #d4ebff;}#sk-container-id-7 div.sk-serial::before {content: \"\";position: absolute;border-left: 1px solid gray;box-sizing: border-box;top: 0;bottom: 0;left: 50%;z-index: 0;}#sk-container-id-7 div.sk-serial {display: flex;flex-direction: column;align-items: center;background-color: white;padding-right: 0.2em;padding-left: 0.2em;position: relative;}#sk-container-id-7 div.sk-item {position: relative;z-index: 1;}#sk-container-id-7 div.sk-parallel {display: flex;align-items: stretch;justify-content: center;background-color: white;position: relative;}#sk-container-id-7 div.sk-item::before, #sk-container-id-7 div.sk-parallel-item::before {content: \"\";position: absolute;border-left: 1px solid gray;box-sizing: border-box;top: 0;bottom: 0;left: 50%;z-index: -1;}#sk-container-id-7 div.sk-parallel-item {display: flex;flex-direction: column;z-index: 1;position: relative;background-color: white;}#sk-container-id-7 div.sk-parallel-item:first-child::after {align-self: flex-end;width: 50%;}#sk-container-id-7 div.sk-parallel-item:last-child::after {align-self: flex-start;width: 50%;}#sk-container-id-7 div.sk-parallel-item:only-child::after {width: 0;}#sk-container-id-7 div.sk-dashed-wrapped {border: 1px dashed gray;margin: 0 0.4em 0.5em 0.4em;box-sizing: border-box;padding-bottom: 0.4em;background-color: white;}#sk-container-id-7 div.sk-label label {font-family: monospace;font-weight: bold;display: inline-block;line-height: 1.2em;}#sk-container-id-7 div.sk-label-container {text-align: center;}#sk-container-id-7 div.sk-container {/* jupyter's `normalize.less` sets `[hidden] { display: none; }` but bootstrap.min.css set `[hidden] { display: none !important; }` so we also need the `!important` here to be able to override the default hidden behavior on the sphinx rendered scikit-learn.org. See: https://github.com/scikit-learn/scikit-learn/issues/21755 */display: inline-block !important;position: relative;}#sk-container-id-7 div.sk-text-repr-fallback {display: none;}</style><div id=\"sk-container-id-7\" class=\"sk-top-container\"><div class=\"sk-text-repr-fallback\"><pre>XGBClassifier(base_score=None, booster=None, callbacks=None,\n",
       "              colsample_bylevel=None, colsample_bynode=None,\n",
       "              colsample_bytree=0.8, early_stopping_rounds=None,\n",
       "              enable_categorical=False, eval_metric=None, feature_types=None,\n",
       "              gamma=1, gpu_id=None, grow_policy=None, importance_type=None,\n",
       "              interaction_constraints=None, learning_rate=0.01, max_bin=None,\n",
       "              max_cat_threshold=None, max_cat_to_onehot=None,\n",
       "              max_delta_step=None, max_depth=5, max_leaves=None,\n",
       "              min_child_weight=1, missing=nan, monotone_constraints=None,\n",
       "              n_estimators=1000, n_jobs=-1, num_parallel_tree=None,\n",
       "              predictor=None, random_state=42, ...)</pre><b>In a Jupyter environment, please rerun this cell to show the HTML representation or trust the notebook. <br />On GitHub, the HTML representation is unable to render, please try loading this page with nbviewer.org.</b></div><div class=\"sk-container\" hidden><div class=\"sk-item\"><div class=\"sk-estimator sk-toggleable\"><input class=\"sk-toggleable__control sk-hidden--visually\" id=\"sk-estimator-id-13\" type=\"checkbox\" checked><label for=\"sk-estimator-id-13\" class=\"sk-toggleable__label sk-toggleable__label-arrow\">XGBClassifier</label><div class=\"sk-toggleable__content\"><pre>XGBClassifier(base_score=None, booster=None, callbacks=None,\n",
       "              colsample_bylevel=None, colsample_bynode=None,\n",
       "              colsample_bytree=0.8, early_stopping_rounds=None,\n",
       "              enable_categorical=False, eval_metric=None, feature_types=None,\n",
       "              gamma=1, gpu_id=None, grow_policy=None, importance_type=None,\n",
       "              interaction_constraints=None, learning_rate=0.01, max_bin=None,\n",
       "              max_cat_threshold=None, max_cat_to_onehot=None,\n",
       "              max_delta_step=None, max_depth=5, max_leaves=None,\n",
       "              min_child_weight=1, missing=nan, monotone_constraints=None,\n",
       "              n_estimators=1000, n_jobs=-1, num_parallel_tree=None,\n",
       "              predictor=None, random_state=42, ...)</pre></div></div></div></div></div>"
      ],
      "text/plain": [
       "XGBClassifier(base_score=None, booster=None, callbacks=None,\n",
       "              colsample_bylevel=None, colsample_bynode=None,\n",
       "              colsample_bytree=0.8, early_stopping_rounds=None,\n",
       "              enable_categorical=False, eval_metric=None, feature_types=None,\n",
       "              gamma=1, gpu_id=None, grow_policy=None, importance_type=None,\n",
       "              interaction_constraints=None, learning_rate=0.01, max_bin=None,\n",
       "              max_cat_threshold=None, max_cat_to_onehot=None,\n",
       "              max_delta_step=None, max_depth=5, max_leaves=None,\n",
       "              min_child_weight=1, missing=nan, monotone_constraints=None,\n",
       "              n_estimators=1000, n_jobs=-1, num_parallel_tree=None,\n",
       "              predictor=None, random_state=42, ...)"
      ]
     },
     "execution_count": 152,
     "metadata": {},
     "output_type": "execute_result"
    }
   ],
   "source": [
    "xgb_estimator.fit(train_X, train_y)"
   ]
  },
  {
   "cell_type": "code",
   "execution_count": 153,
   "id": "b23f7aed",
   "metadata": {},
   "outputs": [
    {
     "name": "stdout",
     "output_type": "stream",
     "text": [
      "0.9999999970491427\n",
      "0.9999918592066837\n"
     ]
    }
   ],
   "source": [
    "print(metrics.roc_auc_score(train_y,pd.DataFrame(xgb_estimator.predict_proba(train_X))[1]))\n",
    "\n",
    "print(metrics.roc_auc_score(test_y,pd.DataFrame(xgb_estimator.predict_proba(test_X))[1]))"
   ]
  },
  {
   "cell_type": "code",
   "execution_count": 154,
   "id": "cce9c4c2",
   "metadata": {},
   "outputs": [
    {
     "name": "stdout",
     "output_type": "stream",
     "text": [
      "              precision    recall  f1-score   support\n",
      "\n",
      "           0       1.00      1.00      1.00     40488\n",
      "           1       1.00      1.00      1.00     16740\n",
      "\n",
      "    accuracy                           1.00     57228\n",
      "   macro avg       1.00      1.00      1.00     57228\n",
      "weighted avg       1.00      1.00      1.00     57228\n",
      "\n",
      "              precision    recall  f1-score   support\n",
      "\n",
      "           0       1.00      1.00      1.00     17124\n",
      "           1       1.00      1.00      1.00      7403\n",
      "\n",
      "    accuracy                           1.00     24527\n",
      "   macro avg       1.00      1.00      1.00     24527\n",
      "weighted avg       1.00      1.00      1.00     24527\n",
      "\n"
     ]
    }
   ],
   "source": [
    "print(metrics.classification_report(train_y, xgb_estimator.predict(train_X)))\n",
    "\n",
    "print(metrics.classification_report(test_y, xgb_estimator.predict(test_X)))"
   ]
  },
  {
   "cell_type": "markdown",
   "id": "dbe53de7",
   "metadata": {},
   "source": [
    "## Naive Bayes "
   ]
  },
  {
   "cell_type": "code",
   "execution_count": 155,
   "id": "841a6757",
   "metadata": {},
   "outputs": [
    {
     "data": {
      "text/html": [
       "<style>#sk-container-id-8 {color: black;background-color: white;}#sk-container-id-8 pre{padding: 0;}#sk-container-id-8 div.sk-toggleable {background-color: white;}#sk-container-id-8 label.sk-toggleable__label {cursor: pointer;display: block;width: 100%;margin-bottom: 0;padding: 0.3em;box-sizing: border-box;text-align: center;}#sk-container-id-8 label.sk-toggleable__label-arrow:before {content: \"▸\";float: left;margin-right: 0.25em;color: #696969;}#sk-container-id-8 label.sk-toggleable__label-arrow:hover:before {color: black;}#sk-container-id-8 div.sk-estimator:hover label.sk-toggleable__label-arrow:before {color: black;}#sk-container-id-8 div.sk-toggleable__content {max-height: 0;max-width: 0;overflow: hidden;text-align: left;background-color: #f0f8ff;}#sk-container-id-8 div.sk-toggleable__content pre {margin: 0.2em;color: black;border-radius: 0.25em;background-color: #f0f8ff;}#sk-container-id-8 input.sk-toggleable__control:checked~div.sk-toggleable__content {max-height: 200px;max-width: 100%;overflow: auto;}#sk-container-id-8 input.sk-toggleable__control:checked~label.sk-toggleable__label-arrow:before {content: \"▾\";}#sk-container-id-8 div.sk-estimator input.sk-toggleable__control:checked~label.sk-toggleable__label {background-color: #d4ebff;}#sk-container-id-8 div.sk-label input.sk-toggleable__control:checked~label.sk-toggleable__label {background-color: #d4ebff;}#sk-container-id-8 input.sk-hidden--visually {border: 0;clip: rect(1px 1px 1px 1px);clip: rect(1px, 1px, 1px, 1px);height: 1px;margin: -1px;overflow: hidden;padding: 0;position: absolute;width: 1px;}#sk-container-id-8 div.sk-estimator {font-family: monospace;background-color: #f0f8ff;border: 1px dotted black;border-radius: 0.25em;box-sizing: border-box;margin-bottom: 0.5em;}#sk-container-id-8 div.sk-estimator:hover {background-color: #d4ebff;}#sk-container-id-8 div.sk-parallel-item::after {content: \"\";width: 100%;border-bottom: 1px solid gray;flex-grow: 1;}#sk-container-id-8 div.sk-label:hover label.sk-toggleable__label {background-color: #d4ebff;}#sk-container-id-8 div.sk-serial::before {content: \"\";position: absolute;border-left: 1px solid gray;box-sizing: border-box;top: 0;bottom: 0;left: 50%;z-index: 0;}#sk-container-id-8 div.sk-serial {display: flex;flex-direction: column;align-items: center;background-color: white;padding-right: 0.2em;padding-left: 0.2em;position: relative;}#sk-container-id-8 div.sk-item {position: relative;z-index: 1;}#sk-container-id-8 div.sk-parallel {display: flex;align-items: stretch;justify-content: center;background-color: white;position: relative;}#sk-container-id-8 div.sk-item::before, #sk-container-id-8 div.sk-parallel-item::before {content: \"\";position: absolute;border-left: 1px solid gray;box-sizing: border-box;top: 0;bottom: 0;left: 50%;z-index: -1;}#sk-container-id-8 div.sk-parallel-item {display: flex;flex-direction: column;z-index: 1;position: relative;background-color: white;}#sk-container-id-8 div.sk-parallel-item:first-child::after {align-self: flex-end;width: 50%;}#sk-container-id-8 div.sk-parallel-item:last-child::after {align-self: flex-start;width: 50%;}#sk-container-id-8 div.sk-parallel-item:only-child::after {width: 0;}#sk-container-id-8 div.sk-dashed-wrapped {border: 1px dashed gray;margin: 0 0.4em 0.5em 0.4em;box-sizing: border-box;padding-bottom: 0.4em;background-color: white;}#sk-container-id-8 div.sk-label label {font-family: monospace;font-weight: bold;display: inline-block;line-height: 1.2em;}#sk-container-id-8 div.sk-label-container {text-align: center;}#sk-container-id-8 div.sk-container {/* jupyter's `normalize.less` sets `[hidden] { display: none; }` but bootstrap.min.css set `[hidden] { display: none !important; }` so we also need the `!important` here to be able to override the default hidden behavior on the sphinx rendered scikit-learn.org. See: https://github.com/scikit-learn/scikit-learn/issues/21755 */display: inline-block !important;position: relative;}#sk-container-id-8 div.sk-text-repr-fallback {display: none;}</style><div id=\"sk-container-id-8\" class=\"sk-top-container\"><div class=\"sk-text-repr-fallback\"><pre>GaussianNB()</pre><b>In a Jupyter environment, please rerun this cell to show the HTML representation or trust the notebook. <br />On GitHub, the HTML representation is unable to render, please try loading this page with nbviewer.org.</b></div><div class=\"sk-container\" hidden><div class=\"sk-item\"><div class=\"sk-estimator sk-toggleable\"><input class=\"sk-toggleable__control sk-hidden--visually\" id=\"sk-estimator-id-14\" type=\"checkbox\" checked><label for=\"sk-estimator-id-14\" class=\"sk-toggleable__label sk-toggleable__label-arrow\">GaussianNB</label><div class=\"sk-toggleable__content\"><pre>GaussianNB()</pre></div></div></div></div></div>"
      ],
      "text/plain": [
       "GaussianNB()"
      ]
     },
     "execution_count": 155,
     "metadata": {},
     "output_type": "execute_result"
    }
   ],
   "source": [
    "nb_clf = GaussianNB()\n",
    "nb_clf.fit(train_X, train_y)"
   ]
  },
  {
   "cell_type": "code",
   "execution_count": 156,
   "id": "e274be79",
   "metadata": {},
   "outputs": [
    {
     "name": "stdout",
     "output_type": "stream",
     "text": [
      "[[17063    61]\n",
      " [  164  7239]]\n",
      "0.9908264361723814\n"
     ]
    }
   ],
   "source": [
    "print (metrics.confusion_matrix( test_y,nb_clf.predict( test_X) ))\n",
    "\n",
    "print ( metrics.accuracy_score( test_y, nb_clf.predict( test_X ) ))"
   ]
  },
  {
   "cell_type": "markdown",
   "id": "78a5780d",
   "metadata": {},
   "source": [
    "### Hetrogenious Models"
   ]
  },
  {
   "cell_type": "code",
   "execution_count": 157,
   "id": "72746d21",
   "metadata": {},
   "outputs": [
    {
     "name": "stdout",
     "output_type": "stream",
     "text": [
      "Fitting 5 folds for each of 6 candidates, totalling 30 fits\n",
      "[14:51:58] WARNING: C:/buildkite-agent/builds/buildkite-windows-cpu-autoscaling-group-i-0fc7796c793e6356f-1/xgboost/xgboost-ci-windows/src/learner.cc:767: \n",
      "Parameters: { \"reg_alpa\", \"verbose\" } are not used.\n",
      "\n"
     ]
    },
    {
     "data": {
      "text/html": [
       "<style>#sk-container-id-9 {color: black;background-color: white;}#sk-container-id-9 pre{padding: 0;}#sk-container-id-9 div.sk-toggleable {background-color: white;}#sk-container-id-9 label.sk-toggleable__label {cursor: pointer;display: block;width: 100%;margin-bottom: 0;padding: 0.3em;box-sizing: border-box;text-align: center;}#sk-container-id-9 label.sk-toggleable__label-arrow:before {content: \"▸\";float: left;margin-right: 0.25em;color: #696969;}#sk-container-id-9 label.sk-toggleable__label-arrow:hover:before {color: black;}#sk-container-id-9 div.sk-estimator:hover label.sk-toggleable__label-arrow:before {color: black;}#sk-container-id-9 div.sk-toggleable__content {max-height: 0;max-width: 0;overflow: hidden;text-align: left;background-color: #f0f8ff;}#sk-container-id-9 div.sk-toggleable__content pre {margin: 0.2em;color: black;border-radius: 0.25em;background-color: #f0f8ff;}#sk-container-id-9 input.sk-toggleable__control:checked~div.sk-toggleable__content {max-height: 200px;max-width: 100%;overflow: auto;}#sk-container-id-9 input.sk-toggleable__control:checked~label.sk-toggleable__label-arrow:before {content: \"▾\";}#sk-container-id-9 div.sk-estimator input.sk-toggleable__control:checked~label.sk-toggleable__label {background-color: #d4ebff;}#sk-container-id-9 div.sk-label input.sk-toggleable__control:checked~label.sk-toggleable__label {background-color: #d4ebff;}#sk-container-id-9 input.sk-hidden--visually {border: 0;clip: rect(1px 1px 1px 1px);clip: rect(1px, 1px, 1px, 1px);height: 1px;margin: -1px;overflow: hidden;padding: 0;position: absolute;width: 1px;}#sk-container-id-9 div.sk-estimator {font-family: monospace;background-color: #f0f8ff;border: 1px dotted black;border-radius: 0.25em;box-sizing: border-box;margin-bottom: 0.5em;}#sk-container-id-9 div.sk-estimator:hover {background-color: #d4ebff;}#sk-container-id-9 div.sk-parallel-item::after {content: \"\";width: 100%;border-bottom: 1px solid gray;flex-grow: 1;}#sk-container-id-9 div.sk-label:hover label.sk-toggleable__label {background-color: #d4ebff;}#sk-container-id-9 div.sk-serial::before {content: \"\";position: absolute;border-left: 1px solid gray;box-sizing: border-box;top: 0;bottom: 0;left: 50%;z-index: 0;}#sk-container-id-9 div.sk-serial {display: flex;flex-direction: column;align-items: center;background-color: white;padding-right: 0.2em;padding-left: 0.2em;position: relative;}#sk-container-id-9 div.sk-item {position: relative;z-index: 1;}#sk-container-id-9 div.sk-parallel {display: flex;align-items: stretch;justify-content: center;background-color: white;position: relative;}#sk-container-id-9 div.sk-item::before, #sk-container-id-9 div.sk-parallel-item::before {content: \"\";position: absolute;border-left: 1px solid gray;box-sizing: border-box;top: 0;bottom: 0;left: 50%;z-index: -1;}#sk-container-id-9 div.sk-parallel-item {display: flex;flex-direction: column;z-index: 1;position: relative;background-color: white;}#sk-container-id-9 div.sk-parallel-item:first-child::after {align-self: flex-end;width: 50%;}#sk-container-id-9 div.sk-parallel-item:last-child::after {align-self: flex-start;width: 50%;}#sk-container-id-9 div.sk-parallel-item:only-child::after {width: 0;}#sk-container-id-9 div.sk-dashed-wrapped {border: 1px dashed gray;margin: 0 0.4em 0.5em 0.4em;box-sizing: border-box;padding-bottom: 0.4em;background-color: white;}#sk-container-id-9 div.sk-label label {font-family: monospace;font-weight: bold;display: inline-block;line-height: 1.2em;}#sk-container-id-9 div.sk-label-container {text-align: center;}#sk-container-id-9 div.sk-container {/* jupyter's `normalize.less` sets `[hidden] { display: none; }` but bootstrap.min.css set `[hidden] { display: none !important; }` so we also need the `!important` here to be able to override the default hidden behavior on the sphinx rendered scikit-learn.org. See: https://github.com/scikit-learn/scikit-learn/issues/21755 */display: inline-block !important;position: relative;}#sk-container-id-9 div.sk-text-repr-fallback {display: none;}</style><div id=\"sk-container-id-9\" class=\"sk-top-container\"><div class=\"sk-text-repr-fallback\"><pre>VotingClassifier(estimators=[(&#x27;gradient_bost&#x27;,\n",
       "                              GridSearchCV(cv=5,\n",
       "                                           estimator=GradientBoostingClassifier(),\n",
       "                                           n_jobs=-1,\n",
       "                                           param_grid={&#x27;learning_rate&#x27;: [0.1,\n",
       "                                                                         1],\n",
       "                                                       &#x27;n_estimators&#x27;: [100,\n",
       "                                                                        200,\n",
       "                                                                        400]},\n",
       "                                           verbose=True)),\n",
       "                             (&#x27;adaboost&#x27;,\n",
       "                              AdaBoostClassifier(learning_rate=0.1,\n",
       "                                                 n_estimators=400)),\n",
       "                             (&#x27;xgbm&#x27;,\n",
       "                              XGBClassifier(base_score=None, booster=None,\n",
       "                                            callbacks=None,\n",
       "                                            colsample_bylevel=None...\n",
       "                                            gpu_id=None, grow_policy=None,\n",
       "                                            importance_type=None,\n",
       "                                            interaction_constraints=None,\n",
       "                                            learning_rate=0.01, max_bin=None,\n",
       "                                            max_cat_threshold=None,\n",
       "                                            max_cat_to_onehot=None,\n",
       "                                            max_delta_step=None, max_depth=5,\n",
       "                                            max_leaves=None, min_child_weight=1,\n",
       "                                            missing=nan,\n",
       "                                            monotone_constraints=None,\n",
       "                                            n_estimators=1000, n_jobs=-1,\n",
       "                                            num_parallel_tree=None,\n",
       "                                            predictor=None, random_state=42, ...))])</pre><b>In a Jupyter environment, please rerun this cell to show the HTML representation or trust the notebook. <br />On GitHub, the HTML representation is unable to render, please try loading this page with nbviewer.org.</b></div><div class=\"sk-container\" hidden><div class=\"sk-item sk-dashed-wrapped\"><div class=\"sk-label-container\"><div class=\"sk-label sk-toggleable\"><input class=\"sk-toggleable__control sk-hidden--visually\" id=\"sk-estimator-id-15\" type=\"checkbox\" ><label for=\"sk-estimator-id-15\" class=\"sk-toggleable__label sk-toggleable__label-arrow\">VotingClassifier</label><div class=\"sk-toggleable__content\"><pre>VotingClassifier(estimators=[(&#x27;gradient_bost&#x27;,\n",
       "                              GridSearchCV(cv=5,\n",
       "                                           estimator=GradientBoostingClassifier(),\n",
       "                                           n_jobs=-1,\n",
       "                                           param_grid={&#x27;learning_rate&#x27;: [0.1,\n",
       "                                                                         1],\n",
       "                                                       &#x27;n_estimators&#x27;: [100,\n",
       "                                                                        200,\n",
       "                                                                        400]},\n",
       "                                           verbose=True)),\n",
       "                             (&#x27;adaboost&#x27;,\n",
       "                              AdaBoostClassifier(learning_rate=0.1,\n",
       "                                                 n_estimators=400)),\n",
       "                             (&#x27;xgbm&#x27;,\n",
       "                              XGBClassifier(base_score=None, booster=None,\n",
       "                                            callbacks=None,\n",
       "                                            colsample_bylevel=None...\n",
       "                                            gpu_id=None, grow_policy=None,\n",
       "                                            importance_type=None,\n",
       "                                            interaction_constraints=None,\n",
       "                                            learning_rate=0.01, max_bin=None,\n",
       "                                            max_cat_threshold=None,\n",
       "                                            max_cat_to_onehot=None,\n",
       "                                            max_delta_step=None, max_depth=5,\n",
       "                                            max_leaves=None, min_child_weight=1,\n",
       "                                            missing=nan,\n",
       "                                            monotone_constraints=None,\n",
       "                                            n_estimators=1000, n_jobs=-1,\n",
       "                                            num_parallel_tree=None,\n",
       "                                            predictor=None, random_state=42, ...))])</pre></div></div></div><div class=\"sk-parallel\"><div class=\"sk-parallel-item\"><div class=\"sk-item\"><div class=\"sk-label-container\"><div class=\"sk-label sk-toggleable\"><label>gradient_bost</label></div></div><div class=\"sk-serial\"><div class=\"sk-item sk-dashed-wrapped\"><div class=\"sk-parallel\"><div class=\"sk-parallel-item\"><div class=\"sk-item\"><div class=\"sk-label-container\"><div class=\"sk-label sk-toggleable\"><input class=\"sk-toggleable__control sk-hidden--visually\" id=\"sk-estimator-id-16\" type=\"checkbox\" ><label for=\"sk-estimator-id-16\" class=\"sk-toggleable__label sk-toggleable__label-arrow\">estimator: GradientBoostingClassifier</label><div class=\"sk-toggleable__content\"><pre>GradientBoostingClassifier()</pre></div></div></div><div class=\"sk-serial\"><div class=\"sk-item\"><div class=\"sk-estimator sk-toggleable\"><input class=\"sk-toggleable__control sk-hidden--visually\" id=\"sk-estimator-id-17\" type=\"checkbox\" ><label for=\"sk-estimator-id-17\" class=\"sk-toggleable__label sk-toggleable__label-arrow\">GradientBoostingClassifier</label><div class=\"sk-toggleable__content\"><pre>GradientBoostingClassifier()</pre></div></div></div></div></div></div></div></div></div></div></div><div class=\"sk-parallel-item\"><div class=\"sk-item\"><div class=\"sk-label-container\"><div class=\"sk-label sk-toggleable\"><label>adaboost</label></div></div><div class=\"sk-serial\"><div class=\"sk-item\"><div class=\"sk-estimator sk-toggleable\"><input class=\"sk-toggleable__control sk-hidden--visually\" id=\"sk-estimator-id-18\" type=\"checkbox\" ><label for=\"sk-estimator-id-18\" class=\"sk-toggleable__label sk-toggleable__label-arrow\">AdaBoostClassifier</label><div class=\"sk-toggleable__content\"><pre>AdaBoostClassifier(learning_rate=0.1, n_estimators=400)</pre></div></div></div></div></div></div><div class=\"sk-parallel-item\"><div class=\"sk-item\"><div class=\"sk-label-container\"><div class=\"sk-label sk-toggleable\"><label>xgbm</label></div></div><div class=\"sk-serial\"><div class=\"sk-item\"><div class=\"sk-estimator sk-toggleable\"><input class=\"sk-toggleable__control sk-hidden--visually\" id=\"sk-estimator-id-19\" type=\"checkbox\" ><label for=\"sk-estimator-id-19\" class=\"sk-toggleable__label sk-toggleable__label-arrow\">XGBClassifier</label><div class=\"sk-toggleable__content\"><pre>XGBClassifier(base_score=None, booster=None, callbacks=None,\n",
       "              colsample_bylevel=None, colsample_bynode=None,\n",
       "              colsample_bytree=0.8, early_stopping_rounds=None,\n",
       "              enable_categorical=False, eval_metric=None, feature_types=None,\n",
       "              gamma=1, gpu_id=None, grow_policy=None, importance_type=None,\n",
       "              interaction_constraints=None, learning_rate=0.01, max_bin=None,\n",
       "              max_cat_threshold=None, max_cat_to_onehot=None,\n",
       "              max_delta_step=None, max_depth=5, max_leaves=None,\n",
       "              min_child_weight=1, missing=nan, monotone_constraints=None,\n",
       "              n_estimators=1000, n_jobs=-1, num_parallel_tree=None,\n",
       "              predictor=None, random_state=42, ...)</pre></div></div></div></div></div></div></div></div></div></div>"
      ],
      "text/plain": [
       "VotingClassifier(estimators=[('gradient_bost',\n",
       "                              GridSearchCV(cv=5,\n",
       "                                           estimator=GradientBoostingClassifier(),\n",
       "                                           n_jobs=-1,\n",
       "                                           param_grid={'learning_rate': [0.1,\n",
       "                                                                         1],\n",
       "                                                       'n_estimators': [100,\n",
       "                                                                        200,\n",
       "                                                                        400]},\n",
       "                                           verbose=True)),\n",
       "                             ('adaboost',\n",
       "                              AdaBoostClassifier(learning_rate=0.1,\n",
       "                                                 n_estimators=400)),\n",
       "                             ('xgbm',\n",
       "                              XGBClassifier(base_score=None, booster=None,\n",
       "                                            callbacks=None,\n",
       "                                            colsample_bylevel=None...\n",
       "                                            gpu_id=None, grow_policy=None,\n",
       "                                            importance_type=None,\n",
       "                                            interaction_constraints=None,\n",
       "                                            learning_rate=0.01, max_bin=None,\n",
       "                                            max_cat_threshold=None,\n",
       "                                            max_cat_to_onehot=None,\n",
       "                                            max_delta_step=None, max_depth=5,\n",
       "                                            max_leaves=None, min_child_weight=1,\n",
       "                                            missing=nan,\n",
       "                                            monotone_constraints=None,\n",
       "                                            n_estimators=1000, n_jobs=-1,\n",
       "                                            num_parallel_tree=None,\n",
       "                                            predictor=None, random_state=42, ...))])"
      ]
     },
     "execution_count": 157,
     "metadata": {},
     "output_type": "execute_result"
    }
   ],
   "source": [
    "voting_clf = VotingClassifier(estimators = [ ('gradient_bost',gscv_gbm), ('adaboost', ad), ('xgbm',xgb_estimator)], voting = 'hard')\n",
    "voting_clf.fit(train_X, train_y)"
   ]
  },
  {
   "cell_type": "code",
   "execution_count": 158,
   "id": "90e6b8b7",
   "metadata": {},
   "outputs": [
    {
     "name": "stdout",
     "output_type": "stream",
     "text": [
      "0.9995922860521058\n",
      "0.9993245981358909\n"
     ]
    }
   ],
   "source": [
    "print(metrics.accuracy_score(test_y,voting_clf.predict(test_X)))\n",
    "print(metrics.roc_auc_score(test_y,voting_clf.predict(test_X)))"
   ]
  },
  {
   "cell_type": "markdown",
   "id": "1cb61535",
   "metadata": {},
   "source": [
    "## Support Vector Machines (SVC)"
   ]
  },
  {
   "cell_type": "code",
   "execution_count": null,
   "id": "53d99f63",
   "metadata": {},
   "outputs": [],
   "source": [
    "# SVC is taking lot of time in running so I just paste a code for reference only . "
   ]
  },
  {
   "cell_type": "raw",
   "id": "101e20fc",
   "metadata": {},
   "source": [
    "model = SVC(kernel='rbf', class_weight='balanced')\n",
    "# by default SVC will give output as 0 & 1 and if we want output to be in probability i can use probability=True.\n",
    "# tolerance means the min. difference we need between 2 iterations .Otherwise no use of it ..\n",
    "# if i know tuning parameter than i can use it directly otherwise i will use GridSearchCV .."
   ]
  },
  {
   "cell_type": "raw",
   "id": "7669a9e1",
   "metadata": {},
   "source": [
    "from sklearn.model_selection import GridSearchCV\n",
    "param_grid = {'C': [1, 5],\n",
    "              'gamma': [0.0001, 0.0005]}\n",
    "grid = GridSearchCV(model, param_grid)\n",
    "\n",
    "grid.fit(train_X, train_y)"
   ]
  },
  {
   "cell_type": "raw",
   "id": "a1d3d65a",
   "metadata": {},
   "source": [
    "print(grid.best_params_)"
   ]
  },
  {
   "cell_type": "raw",
   "id": "207c2650",
   "metadata": {},
   "source": [
    "model = grid.best_estimator_\n",
    "yfit = model.predict(test_X)"
   ]
  },
  {
   "cell_type": "raw",
   "id": "5c9e3cdc",
   "metadata": {},
   "source": [
    "from sklearn.metrics import classification_report\n",
    "print(classification_report(test_y, yfit))"
   ]
  },
  {
   "cell_type": "code",
   "execution_count": null,
   "id": "03642b23",
   "metadata": {},
   "outputs": [],
   "source": []
  },
  {
   "cell_type": "code",
   "execution_count": null,
   "id": "7ea1190c",
   "metadata": {},
   "outputs": [],
   "source": []
  }
 ],
 "metadata": {
  "kernelspec": {
   "display_name": "Python 3",
   "language": "python",
   "name": "python3"
  },
  "language_info": {
   "codemirror_mode": {
    "name": "ipython",
    "version": 3
   },
   "file_extension": ".py",
   "mimetype": "text/x-python",
   "name": "python",
   "nbconvert_exporter": "python",
   "pygments_lexer": "ipython3",
   "version": "3.8.8"
  }
 },
 "nbformat": 4,
 "nbformat_minor": 5
}
